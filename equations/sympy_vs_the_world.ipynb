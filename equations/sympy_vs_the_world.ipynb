{
 "cells": [
  {
   "cell_type": "markdown",
   "metadata": {},
   "source": [
    "# Sympy vs The World\n",
    "\n",
    "**Quick summary:**\n",
    "- Generally, sympy is slow.\n",
    "    - The initial expression graph construction can be *very* slow.\n",
    "    - Solution of equation with high polynomial degree can be *extremely* slow.\n",
    "- Sympy can be quite quick if it manages to simplify the expression.\n",
    "    - On par with numpy, still slower than numba and jax.\n",
    "- If an expression is recursive and cannot be simplified, sympy will fail.\n",
    "    - Failed on 100000 recursions.\n",
    " \n",
    " \n",
    " **One-liner:** As long as performance concerned, THE WORLD WINS!"
   ]
  },
  {
   "cell_type": "code",
   "execution_count": 75,
   "metadata": {},
   "outputs": [],
   "source": [
    "import scipy as sp\n",
    "import numpy as np\n",
    "import sympy as sy\n",
    "from numba import njit, vectorize as nvectorize\n",
    "from jax import numpy as jnp, scipy as jsp, jit as jjit\n",
    "import matplotlib.pyplot as plt"
   ]
  },
  {
   "cell_type": "code",
   "execution_count": 3,
   "metadata": {},
   "outputs": [],
   "source": [
    "np.set_printoptions(precision=2)\n",
    "\n",
    "plt.style.use('seaborn')"
   ]
  },
  {
   "cell_type": "markdown",
   "metadata": {},
   "source": [
    "# Direct computation"
   ]
  },
  {
   "cell_type": "markdown",
   "metadata": {},
   "source": [
    "## Scalar 1"
   ]
  },
  {
   "cell_type": "markdown",
   "metadata": {},
   "source": [
    "### python"
   ]
  },
  {
   "cell_type": "code",
   "execution_count": 25,
   "metadata": {},
   "outputs": [
    {
     "name": "stdout",
     "output_type": "stream",
     "text": [
      "2.58 ms ± 51.4 µs per loop (mean ± std. dev. of 7 runs, 100 loops each)\n"
     ]
    }
   ],
   "source": [
    "def foo(a):\n",
    "    s = 0\n",
    "    for i in range(100000):\n",
    "        s += a\n",
    "    return s\n",
    "\n",
    "%timeit foo(5.)"
   ]
  },
  {
   "cell_type": "markdown",
   "metadata": {},
   "source": [
    "### numba"
   ]
  },
  {
   "cell_type": "code",
   "execution_count": 50,
   "metadata": {},
   "outputs": [
    {
     "name": "stdout",
     "output_type": "stream",
     "text": [
      "93 µs ± 1.73 µs per loop (mean ± std. dev. of 7 runs, 10000 loops each)\n"
     ]
    }
   ],
   "source": [
    "@njit('f8(f8)')\n",
    "def foo(a):\n",
    "    s = 0.\n",
    "    for i in range(100000):\n",
    "        s += a\n",
    "    return s\n",
    "\n",
    "%timeit foo(5.)"
   ]
  },
  {
   "cell_type": "markdown",
   "metadata": {},
   "source": [
    "### jax"
   ]
  },
  {
   "cell_type": "code",
   "execution_count": 50,
   "metadata": {},
   "outputs": [
    {
     "name": "stdout",
     "output_type": "stream",
     "text": [
      "93 µs ± 1.73 µs per loop (mean ± std. dev. of 7 runs, 10000 loops each)\n"
     ]
    }
   ],
   "source": [
    "@jjit\n",
    "def foo(a):\n",
    "    s = 0.\n",
    "    for i in range(100000):\n",
    "        s += a\n",
    "    return s\n",
    "\n",
    "%timeit foo(5.)"
   ]
  },
  {
   "cell_type": "markdown",
   "metadata": {},
   "source": [
    "### sympy"
   ]
  },
  {
   "cell_type": "code",
   "execution_count": 27,
   "metadata": {},
   "outputs": [
    {
     "name": "stdout",
     "output_type": "stream",
     "text": [
      "CPU times: user 10.2 s, sys: 0 ns, total: 10.2 s\n",
      "Wall time: 10.2 s\n"
     ]
    }
   ],
   "source": [
    "%%time\n",
    "a = sy.symbols('a')\n",
    "s = 0\n",
    "for i in range(100000):\n",
    "    s = s+a"
   ]
  },
  {
   "cell_type": "code",
   "execution_count": 35,
   "metadata": {},
   "outputs": [
    {
     "name": "stdout",
     "output_type": "stream",
     "text": [
      "172 µs ± 1.73 µs per loop (mean ± std. dev. of 7 runs, 10000 loops each)\n"
     ]
    }
   ],
   "source": [
    "%timeit _ = s.evalf(subs=dict(a=5.))"
   ]
  },
  {
   "cell_type": "markdown",
   "metadata": {},
   "source": [
    "### Scalar 2"
   ]
  },
  {
   "cell_type": "markdown",
   "metadata": {},
   "source": [
    "### python"
   ]
  },
  {
   "cell_type": "code",
   "execution_count": 89,
   "metadata": {},
   "outputs": [
    {
     "name": "stdout",
     "output_type": "stream",
     "text": [
      "21915681.339056846\n",
      "405 µs ± 7.38 µs per loop (mean ± std. dev. of 7 runs, 1000 loops each)\n"
     ]
    }
   ],
   "source": [
    "def foo(a):\n",
    "    p = 1\n",
    "    s = 0\n",
    "    for i in range(10000):\n",
    "        s += p\n",
    "        p *= a\n",
    "    return s\n",
    "\n",
    "print(foo(1.001))\n",
    "%timeit foo(1.001)"
   ]
  },
  {
   "cell_type": "markdown",
   "metadata": {},
   "source": [
    "### numba"
   ]
  },
  {
   "cell_type": "code",
   "execution_count": 58,
   "metadata": {},
   "outputs": [
    {
     "name": "stdout",
     "output_type": "stream",
     "text": [
      "21915681.339056846\n",
      "9.19 µs ± 88.9 ns per loop (mean ± std. dev. of 7 runs, 100000 loops each)\n"
     ]
    }
   ],
   "source": [
    "@njit('f8(f8)')\n",
    "def foo(a):\n",
    "    p = 1.\n",
    "    s = 0.\n",
    "    for i in range(10000):\n",
    "        s = s + p\n",
    "        p = p * a\n",
    "    return s\n",
    "\n",
    "print(foo(1.001))\n",
    "%timeit foo(1.001)"
   ]
  },
  {
   "cell_type": "markdown",
   "metadata": {},
   "source": [
    "### sympy"
   ]
  },
  {
   "cell_type": "code",
   "execution_count": 59,
   "metadata": {},
   "outputs": [
    {
     "name": "stdout",
     "output_type": "stream",
     "text": [
      "CPU times: user 3min 42s, sys: 264 ms, total: 3min 42s\n",
      "Wall time: 3min 42s\n"
     ]
    }
   ],
   "source": [
    "%%time\n",
    "a = sy.symbols('a')\n",
    "s = 0\n",
    "p = 1\n",
    "for i in range(10000):\n",
    "    s = s + p\n",
    "    p = p * a"
   ]
  },
  {
   "cell_type": "code",
   "execution_count": 63,
   "metadata": {},
   "outputs": [
    {
     "name": "stdout",
     "output_type": "stream",
     "text": [
      "21915681.3390567\n",
      "894 ms ± 8.39 ms per loop (mean ± std. dev. of 7 runs, 1 loop each)\n"
     ]
    }
   ],
   "source": [
    "print(s.evalf(subs=dict(a=1.001)))\n",
    "%timeit _ = s.evalf(subs=dict(a=1.001))"
   ]
  },
  {
   "cell_type": "code",
   "execution_count": 67,
   "metadata": {},
   "outputs": [
    {
     "ename": "RecursionError",
     "evalue": "maximum recursion depth exceeded during compilation",
     "output_type": "error",
     "traceback": [
      "\u001b[0;31m---------------------------------------------------------------------------\u001b[0m",
      "\u001b[0;31mRecursionError\u001b[0m                            Traceback (most recent call last)",
      "\u001b[0;32m<ipython-input-67-3d9b7302dbed>\u001b[0m in \u001b[0;36m<module>\u001b[0;34m\u001b[0m\n\u001b[0;32m----> 1\u001b[0;31m \u001b[0mfoo\u001b[0m \u001b[0;34m=\u001b[0m \u001b[0msy\u001b[0m\u001b[0;34m.\u001b[0m\u001b[0mlambdify\u001b[0m\u001b[0;34m(\u001b[0m\u001b[0ma\u001b[0m\u001b[0;34m,\u001b[0m \u001b[0ms\u001b[0m\u001b[0;34m)\u001b[0m\u001b[0;34m\u001b[0m\u001b[0;34m\u001b[0m\u001b[0m\n\u001b[0m\u001b[1;32m      2\u001b[0m \u001b[0mfoo\u001b[0m\u001b[0;34m(\u001b[0m\u001b[0;36m1.001\u001b[0m\u001b[0;34m)\u001b[0m\u001b[0;34m\u001b[0m\u001b[0;34m\u001b[0m\u001b[0m\n",
      "\u001b[0;32m~/dev/vfenv/ds/lib/python3.8/site-packages/sympy/utilities/lambdify.py\u001b[0m in \u001b[0;36mlambdify\u001b[0;34m(args, expr, modules, printer, use_imps, dummify)\u001b[0m\n\u001b[1;32m    851\u001b[0m     \u001b[0mfilename\u001b[0m \u001b[0;34m=\u001b[0m \u001b[0;34m'<lambdifygenerated-%s>'\u001b[0m \u001b[0;34m%\u001b[0m \u001b[0m_lambdify_generated_counter\u001b[0m\u001b[0;34m\u001b[0m\u001b[0;34m\u001b[0m\u001b[0m\n\u001b[1;32m    852\u001b[0m     \u001b[0m_lambdify_generated_counter\u001b[0m \u001b[0;34m+=\u001b[0m \u001b[0;36m1\u001b[0m\u001b[0;34m\u001b[0m\u001b[0;34m\u001b[0m\u001b[0m\n\u001b[0;32m--> 853\u001b[0;31m     \u001b[0mc\u001b[0m \u001b[0;34m=\u001b[0m \u001b[0mcompile\u001b[0m\u001b[0;34m(\u001b[0m\u001b[0mfuncstr\u001b[0m\u001b[0;34m,\u001b[0m \u001b[0mfilename\u001b[0m\u001b[0;34m,\u001b[0m \u001b[0;34m'exec'\u001b[0m\u001b[0;34m)\u001b[0m\u001b[0;34m\u001b[0m\u001b[0;34m\u001b[0m\u001b[0m\n\u001b[0m\u001b[1;32m    854\u001b[0m     \u001b[0mexec_\u001b[0m\u001b[0;34m(\u001b[0m\u001b[0mc\u001b[0m\u001b[0;34m,\u001b[0m \u001b[0mnamespace\u001b[0m\u001b[0;34m,\u001b[0m \u001b[0mfunclocals\u001b[0m\u001b[0;34m)\u001b[0m\u001b[0;34m\u001b[0m\u001b[0;34m\u001b[0m\u001b[0m\n\u001b[1;32m    855\u001b[0m     \u001b[0;31m# mtime has to be None or else linecache.checkcache will remove it\u001b[0m\u001b[0;34m\u001b[0m\u001b[0;34m\u001b[0m\u001b[0;34m\u001b[0m\u001b[0m\n",
      "\u001b[0;31mRecursionError\u001b[0m: maximum recursion depth exceeded during compilation"
     ]
    }
   ],
   "source": [
    "foo = sy.lambdify(a, s)\n",
    "foo(1.001)"
   ]
  },
  {
   "cell_type": "code",
   "execution_count": 88,
   "metadata": {},
   "outputs": [
    {
     "name": "stdout",
     "output_type": "stream",
     "text": [
      "47.3 µs ± 1.38 µs per loop (mean ± std. dev. of 7 runs, 10000 loops each)\n"
     ]
    }
   ],
   "source": [
    "# --- simplified \n",
    "a = sy.symbols('a')\n",
    "s = 0\n",
    "p = 1\n",
    "for i in range(1000):\n",
    "    s = s + p\n",
    "    p = p * a\n",
    "    \n",
    "foo = sy.lambdify(a, s)\n",
    "%timeit foo(1.001)"
   ]
  },
  {
   "cell_type": "markdown",
   "metadata": {},
   "source": [
    "## Vector 1"
   ]
  },
  {
   "cell_type": "markdown",
   "metadata": {},
   "source": [
    "### python"
   ]
  },
  {
   "cell_type": "code",
   "execution_count": 74,
   "metadata": {},
   "outputs": [
    {
     "name": "stdout",
     "output_type": "stream",
     "text": [
      "4.1 s ± 49.3 ms per loop (mean ± std. dev. of 7 runs, 1 loop each)\n"
     ]
    }
   ],
   "source": [
    "def foo(a):\n",
    "    p = 1\n",
    "    s = 0\n",
    "    for i in range(10000):\n",
    "        s += p\n",
    "        p *= a\n",
    "    return s\n",
    "\n",
    "%timeit [foo(1.001) for _ in range(10000)]"
   ]
  },
  {
   "cell_type": "markdown",
   "metadata": {},
   "source": [
    "### numpy"
   ]
  },
  {
   "cell_type": "code",
   "execution_count": 73,
   "metadata": {},
   "outputs": [
    {
     "name": "stdout",
     "output_type": "stream",
     "text": [
      "3.99 s ± 66.1 ms per loop (mean ± std. dev. of 7 runs, 1 loop each)\n"
     ]
    }
   ],
   "source": [
    "@np.vectorize\n",
    "def foo(a):\n",
    "    p = 1\n",
    "    s = 0\n",
    "    for i in range(10000):\n",
    "        s += p\n",
    "        p *= a\n",
    "    return s\n",
    "\n",
    "%timeit foo(np.full(10000, 1.001))"
   ]
  },
  {
   "cell_type": "markdown",
   "metadata": {},
   "source": [
    "### numba"
   ]
  },
  {
   "cell_type": "code",
   "execution_count": 76,
   "metadata": {},
   "outputs": [
    {
     "name": "stdout",
     "output_type": "stream",
     "text": [
      "90.5 ms ± 808 µs per loop (mean ± std. dev. of 7 runs, 10 loops each)\n"
     ]
    }
   ],
   "source": [
    "@nvectorize\n",
    "def foo(a):\n",
    "    p = 1\n",
    "    s = 0\n",
    "    for i in range(10000):\n",
    "        s += p\n",
    "        p *= a\n",
    "    return s\n",
    "\n",
    "%timeit foo(np.full(10000, 1.001))"
   ]
  },
  {
   "cell_type": "markdown",
   "metadata": {},
   "source": [
    "### jax"
   ]
  },
  {
   "cell_type": "code",
   "execution_count": 79,
   "metadata": {},
   "outputs": [
    {
     "name": "stdout",
     "output_type": "stream",
     "text": [
      "The slowest run took 5.69 times longer than the fastest. This could mean that an intermediate result is being cached.\n",
      "779 µs ± 665 µs per loop (mean ± std. dev. of 7 runs, 1 loop each)\n"
     ]
    }
   ],
   "source": [
    "@jnp.vectorize\n",
    "@jjit\n",
    "def foo(a):\n",
    "    p = 1\n",
    "    s = 0\n",
    "    for i in range(10000):\n",
    "        s += p\n",
    "        p *= a\n",
    "    return s\n",
    "\n",
    "%timeit foo(jnp.full(10000, 1.001))"
   ]
  },
  {
   "cell_type": "markdown",
   "metadata": {},
   "source": [
    "### sympy"
   ]
  },
  {
   "cell_type": "code",
   "execution_count": 109,
   "metadata": {},
   "outputs": [
    {
     "name": "stdout",
     "output_type": "stream",
     "text": [
      "CPU times: user 7.21 s, sys: 7.75 ms, total: 7.21 s\n",
      "Wall time: 7.21 s\n"
     ]
    }
   ],
   "source": [
    "%%time\n",
    "# --- simplified\n",
    "a = sy.symbols('a')\n",
    "s = 0\n",
    "p = 1.\n",
    "for i in range(1000):\n",
    "    s = s + p\n",
    "    p = p * a"
   ]
  },
  {
   "cell_type": "code",
   "execution_count": 110,
   "metadata": {},
   "outputs": [
    {
     "name": "stdout",
     "output_type": "stream",
     "text": [
      "CPU times: user 412 ms, sys: 4.03 ms, total: 416 ms\n",
      "Wall time: 2.17 s\n"
     ]
    }
   ],
   "source": [
    "%%time\n",
    "from sympy.utilities.autowrap import ufuncify\n",
    "foo = ufuncify([a], s)"
   ]
  },
  {
   "cell_type": "code",
   "execution_count": 111,
   "metadata": {},
   "outputs": [
    {
     "name": "stdout",
     "output_type": "stream",
     "text": [
      "147 ms ± 2.02 ms per loop (mean ± std. dev. of 7 runs, 10 loops each)\n"
     ]
    }
   ],
   "source": [
    "%timeit foo(np.full(10000, 1.001))"
   ]
  },
  {
   "cell_type": "markdown",
   "metadata": {},
   "source": [
    "# Root finding"
   ]
  },
  {
   "cell_type": "markdown",
   "metadata": {},
   "source": [
    "## Scalar 1"
   ]
  },
  {
   "cell_type": "markdown",
   "metadata": {},
   "source": [
    "### python"
   ]
  },
  {
   "cell_type": "code",
   "execution_count": 127,
   "metadata": {},
   "outputs": [
    {
     "name": "stdout",
     "output_type": "stream",
     "text": [
      "0.9000000000000001\n",
      "642 µs ± 14.5 µs per loop (mean ± std. dev. of 7 runs, 1000 loops each)\n"
     ]
    }
   ],
   "source": [
    "def foo(a):\n",
    "    p = 1\n",
    "    s = 0\n",
    "    for i in range(1000):\n",
    "        s += p\n",
    "        p *= a\n",
    "    return s\n",
    "\n",
    "\n",
    "print(sp.optimize.brentq(lambda x: foo(x)-10, 0, 2))\n",
    "%timeit sp.optimize.brentq(lambda x: foo(x)-10, 0, 2)"
   ]
  },
  {
   "cell_type": "markdown",
   "metadata": {},
   "source": [
    "### numba"
   ]
  },
  {
   "cell_type": "code",
   "execution_count": 128,
   "metadata": {},
   "outputs": [
    {
     "name": "stdout",
     "output_type": "stream",
     "text": [
      "0.9000000000000001\n",
      "19.9 µs ± 504 ns per loop (mean ± std. dev. of 7 runs, 10000 loops each)\n"
     ]
    }
   ],
   "source": [
    "@njit('f8(f8)')\n",
    "def foo(a):\n",
    "    p = 1.\n",
    "    s = 0\n",
    "    for i in range(1000):\n",
    "        s += p\n",
    "        p *= a\n",
    "    return s\n",
    "\n",
    "\n",
    "print(sp.optimize.brentq(lambda x: foo(x)-10, 0, 2))\n",
    "%timeit sp.optimize.brentq(lambda x: foo(x)-10, 0, 2)"
   ]
  },
  {
   "cell_type": "markdown",
   "metadata": {},
   "source": [
    "### sympy"
   ]
  },
  {
   "cell_type": "code",
   "execution_count": 134,
   "metadata": {},
   "outputs": [
    {
     "name": "stdout",
     "output_type": "stream",
     "text": [
      "CPU times: user 1.22 ms, sys: 3 µs, total: 1.23 ms\n",
      "Wall time: 1.23 ms\n"
     ]
    }
   ],
   "source": [
    "%%time\n",
    "#--- very simplified\n",
    "a = sy.symbols('a')\n",
    "s = 0\n",
    "p = 1\n",
    "for i in range(10):\n",
    "    s = s + p\n",
    "    p = p * a"
   ]
  },
  {
   "cell_type": "code",
   "execution_count": 135,
   "metadata": {},
   "outputs": [
    {
     "name": "stdout",
     "output_type": "stream",
     "text": [
      "CPU times: user 280 ms, sys: 0 ns, total: 280 ms\n",
      "Wall time: 278 ms\n"
     ]
    },
    {
     "data": {
      "text/plain": [
       "[1,\n",
       " CRootOf(x**8 + 2*x**7 + 3*x**6 + 4*x**5 + 5*x**4 + 6*x**3 + 7*x**2 + 8*x + 9, 0),\n",
       " CRootOf(x**8 + 2*x**7 + 3*x**6 + 4*x**5 + 5*x**4 + 6*x**3 + 7*x**2 + 8*x + 9, 1),\n",
       " CRootOf(x**8 + 2*x**7 + 3*x**6 + 4*x**5 + 5*x**4 + 6*x**3 + 7*x**2 + 8*x + 9, 2),\n",
       " CRootOf(x**8 + 2*x**7 + 3*x**6 + 4*x**5 + 5*x**4 + 6*x**3 + 7*x**2 + 8*x + 9, 3),\n",
       " CRootOf(x**8 + 2*x**7 + 3*x**6 + 4*x**5 + 5*x**4 + 6*x**3 + 7*x**2 + 8*x + 9, 4),\n",
       " CRootOf(x**8 + 2*x**7 + 3*x**6 + 4*x**5 + 5*x**4 + 6*x**3 + 7*x**2 + 8*x + 9, 5),\n",
       " CRootOf(x**8 + 2*x**7 + 3*x**6 + 4*x**5 + 5*x**4 + 6*x**3 + 7*x**2 + 8*x + 9, 6),\n",
       " CRootOf(x**8 + 2*x**7 + 3*x**6 + 4*x**5 + 5*x**4 + 6*x**3 + 7*x**2 + 8*x + 9, 7)]"
      ]
     },
     "execution_count": 135,
     "metadata": {},
     "output_type": "execute_result"
    }
   ],
   "source": [
    "%%time\n",
    "sy.solve(sy.Eq(s, 10))"
   ]
  },
  {
   "cell_type": "code",
   "execution_count": null,
   "metadata": {},
   "outputs": [],
   "source": []
  }
 ],
 "metadata": {
  "kernelspec": {
   "display_name": "Python 3",
   "language": "python",
   "name": "python3"
  },
  "language_info": {
   "codemirror_mode": {
    "name": "ipython",
    "version": 3
   },
   "file_extension": ".py",
   "mimetype": "text/x-python",
   "name": "python",
   "nbconvert_exporter": "python",
   "pygments_lexer": "ipython3",
   "version": "3.8.2"
  }
 },
 "nbformat": 4,
 "nbformat_minor": 4
}
