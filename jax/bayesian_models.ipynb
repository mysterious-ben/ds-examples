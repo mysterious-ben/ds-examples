{
 "cells": [
  {
   "cell_type": "markdown",
   "metadata": {},
   "source": [
    "# Bayesian Models with Numpyro"
   ]
  },
  {
   "cell_type": "code",
   "execution_count": 8,
   "metadata": {},
   "outputs": [],
   "source": [
    "import jax.numpy as jnp\n",
    "import jax.random as jrandom\n",
    "import numpyro\n",
    "import numpyro.distributions as numdist\n",
    "from matplotlib import pyplot as plt"
   ]
  },
  {
   "cell_type": "markdown",
   "metadata": {},
   "source": [
    "# Sampling"
   ]
  },
  {
   "cell_type": "markdown",
   "metadata": {},
   "source": [
    "## Bayesian priors"
   ]
  },
  {
   "cell_type": "code",
   "execution_count": 50,
   "metadata": {},
   "outputs": [
    {
     "data": {
      "image/png": "[encoded data removed]",
      "text/plain": [
       "<Figure size 432x288 with 1 Axes>"
      ]
     },
     "metadata": {
      "needs_background": "light"
     },
     "output_type": "display_data"
    }
   ],
   "source": [
    "def bayesian_model_1(size):\n",
    "    with numpyro.plate('samples', size=size):\n",
    "        mu = numpyro.sample('mu', numdist.Categorical(jnp.array([0.6, 0.2, 0.2])))\n",
    "        sigma = numpyro.sample('sigma', numdist.Beta(2, 5))\n",
    "        x = numpyro.sample('x', numdist.Normal(mu, sigma))\n",
    "        y = numpyro.sample('y', numdist.TransformedDistribution(numdist.Normal(x, 1), [numdist.transforms.AffineTransform(-2, 1)]))\n",
    "        return y\n",
    "    \n",
    "# with numpyro.handlers.seed(rng_seed=42):\n",
    "#     samples = bayesian_model_1(10000)\n",
    "samples = numpyro.handlers.seed(bayesian_model_1, rng_seed=42)(10000)\n",
    "\n",
    "_ = plt.hist(samples, bins=40)"
   ]
  },
  {
   "cell_type": "code",
   "execution_count": 49,
   "metadata": {},
   "outputs": [
    {
     "data": {
      "image/png": "[encoded data removed]",
      "text/plain": [
       "<Figure size 432x288 with 1 Axes>"
      ]
     },
     "metadata": {
      "needs_background": "light"
     },
     "output_type": "display_data"
    },
    {
     "data": {
      "image/png": "[encoded data removed]",
      "text/plain": [
       "<Figure size 432x288 with 1 Axes>"
      ]
     },
     "metadata": {
      "needs_background": "light"
     },
     "output_type": "display_data"
    }
   ],
   "source": [
    "# with numpyro.handlers.seed(rng_seed=42):\n",
    "#     trace = numpyro.handlers.trace(bayesian_model_1).get_trace(10000)\n",
    "trace = numpyro.handlers.trace(numpyro.handlers.seed(bayesian_model_1, rng_seed=42)).get_trace(10000)\n",
    "    \n",
    "plt.figure()\n",
    "plt.hist(trace['x']['value'], bins=40, density=True)\n",
    "plt.title('x')\n",
    "\n",
    "plt.figure()\n",
    "plt.hist(trace['y']['value'], bins=40, density=True)\n",
    "plt.title('y')\n",
    "_=_"
   ]
  },
  {
   "cell_type": "markdown",
   "metadata": {},
   "source": [
    "## Transition matrices"
   ]
  },
  {
   "cell_type": "code",
   "execution_count": 51,
   "metadata": {},
   "outputs": [
    {
     "data": {
      "image/png": "[encoded data removed]",
      "text/plain": [
       "<Figure size 432x288 with 1 Axes>"
      ]
     },
     "metadata": {
      "needs_background": "light"
     },
     "output_type": "display_data"
    }
   ],
   "source": [
    "t0 = jnp.array([[0.6, 0.2, 0.2]])\n",
    "t1 = jnp.array([[0.8, 0.2],\n",
    "                [0.5, 0.5],\n",
    "                [0.2, 0.8]])\n",
    "mu = jnp.array([-1, 1])\n",
    "sigma = jnp.array([0.2, 1])\n",
    "\n",
    "def bayesian_model_2(size):\n",
    "    with numpyro.plate('samples', size=size):\n",
    "        c0 = numpyro.sample('c0', numdist.Categorical(t0[0]))\n",
    "        c1 = numpyro.sample('c1', numdist.Categorical(t1[c0]))\n",
    "        final = numpyro.sample('final', numdist.Normal(mu[c1], sigma[c1]))\n",
    "    \n",
    "trace = numpyro.handlers.trace(numpyro.handlers.seed(bayesian_model_2, rng_seed=42)).get_trace(10000)\n",
    "\n",
    "plt.figure()\n",
    "plt.hist(trace['final']['value'], bins=40, density=True)\n",
    "plt.title('final')\n",
    "_=_\n",
    " "
   ]
  },
  {
   "cell_type": "markdown",
   "metadata": {},
   "source": [
    "# Inference"
   ]
  },
  {
   "cell_type": "code",
   "execution_count": null,
   "metadata": {},
   "outputs": [],
   "source": []
  }
 ],
 "metadata": {
  "kernelspec": {
   "display_name": "Python 3",
   "language": "python",
   "name": "python3"
  },
  "language_info": {
   "codemirror_mode": {
    "name": "ipython",
    "version": 3
   },
   "file_extension": ".py",
   "mimetype": "text/x-python",
   "name": "python",
   "nbconvert_exporter": "python",
   "pygments_lexer": "ipython3",
   "version": "3.8.2"
  }
 },
 "nbformat": 4,
 "nbformat_minor": 4
}
