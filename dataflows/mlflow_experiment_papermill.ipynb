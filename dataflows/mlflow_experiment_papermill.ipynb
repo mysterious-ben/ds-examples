{
 "cells": [
  {
   "cell_type": "markdown",
   "metadata": {},
   "source": [
    "# MLFlow Experiment (Papermill)\n",
    "\n",
    "- The source notebook: `mlflow_experiment.ipynb`\n",
    "- Generated notebooks: `papermill_runs/`"
   ]
  },
  {
   "cell_type": "markdown",
   "metadata": {},
   "source": [
    "## Run experiments"
   ]
  },
  {
   "cell_type": "code",
   "execution_count": 1,
   "metadata": {},
   "outputs": [],
   "source": [
    "from pathlib import Path\n",
    "from itertools import product\n",
    "from tqdm import tqdm\n",
    "import papermill as pm"
   ]
  },
  {
   "cell_type": "code",
   "execution_count": 2,
   "metadata": {},
   "outputs": [],
   "source": [
    "nb_source = 'mlflow_experiment.ipynb'\n",
    "nb_pm_dir = 'papermill_runs'\n",
    "\n",
    "params = dict(\n",
    "    include_c=[True, False],\n",
    "    adjust_for_country=[True, False],\n",
    ")"
   ]
  },
  {
   "cell_type": "code",
   "execution_count": 3,
   "metadata": {},
   "outputs": [
    {
     "name": "stderr",
     "output_type": "stream",
     "text": [
      "  0%|          | 0/4 [00:00<?, ?it/s]"
     ]
    },
    {
     "name": "stdout",
     "output_type": "stream",
     "text": [
      "{'include_c': True, 'adjust_for_country': True}\n"
     ]
    },
    {
     "name": "stderr",
     "output_type": "stream",
     "text": [
      " 25%|██▌       | 1/4 [00:06<00:18,  6.09s/it]"
     ]
    },
    {
     "name": "stdout",
     "output_type": "stream",
     "text": [
      "{'include_c': True, 'adjust_for_country': False}\n"
     ]
    },
    {
     "name": "stderr",
     "output_type": "stream",
     "text": [
      " 50%|█████     | 2/4 [00:09<00:10,  5.43s/it]"
     ]
    },
    {
     "name": "stdout",
     "output_type": "stream",
     "text": [
      "{'include_c': False, 'adjust_for_country': True}\n"
     ]
    },
    {
     "name": "stderr",
     "output_type": "stream",
     "text": [
      " 75%|███████▌  | 3/4 [00:11<00:04,  4.40s/it]"
     ]
    },
    {
     "name": "stdout",
     "output_type": "stream",
     "text": [
      "{'include_c': False, 'adjust_for_country': False}\n"
     ]
    },
    {
     "name": "stderr",
     "output_type": "stream",
     "text": [
      "100%|██████████| 4/4 [00:13<00:00,  3.45s/it]\n"
     ]
    }
   ],
   "source": [
    "params_product = [dict(zip(params, v)) for v in product(*params.values())]\n",
    "for d in tqdm(params_product):\n",
    "    print(d)\n",
    "    nb_pm_fname = 'pm__' + '_'.join(f'{k}={v}' for k, v in d.items()) + '.ipynb'\n",
    "#     nb_pm = Path(nb_pm_dir) / f'test.ipynb'\n",
    "    _ = pm.execute_notebook(nb_source, Path(nb_pm_dir) / nb_pm_fname, parameters=d, progress_bar=False)"
   ]
  },
  {
   "cell_type": "markdown",
   "metadata": {},
   "source": [
    "## Make a summary"
   ]
  },
  {
   "cell_type": "code",
   "execution_count": 4,
   "metadata": {},
   "outputs": [],
   "source": [
    "import pandas as pd\n",
    "import sqlite3\n",
    "from dutil.jupyter import dht\n",
    "from matplotlib import pyplot as plt\n",
    "from matplotlib import cm\n",
    "import seaborn as sns\n",
    "\n",
    "plt.rcParams['font.family'] = 'monospace'\n",
    "plt.style.use('seaborn')"
   ]
  },
  {
   "cell_type": "code",
   "execution_count": 5,
   "metadata": {},
   "outputs": [],
   "source": [
    "def query_mlruns(query: str, query_args = tuple()) -> pd.DataFrame:\n",
    "    with sqlite3.connect('mlruns.db') as conn:\n",
    "        c = conn.cursor()\n",
    "        records = c.execute(query, query_args).fetchall()\n",
    "        columns = [x[0] for x in c.description]\n",
    "    df = pd.DataFrame(records, columns = columns)\n",
    "    return df"
   ]
  },
  {
   "cell_type": "code",
   "execution_count": 7,
   "metadata": {},
   "outputs": [
    {
     "data": {
      "text/html": [
       "<div>\n",
       "<style scoped>\n",
       "    .dataframe tbody tr th:only-of-type {\n",
       "        vertical-align: middle;\n",
       "    }\n",
       "\n",
       "    .dataframe tbody tr th {\n",
       "        vertical-align: top;\n",
       "    }\n",
       "\n",
       "    .dataframe thead th {\n",
       "        text-align: right;\n",
       "    }\n",
       "</style>\n",
       "<table border=\"1\" class=\"dataframe\">\n",
       "  <thead>\n",
       "    <tr style=\"text-align: right;\">\n",
       "      <th></th>\n",
       "      <th>name</th>\n",
       "    </tr>\n",
       "  </thead>\n",
       "  <tbody>\n",
       "    <tr>\n",
       "      <th>0</th>\n",
       "      <td>experiments</td>\n",
       "    </tr>\n",
       "    <tr>\n",
       "      <th>1</th>\n",
       "      <td>params</td>\n",
       "    </tr>\n",
       "    <tr>\n",
       "      <th>2</th>\n",
       "      <td>alembic_version</td>\n",
       "    </tr>\n",
       "    <tr>\n",
       "      <th>3</th>\n",
       "      <td>metrics</td>\n",
       "    </tr>\n",
       "    <tr>\n",
       "      <th>4</th>\n",
       "      <td>experiment_tags</td>\n",
       "    </tr>\n",
       "    <tr>\n",
       "      <th>5</th>\n",
       "      <td>tags</td>\n",
       "    </tr>\n",
       "    <tr>\n",
       "      <th>6</th>\n",
       "      <td>latest_metrics</td>\n",
       "    </tr>\n",
       "    <tr>\n",
       "      <th>7</th>\n",
       "      <td>registered_models</td>\n",
       "    </tr>\n",
       "    <tr>\n",
       "      <th>8</th>\n",
       "      <td>model_versions</td>\n",
       "    </tr>\n",
       "    <tr>\n",
       "      <th>9</th>\n",
       "      <td>runs</td>\n",
       "    </tr>\n",
       "    <tr>\n",
       "      <th>10</th>\n",
       "      <td>registered_model_tags</td>\n",
       "    </tr>\n",
       "    <tr>\n",
       "      <th>11</th>\n",
       "      <td>model_version_tags</td>\n",
       "    </tr>\n",
       "  </tbody>\n",
       "</table>\n",
       "</div>"
      ],
      "text/plain": [
       "                     name\n",
       "0             experiments\n",
       "1                  params\n",
       "2         alembic_version\n",
       "3                 metrics\n",
       "4         experiment_tags\n",
       "5                    tags\n",
       "6          latest_metrics\n",
       "7       registered_models\n",
       "8          model_versions\n",
       "9                    runs\n",
       "10  registered_model_tags\n",
       "11     model_version_tags"
      ]
     },
     "metadata": {},
     "output_type": "display_data"
    },
    {
     "data": {
      "text/html": [
       "<div>\n",
       "<style scoped>\n",
       "    .dataframe tbody tr th:only-of-type {\n",
       "        vertical-align: middle;\n",
       "    }\n",
       "\n",
       "    .dataframe tbody tr th {\n",
       "        vertical-align: top;\n",
       "    }\n",
       "\n",
       "    .dataframe thead th {\n",
       "        text-align: right;\n",
       "    }\n",
       "</style>\n",
       "<table border=\"1\" class=\"dataframe\">\n",
       "  <thead>\n",
       "    <tr style=\"text-align: right;\">\n",
       "      <th></th>\n",
       "      <th>experiment_id</th>\n",
       "      <th>name</th>\n",
       "      <th>artifact_location</th>\n",
       "      <th>lifecycle_stage</th>\n",
       "    </tr>\n",
       "  </thead>\n",
       "  <tbody>\n",
       "    <tr>\n",
       "      <th>0</th>\n",
       "      <td>0</td>\n",
       "      <td>Default</td>\n",
       "      <td>./mlruns/0</td>\n",
       "      <td>active</td>\n",
       "    </tr>\n",
       "    <tr>\n",
       "      <th>1</th>\n",
       "      <td>1</td>\n",
       "      <td>mlpipe_</td>\n",
       "      <td>./mlruns/1</td>\n",
       "      <td>active</td>\n",
       "    </tr>\n",
       "  </tbody>\n",
       "</table>\n",
       "</div>"
      ],
      "text/plain": [
       "   experiment_id     name artifact_location lifecycle_stage\n",
       "0              0  Default        ./mlruns/0          active\n",
       "1              1  mlpipe_        ./mlruns/1          active"
      ]
     },
     "metadata": {},
     "output_type": "display_data"
    }
   ],
   "source": [
    "display(query_mlruns(\"\"\"select name from sqlite_master where type='table'\"\"\"))\n",
    "display(query_mlruns(\"\"\"select * from experiments\"\"\"))\n"
   ]
  },
  {
   "cell_type": "code",
   "execution_count": 9,
   "metadata": {},
   "outputs": [
    {
     "data": {
      "text/html": [
       "<div>\n",
       "<style scoped>\n",
       "    .dataframe tbody tr th:only-of-type {\n",
       "        vertical-align: middle;\n",
       "    }\n",
       "\n",
       "    .dataframe tbody tr th {\n",
       "        vertical-align: top;\n",
       "    }\n",
       "\n",
       "    .dataframe thead th {\n",
       "        text-align: right;\n",
       "    }\n",
       "</style>\n",
       "<table border=\"1\" class=\"dataframe\">\n",
       "  <thead>\n",
       "    <tr style=\"text-align: right;\">\n",
       "      <th></th>\n",
       "      <th>run_uuid</th>\n",
       "      <th>name</th>\n",
       "      <th>source_type</th>\n",
       "      <th>source_name</th>\n",
       "      <th>entry_point_name</th>\n",
       "      <th>user_id</th>\n",
       "      <th>status</th>\n",
       "      <th>start_time</th>\n",
       "      <th>end_time</th>\n",
       "      <th>source_version</th>\n",
       "      <th>lifecycle_stage</th>\n",
       "      <th>artifact_uri</th>\n",
       "      <th>experiment_id</th>\n",
       "    </tr>\n",
       "  </thead>\n",
       "  <tbody>\n",
       "    <tr>\n",
       "      <th>0</th>\n",
       "      <td>4230137cb65e4aa39ced162ca4861029</td>\n",
       "      <td></td>\n",
       "      <td>UNKNOWN</td>\n",
       "      <td></td>\n",
       "      <td></td>\n",
       "      <td>nameless</td>\n",
       "      <td>FINISHED</td>\n",
       "      <td>1608296705051</td>\n",
       "      <td>1608296705268</td>\n",
       "      <td></td>\n",
       "      <td>active</td>\n",
       "      <td>./mlruns/1/4230137cb65e4aa39ced162ca4861029/ar...</td>\n",
       "      <td>1</td>\n",
       "    </tr>\n",
       "    <tr>\n",
       "      <th>3</th>\n",
       "      <td>cf1ed9d6a1e6466bb4fa701d04185b22</td>\n",
       "      <td></td>\n",
       "      <td>UNKNOWN</td>\n",
       "      <td></td>\n",
       "      <td></td>\n",
       "      <td>nameless</td>\n",
       "      <td>FINISHED</td>\n",
       "      <td>1608296710417</td>\n",
       "      <td>1608296710563</td>\n",
       "      <td></td>\n",
       "      <td>active</td>\n",
       "      <td>./mlruns/1/cf1ed9d6a1e6466bb4fa701d04185b22/ar...</td>\n",
       "      <td>1</td>\n",
       "    </tr>\n",
       "  </tbody>\n",
       "</table>\n",
       "</div>"
      ],
      "text/plain": [
       "                           run_uuid name source_type source_name  \\\n",
       "0  4230137cb65e4aa39ced162ca4861029          UNKNOWN               \n",
       "3  cf1ed9d6a1e6466bb4fa701d04185b22          UNKNOWN               \n",
       "\n",
       "  entry_point_name   user_id    status     start_time       end_time  \\\n",
       "0                   nameless  FINISHED  1608296705051  1608296705268   \n",
       "3                   nameless  FINISHED  1608296710417  1608296710563   \n",
       "\n",
       "  source_version lifecycle_stage  \\\n",
       "0                         active   \n",
       "3                         active   \n",
       "\n",
       "                                        artifact_uri  experiment_id  \n",
       "0  ./mlruns/1/4230137cb65e4aa39ced162ca4861029/ar...              1  \n",
       "3  ./mlruns/1/cf1ed9d6a1e6466bb4fa701d04185b22/ar...              1  "
      ]
     },
     "metadata": {},
     "output_type": "display_data"
    },
    {
     "data": {
      "text/html": [
       "<div>\n",
       "<style scoped>\n",
       "    .dataframe tbody tr th:only-of-type {\n",
       "        vertical-align: middle;\n",
       "    }\n",
       "\n",
       "    .dataframe tbody tr th {\n",
       "        vertical-align: top;\n",
       "    }\n",
       "\n",
       "    .dataframe thead th {\n",
       "        text-align: right;\n",
       "    }\n",
       "</style>\n",
       "<table border=\"1\" class=\"dataframe\">\n",
       "  <thead>\n",
       "    <tr style=\"text-align: right;\">\n",
       "      <th></th>\n",
       "      <th>key</th>\n",
       "      <th>value</th>\n",
       "      <th>timestamp</th>\n",
       "      <th>run_uuid</th>\n",
       "      <th>step</th>\n",
       "      <th>is_nan</th>\n",
       "    </tr>\n",
       "  </thead>\n",
       "  <tbody>\n",
       "    <tr>\n",
       "      <th>0</th>\n",
       "      <td>test_mae</td>\n",
       "      <td>-2.833333</td>\n",
       "      <td>1608296705187</td>\n",
       "      <td>4230137cb65e4aa39ced162ca4861029</td>\n",
       "      <td>0</td>\n",
       "      <td>0</td>\n",
       "    </tr>\n",
       "    <tr>\n",
       "      <th>15</th>\n",
       "      <td>train_r2</td>\n",
       "      <td>0.727900</td>\n",
       "      <td>1608296710506</td>\n",
       "      <td>cf1ed9d6a1e6466bb4fa701d04185b22</td>\n",
       "      <td>0</td>\n",
       "      <td>0</td>\n",
       "    </tr>\n",
       "  </tbody>\n",
       "</table>\n",
       "</div>"
      ],
      "text/plain": [
       "         key     value      timestamp                          run_uuid  step  \\\n",
       "0   test_mae -2.833333  1608296705187  4230137cb65e4aa39ced162ca4861029     0   \n",
       "15  train_r2  0.727900  1608296710506  cf1ed9d6a1e6466bb4fa701d04185b22     0   \n",
       "\n",
       "    is_nan  \n",
       "0        0  \n",
       "15       0  "
      ]
     },
     "metadata": {},
     "output_type": "display_data"
    },
    {
     "data": {
      "text/html": [
       "<div>\n",
       "<style scoped>\n",
       "    .dataframe tbody tr th:only-of-type {\n",
       "        vertical-align: middle;\n",
       "    }\n",
       "\n",
       "    .dataframe tbody tr th {\n",
       "        vertical-align: top;\n",
       "    }\n",
       "\n",
       "    .dataframe thead th {\n",
       "        text-align: right;\n",
       "    }\n",
       "</style>\n",
       "<table border=\"1\" class=\"dataframe\">\n",
       "  <thead>\n",
       "    <tr style=\"text-align: right;\">\n",
       "      <th></th>\n",
       "      <th>key</th>\n",
       "      <th>value</th>\n",
       "      <th>run_uuid</th>\n",
       "    </tr>\n",
       "  </thead>\n",
       "  <tbody>\n",
       "    <tr>\n",
       "      <th>0</th>\n",
       "      <td>fversion</td>\n",
       "      <td>0</td>\n",
       "      <td>4230137cb65e4aa39ced162ca4861029</td>\n",
       "    </tr>\n",
       "    <tr>\n",
       "      <th>31</th>\n",
       "      <td>model_name</td>\n",
       "      <td>rf</td>\n",
       "      <td>cf1ed9d6a1e6466bb4fa701d04185b22</td>\n",
       "    </tr>\n",
       "  </tbody>\n",
       "</table>\n",
       "</div>"
      ],
      "text/plain": [
       "           key value                          run_uuid\n",
       "0     fversion     0  4230137cb65e4aa39ced162ca4861029\n",
       "31  model_name    rf  cf1ed9d6a1e6466bb4fa701d04185b22"
      ]
     },
     "metadata": {},
     "output_type": "display_data"
    }
   ],
   "source": [
    "runs = query_mlruns(\"\"\"select * from runs\"\"\")\n",
    "metrics = query_mlruns(\"\"\"select * from metrics\"\"\")\n",
    "params = query_mlruns(\"\"\"select * from params\"\"\")\n",
    "dht(runs, 1)\n",
    "dht(metrics, 1)\n",
    "dht(params, 1)"
   ]
  },
  {
   "cell_type": "code",
   "execution_count": 11,
   "metadata": {},
   "outputs": [
    {
     "data": {
      "text/html": [
       "<div>\n",
       "<style scoped>\n",
       "    .dataframe tbody tr th:only-of-type {\n",
       "        vertical-align: middle;\n",
       "    }\n",
       "\n",
       "    .dataframe tbody tr th {\n",
       "        vertical-align: top;\n",
       "    }\n",
       "\n",
       "    .dataframe thead th {\n",
       "        text-align: right;\n",
       "    }\n",
       "</style>\n",
       "<table border=\"1\" class=\"dataframe\">\n",
       "  <thead>\n",
       "    <tr style=\"text-align: right;\">\n",
       "      <th>key</th>\n",
       "      <th>test_mae</th>\n",
       "      <th>test_r2</th>\n",
       "      <th>train_mae</th>\n",
       "      <th>train_r2</th>\n",
       "    </tr>\n",
       "    <tr>\n",
       "      <th>run_uuid</th>\n",
       "      <th></th>\n",
       "      <th></th>\n",
       "      <th></th>\n",
       "      <th></th>\n",
       "    </tr>\n",
       "  </thead>\n",
       "  <tbody>\n",
       "    <tr>\n",
       "      <th>3132a2ef9808425da5b9cfcfdbd709b7</th>\n",
       "      <td>-1.575</td>\n",
       "      <td>-5.30125</td>\n",
       "      <td>-0.3825</td>\n",
       "      <td>0.7298</td>\n",
       "    </tr>\n",
       "    <tr>\n",
       "      <th>cf1ed9d6a1e6466bb4fa701d04185b22</th>\n",
       "      <td>-1.640</td>\n",
       "      <td>-6.00080</td>\n",
       "      <td>-0.3700</td>\n",
       "      <td>0.7279</td>\n",
       "    </tr>\n",
       "  </tbody>\n",
       "</table>\n",
       "</div>"
      ],
      "text/plain": [
       "key                               test_mae  test_r2  train_mae  train_r2\n",
       "run_uuid                                                                \n",
       "3132a2ef9808425da5b9cfcfdbd709b7    -1.575 -5.30125    -0.3825    0.7298\n",
       "cf1ed9d6a1e6466bb4fa701d04185b22    -1.640 -6.00080    -0.3700    0.7279"
      ]
     },
     "metadata": {},
     "output_type": "display_data"
    },
    {
     "data": {
      "text/html": [
       "<div>\n",
       "<style scoped>\n",
       "    .dataframe tbody tr th:only-of-type {\n",
       "        vertical-align: middle;\n",
       "    }\n",
       "\n",
       "    .dataframe tbody tr th {\n",
       "        vertical-align: top;\n",
       "    }\n",
       "\n",
       "    .dataframe thead th {\n",
       "        text-align: right;\n",
       "    }\n",
       "</style>\n",
       "<table border=\"1\" class=\"dataframe\">\n",
       "  <thead>\n",
       "    <tr style=\"text-align: right;\">\n",
       "      <th>key</th>\n",
       "      <th>adjust_for_country</th>\n",
       "      <th>fversion</th>\n",
       "      <th>include_country</th>\n",
       "      <th>model_name</th>\n",
       "      <th>mversion</th>\n",
       "      <th>n_folds</th>\n",
       "      <th>target</th>\n",
       "      <th>test_ratio</th>\n",
       "    </tr>\n",
       "    <tr>\n",
       "      <th>run_uuid</th>\n",
       "      <th></th>\n",
       "      <th></th>\n",
       "      <th></th>\n",
       "      <th></th>\n",
       "      <th></th>\n",
       "      <th></th>\n",
       "      <th></th>\n",
       "      <th></th>\n",
       "    </tr>\n",
       "  </thead>\n",
       "  <tbody>\n",
       "    <tr>\n",
       "      <th>3132a2ef9808425da5b9cfcfdbd709b7</th>\n",
       "      <td>True</td>\n",
       "      <td>0</td>\n",
       "      <td>True</td>\n",
       "      <td>rf</td>\n",
       "      <td>0</td>\n",
       "      <td>2</td>\n",
       "      <td>e</td>\n",
       "      <td>0.3</td>\n",
       "    </tr>\n",
       "    <tr>\n",
       "      <th>cf1ed9d6a1e6466bb4fa701d04185b22</th>\n",
       "      <td>False</td>\n",
       "      <td>0</td>\n",
       "      <td>True</td>\n",
       "      <td>rf</td>\n",
       "      <td>0</td>\n",
       "      <td>2</td>\n",
       "      <td>e</td>\n",
       "      <td>0.3</td>\n",
       "    </tr>\n",
       "  </tbody>\n",
       "</table>\n",
       "</div>"
      ],
      "text/plain": [
       "key                              adjust_for_country fversion include_country  \\\n",
       "run_uuid                                                                       \n",
       "3132a2ef9808425da5b9cfcfdbd709b7               True        0            True   \n",
       "cf1ed9d6a1e6466bb4fa701d04185b22              False        0            True   \n",
       "\n",
       "key                              model_name mversion n_folds target test_ratio  \n",
       "run_uuid                                                                        \n",
       "3132a2ef9808425da5b9cfcfdbd709b7         rf        0       2      e        0.3  \n",
       "cf1ed9d6a1e6466bb4fa701d04185b22         rf        0       2      e        0.3  "
      ]
     },
     "metadata": {},
     "output_type": "display_data"
    }
   ],
   "source": [
    "ids_ = set(runs.loc[runs['experiment_id'] == 1, 'run_uuid'])\n",
    "metrics_ = metrics.loc[metrics['run_uuid'].isin(ids_)].reset_index(drop=True)\n",
    "metrics_ = pd.pivot(metrics_, index='run_uuid', columns='key', values='value')\n",
    "params_ = params.loc[params['run_uuid'].isin(ids_)].reset_index(drop=True)\n",
    "params_ = pd.pivot(params_, index='run_uuid', columns='key', values='value')\n",
    "\n",
    "dht(metrics_, 1)\n",
    "dht(params_, 1)"
   ]
  },
  {
   "cell_type": "code",
   "execution_count": 24,
   "metadata": {},
   "outputs": [
    {
     "name": "stdout",
     "output_type": "stream",
     "text": [
      "Filtered runs: 4 / 4\n"
     ]
    },
    {
     "data": {
      "image/png": "[encoded data removed]",
      "text/plain": [
       "<Figure size 576x396 with 1 Axes>"
      ]
     },
     "metadata": {},
     "output_type": "display_data"
    }
   ],
   "source": [
    "def plot_summary(\n",
    "    params_df, \n",
    "    metrics_df,\n",
    "    filter_query,\n",
    "    param_x,\n",
    "    param_hue,\n",
    "    metric_y,\n",
    "    title='Experiments',\n",
    "):\n",
    "    if (filter_query is not None) and (len(filter_query) > 0):\n",
    "        params_df = params_df.query(filter_query)\n",
    "    df = params_df[[param_x, param_hue]].join(metrics_df[[metric_y]], how='inner')\n",
    "    print(\"Filtered runs: {} / {}\".format(len(df), len(params_df)))\n",
    "    sns.scatterplot(data=df, x=param_x, y=metric_y, hue=param_hue)\n",
    "    plt.title(title)\n",
    "    plt.legend(loc='upper left',  bbox_to_anchor=(1., 1.))\n",
    "    \n",
    "plot_summary(\n",
    "    params_, metrics_, \n",
    "    \"fversion == '0'\", \n",
    "    'adjust_for_country', 'include_country', 'test_mae',\n",
    ")"
   ]
  },
  {
   "cell_type": "code",
   "execution_count": null,
   "metadata": {},
   "outputs": [],
   "source": []
  }
 ],
 "metadata": {
  "kernelspec": {
   "display_name": "Python 3",
   "language": "python",
   "name": "python3"
  },
  "language_info": {
   "codemirror_mode": {
    "name": "ipython",
    "version": 3
   },
   "file_extension": ".py",
   "mimetype": "text/x-python",
   "name": "python",
   "nbconvert_exporter": "python",
   "pygments_lexer": "ipython3",
   "version": "3.8.6"
  }
 },
 "nbformat": 4,
 "nbformat_minor": 4
}
