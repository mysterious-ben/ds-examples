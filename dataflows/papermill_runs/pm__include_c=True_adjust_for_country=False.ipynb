{
 "cells": [
  {
   "cell_type": "markdown",
   "metadata": {
    "papermill": {
     "duration": 0.020489,
     "end_time": "2020-12-18T13:05:07.779563",
     "exception": false,
     "start_time": "2020-12-18T13:05:07.759074",
     "status": "completed"
    },
    "tags": []
   },
   "source": [
    "# MLFlow Experiment\n",
    "\n",
    "How to efficiently run multiple ML experiments using `dutil` and `mlflow`:\n",
    "- make explicit dependencies between the tasks in the pipeline\n",
    "- record and visualize metrics from multiple runs (MLFlow)\n",
    "- cache outputs from all pipeline steps (data and models) on disk (dutil.pipeline)\n",
    "- run the pipeline with different parameters (papermill)\n",
    "\n",
    "About:\n",
    "- see the experiment pipeline: `mlflow_experiment.py`\n",
    "- show a metrics summary via MLFlow: `mlflow ui` (in the shell)\n",
    "- run notebooks with different parameters via Papermill: `mlflow_experiment_papermill.ipynb`\n",
    "\n",
    "Limitations:\n",
    "- currently, `dutil.pipeline` only supports \"threads\" Dask scheduler"
   ]
  },
  {
   "cell_type": "markdown",
   "metadata": {
    "papermill": {
     "duration": 0.00393,
     "end_time": "2020-12-18T13:05:07.790275",
     "exception": false,
     "start_time": "2020-12-18T13:05:07.786345",
     "status": "completed"
    },
    "tags": []
   },
   "source": [
    "## Setup"
   ]
  },
  {
   "cell_type": "code",
   "execution_count": 1,
   "metadata": {
    "execution": {
     "iopub.execute_input": "2020-12-18T13:05:07.801078Z",
     "iopub.status.busy": "2020-12-18T13:05:07.800690Z",
     "iopub.status.idle": "2020-12-18T13:05:08.555793Z",
     "shell.execute_reply": "2020-12-18T13:05:08.556139Z"
    },
    "papermill": {
     "duration": 0.76232,
     "end_time": "2020-12-18T13:05:08.556318",
     "exception": false,
     "start_time": "2020-12-18T13:05:07.793998",
     "status": "completed"
    },
    "tags": []
   },
   "outputs": [],
   "source": [
    "import numpy as np\n",
    "import pandas as pd\n",
    "from sklearn.metrics import r2_score, mean_absolute_error, make_scorer\n",
    "from sklearn.impute import SimpleImputer\n",
    "from sklearn.linear_model import LinearRegression\n",
    "from sklearn.ensemble import RandomForestRegressor\n",
    "from sklearn.pipeline import Pipeline\n",
    "from sklearn.model_selection import KFold, GridSearchCV, cross_validate\n",
    "import dutil.pipeline as dpipe\n",
    "from loguru import logger\n",
    "from pprint import pprint\n",
    "\n",
    "import mlflow_experiment as experiment"
   ]
  },
  {
   "cell_type": "markdown",
   "metadata": {
    "papermill": {
     "duration": 0.004104,
     "end_time": "2020-12-18T13:05:08.565153",
     "exception": false,
     "start_time": "2020-12-18T13:05:08.561049",
     "status": "completed"
    },
    "tags": []
   },
   "source": [
    "## Experiment\n",
    "\n",
    "The pipeline is constructed in `mlflow_experiment.py`"
   ]
  },
  {
   "cell_type": "code",
   "execution_count": 2,
   "metadata": {
    "execution": {
     "iopub.execute_input": "2020-12-18T13:05:08.576400Z",
     "iopub.status.busy": "2020-12-18T13:05:08.575999Z",
     "iopub.status.idle": "2020-12-18T13:05:08.577435Z",
     "shell.execute_reply": "2020-12-18T13:05:08.577737Z"
    },
    "papermill": {
     "duration": 0.008643,
     "end_time": "2020-12-18T13:05:08.577866",
     "exception": false,
     "start_time": "2020-12-18T13:05:08.569223",
     "status": "completed"
    },
    "tags": [
     "parameters"
    ]
   },
   "outputs": [],
   "source": [
    "# --- Global Notebook Parameters ---\n",
    "fversion = 0\n",
    "mversion = 0\n",
    "include_country = True\n",
    "adjust_for_country = True\n",
    "target = 'e'\n",
    "test_ratio = 0.3\n",
    "n_folds = 2\n",
    "_n_jobs = 1"
   ]
  },
  {
   "cell_type": "code",
   "execution_count": 3,
   "metadata": {
    "execution": {
     "iopub.execute_input": "2020-12-18T13:05:08.588584Z",
     "iopub.status.busy": "2020-12-18T13:05:08.588157Z",
     "iopub.status.idle": "2020-12-18T13:05:08.590108Z",
     "shell.execute_reply": "2020-12-18T13:05:08.589688Z"
    },
    "papermill": {
     "duration": 0.008181,
     "end_time": "2020-12-18T13:05:08.590227",
     "exception": false,
     "start_time": "2020-12-18T13:05:08.582046",
     "status": "completed"
    },
    "tags": [
     "injected-parameters"
    ]
   },
   "outputs": [],
   "source": [
    "# Parameters\n",
    "include_c = True\n",
    "adjust_for_country = False\n"
   ]
  },
  {
   "cell_type": "code",
   "execution_count": 4,
   "metadata": {
    "execution": {
     "iopub.execute_input": "2020-12-18T13:05:08.601714Z",
     "iopub.status.busy": "2020-12-18T13:05:08.601388Z",
     "iopub.status.idle": "2020-12-18T13:05:08.603353Z",
     "shell.execute_reply": "2020-12-18T13:05:08.603081Z"
    },
    "papermill": {
     "duration": 0.00861,
     "end_time": "2020-12-18T13:05:08.603447",
     "exception": false,
     "start_time": "2020-12-18T13:05:08.594837",
     "status": "completed"
    },
    "tags": []
   },
   "outputs": [],
   "source": [
    "experiment.params.update_many(dict(\n",
    "    fversion=fversion,\n",
    "    mversion=mversion,\n",
    "    include_country=include_country,\n",
    "    adjust_for_country=adjust_for_country,\n",
    "    target=target,\n",
    "    test_ratio=test_ratio,\n",
    "    n_folds=n_folds,\n",
    "    _n_jobs=_n_jobs,\n",
    "))"
   ]
  },
  {
   "cell_type": "markdown",
   "metadata": {
    "papermill": {
     "duration": 0.004436,
     "end_time": "2020-12-18T13:05:08.612632",
     "exception": false,
     "start_time": "2020-12-18T13:05:08.608196",
     "status": "completed"
    },
    "tags": []
   },
   "source": [
    "### Linear Regression"
   ]
  },
  {
   "cell_type": "code",
   "execution_count": 5,
   "metadata": {
    "execution": {
     "iopub.execute_input": "2020-12-18T13:05:08.624753Z",
     "iopub.status.busy": "2020-12-18T13:05:08.624396Z",
     "iopub.status.idle": "2020-12-18T13:05:10.097235Z",
     "shell.execute_reply": "2020-12-18T13:05:10.097482Z"
    },
    "papermill": {
     "duration": 1.480912,
     "end_time": "2020-12-18T13:05:10.097602",
     "exception": false,
     "start_time": "2020-12-18T13:05:08.616690",
     "status": "completed"
    },
    "tags": []
   },
   "outputs": [
    {
     "name": "stderr",
     "output_type": "stream",
     "text": [
      "2020-12-18 16:05:08.627 | INFO     | dutil.pipeline._cached:new_foo:314 - Task load_data_1.pickle: skip (cache exists)\n"
     ]
    },
    {
     "name": "stderr",
     "output_type": "stream",
     "text": [
      "2020-12-18 16:05:08.627 | INFO     | dutil.pipeline._cached:new_foo:314 - Task load_data_3.pickle: skip (cache exists)\n"
     ]
    },
    {
     "name": "stderr",
     "output_type": "stream",
     "text": [
      "2020-12-18 16:05:08.628 | INFO     | dutil.pipeline._cached:new_foo:314 - Task load_data_2.pickle: skip (cache exists)\n"
     ]
    },
    {
     "name": "stderr",
     "output_type": "stream",
     "text": [
      "2020-12-18 16:05:08.630 | DEBUG    | dutil.pipeline._cached:load:196 - Task load_data_1.pickle: data has been loaded from cache\n"
     ]
    },
    {
     "name": "stderr",
     "output_type": "stream",
     "text": [
      "2020-12-18 16:05:08.631 | DEBUG    | dutil.pipeline._cached:load:196 - Task load_data_2.pickle: data has been loaded from cache\n"
     ]
    },
    {
     "name": "stderr",
     "output_type": "stream",
     "text": [
      "2020-12-18 16:05:08.632 | DEBUG    | dutil.pipeline._cached:load:196 - Task load_data_3.pickle: data has been loaded from cache\n"
     ]
    },
    {
     "name": "stderr",
     "output_type": "stream",
     "text": [
      "2020-12-18 16:05:09.637 | DEBUG    | dutil.pipeline._cached:dump:210 - Task mlpipe_make_x_y_df_1|9686102406375020340_df_2|3176941632375591712_df_3|16702583620649360787_include_country|True_adjust_for_country|False_target|e_fversion|0.pickle: data has been saved to cache\n"
     ]
    },
    {
     "name": "stderr",
     "output_type": "stream",
     "text": [
      "2020-12-18 16:05:09.638 | INFO     | dutil.pipeline._cached:new_foo:329 - Task mlpipe_make_x_y_df_1|9686102406375020340_df_2|3176941632375591712_df_3|16702583620649360787_include_country|True_adjust_for_country|False_target|e_fversion|0.pickle: data has been computed and saved to cache\n"
     ]
    },
    {
     "name": "stderr",
     "output_type": "stream",
     "text": [
      "2020-12-18 16:05:09.640 | DEBUG    | dutil.pipeline._cached:__cached_hash__:228 - Task mlpipe_make_x_y_df_1|9686102406375020340_df_2|3176941632375591712_df_3|16702583620649360787_include_country|True_adjust_for_country|False_target|e_fversion|0.pickle: hash has been computed from data\n"
     ]
    },
    {
     "name": "stderr",
     "output_type": "stream",
     "text": [
      "2020-12-18 16:05:09.644 | DEBUG    | dutil.pipeline._cached:dump:210 - Task mlpipe_split_x_y_X|636766007339065908_y|16896747200748431878_test_ratio|0.3.pickle: data has been saved to cache\n"
     ]
    },
    {
     "name": "stderr",
     "output_type": "stream",
     "text": [
      "2020-12-18 16:05:09.644 | INFO     | dutil.pipeline._cached:new_foo:329 - Task mlpipe_split_x_y_X|636766007339065908_y|16896747200748431878_test_ratio|0.3.pickle: data has been computed and saved to cache\n"
     ]
    },
    {
     "name": "stderr",
     "output_type": "stream",
     "text": [
      "2020-12-18 16:05:09.645 | DEBUG    | dutil.pipeline._cached:__cached_hash__:228 - Task mlpipe_split_x_y_X|636766007339065908_y|16896747200748431878_test_ratio|0.3.pickle: hash has been computed from data\n"
     ]
    },
    {
     "name": "stderr",
     "output_type": "stream",
     "text": [
      "2020-12-18 16:05:10.091 | DEBUG    | dutil.pipeline._cached:dump:210 - Task mlpipe_crossval_model_model_name|lr_X|3325676553968173544_y|805566526682016355_n_folds|2_mversion|0_n_jobs|1.pickle: data has been saved to cache\n"
     ]
    },
    {
     "name": "stderr",
     "output_type": "stream",
     "text": [
      "2020-12-18 16:05:10.092 | INFO     | dutil.pipeline._cached:new_foo:329 - Task mlpipe_crossval_model_model_name|lr_X|3325676553968173544_y|805566526682016355_n_folds|2_mversion|0_n_jobs|1.pickle: data has been computed and saved to cache\n"
     ]
    },
    {
     "name": "stderr",
     "output_type": "stream",
     "text": [
      "2020-12-18 16:05:10.094 | INFO     | mlflow_experiment:run_experiment:159 - Experiment run is finished\n"
     ]
    }
   ],
   "source": [
    "with experiment.params.context(dict(\n",
    "    model_name='lr',\n",
    "    _model=Pipeline((\n",
    "        ('t', SimpleImputer(fill_value=0)),\n",
    "        ('e', LinearRegression()),\n",
    "    )),\n",
    ")):\n",
    "    model, results = experiment.run_experiment()"
   ]
  },
  {
   "cell_type": "code",
   "execution_count": 6,
   "metadata": {
    "execution": {
     "iopub.execute_input": "2020-12-18T13:05:10.114593Z",
     "iopub.status.busy": "2020-12-18T13:05:10.114242Z",
     "iopub.status.idle": "2020-12-18T13:05:10.117376Z",
     "shell.execute_reply": "2020-12-18T13:05:10.117042Z"
    },
    "papermill": {
     "duration": 0.013534,
     "end_time": "2020-12-18T13:05:10.117491",
     "exception": false,
     "start_time": "2020-12-18T13:05:10.103957",
     "status": "completed"
    },
    "tags": []
   },
   "outputs": [
    {
     "name": "stdout",
     "output_type": "stream",
     "text": [
      "Pipeline(steps=[('t', SimpleImputer(fill_value=0)), ('e', LinearRegression())])\n",
      "\n",
      "{'fit_time': array([0.00364065, 0.00303864]),\n",
      " 'score_time': array([0.00166321, 0.00155973]),\n",
      " 'test_mae': array([-2.25, -4.  ]),\n",
      " 'test_r2': array([-19.5, -15. ]),\n",
      " 'train_mae': array([-2.22044605e-16, -1.11022302e-16]),\n",
      " 'train_r2': array([1., 1.])}\n"
     ]
    }
   ],
   "source": [
    "pprint(model)\n",
    "print()\n",
    "pprint(results)"
   ]
  },
  {
   "cell_type": "markdown",
   "metadata": {
    "papermill": {
     "duration": 0.006436,
     "end_time": "2020-12-18T13:05:10.130968",
     "exception": false,
     "start_time": "2020-12-18T13:05:10.124532",
     "status": "completed"
    },
    "tags": []
   },
   "source": [
    "### Random Forests"
   ]
  },
  {
   "cell_type": "code",
   "execution_count": 7,
   "metadata": {
    "execution": {
     "iopub.execute_input": "2020-12-18T13:05:10.149529Z",
     "iopub.status.busy": "2020-12-18T13:05:10.148801Z",
     "iopub.status.idle": "2020-12-18T13:05:10.592505Z",
     "shell.execute_reply": "2020-12-18T13:05:10.592805Z"
    },
    "papermill": {
     "duration": 0.454799,
     "end_time": "2020-12-18T13:05:10.592922",
     "exception": false,
     "start_time": "2020-12-18T13:05:10.138123",
     "status": "completed"
    },
    "tags": []
   },
   "outputs": [
    {
     "name": "stderr",
     "output_type": "stream",
     "text": [
      "2020-12-18 16:05:10.148 | INFO     | dutil.pipeline._cached:new_foo:314 - Task load_data_1.pickle: skip (cache exists)\n"
     ]
    },
    {
     "name": "stderr",
     "output_type": "stream",
     "text": [
      "2020-12-18 16:05:10.150 | INFO     | dutil.pipeline._cached:new_foo:314 - Task load_data_3.pickle: skip (cache exists)\n"
     ]
    },
    {
     "name": "stderr",
     "output_type": "stream",
     "text": [
      "2020-12-18 16:05:10.150 | INFO     | dutil.pipeline._cached:new_foo:314 - Task load_data_2.pickle: skip (cache exists)\n"
     ]
    },
    {
     "name": "stderr",
     "output_type": "stream",
     "text": [
      "2020-12-18 16:05:10.152 | INFO     | dutil.pipeline._cached:new_foo:314 - Task mlpipe_make_x_y_df_1|9686102406375020340_df_2|3176941632375591712_df_3|16702583620649360787_include_country|True_adjust_for_country|False_target|e_fversion|0.pickle: skip (cache exists)\n"
     ]
    },
    {
     "name": "stderr",
     "output_type": "stream",
     "text": [
      "2020-12-18 16:05:10.153 | INFO     | dutil.pipeline._cached:new_foo:314 - Task mlpipe_split_x_y_X|636766007339065908_y|16896747200748431878_test_ratio|0.3.pickle: skip (cache exists)\n"
     ]
    },
    {
     "name": "stderr",
     "output_type": "stream",
     "text": [
      "2020-12-18 16:05:10.156 | DEBUG    | dutil.pipeline._cached:load:196 - Task mlpipe_split_x_y_X|636766007339065908_y|16896747200748431878_test_ratio|0.3.pickle: data has been loaded from cache\n"
     ]
    },
    {
     "name": "stderr",
     "output_type": "stream",
     "text": [
      "2020-12-18 16:05:10.588 | DEBUG    | dutil.pipeline._cached:dump:210 - Task mlpipe_crossval_model_model_name|rf_X|3325676553968173544_y|805566526682016355_n_folds|2_mversion|0_n_jobs|1.pickle: data has been saved to cache\n"
     ]
    },
    {
     "name": "stderr",
     "output_type": "stream",
     "text": [
      "2020-12-18 16:05:10.588 | INFO     | dutil.pipeline._cached:new_foo:329 - Task mlpipe_crossval_model_model_name|rf_X|3325676553968173544_y|805566526682016355_n_folds|2_mversion|0_n_jobs|1.pickle: data has been computed and saved to cache\n"
     ]
    },
    {
     "name": "stderr",
     "output_type": "stream",
     "text": [
      "2020-12-18 16:05:10.590 | INFO     | mlflow_experiment:run_experiment:159 - Experiment run is finished\n"
     ]
    }
   ],
   "source": [
    "with experiment.params.context(dict(\n",
    "    model_name='rf',\n",
    "    _model=Pipeline((\n",
    "        ('t', SimpleImputer(fill_value=0)),\n",
    "        ('e', RandomForestRegressor()),\n",
    "    )),\n",
    ")):\n",
    "    model, results = experiment.run_experiment()"
   ]
  },
  {
   "cell_type": "code",
   "execution_count": 8,
   "metadata": {
    "execution": {
     "iopub.execute_input": "2020-12-18T13:05:10.612289Z",
     "iopub.status.busy": "2020-12-18T13:05:10.611971Z",
     "iopub.status.idle": "2020-12-18T13:05:10.613905Z",
     "shell.execute_reply": "2020-12-18T13:05:10.613555Z"
    },
    "papermill": {
     "duration": 0.012515,
     "end_time": "2020-12-18T13:05:10.614008",
     "exception": false,
     "start_time": "2020-12-18T13:05:10.601493",
     "status": "completed"
    },
    "tags": []
   },
   "outputs": [
    {
     "name": "stdout",
     "output_type": "stream",
     "text": [
      "{'fversion': 0, 'mversion': 0, 'include_country': True, 'adjust_for_country': False, 'target': 'e', 'test_ratio': 0.3, 'n_folds': 2, 'model_name': 'rf'}\n"
     ]
    }
   ],
   "source": [
    "with experiment.params.context(dict(\n",
    "    model_name='rf',\n",
    "    _model=RandomForestRegressor(),\n",
    ")):\n",
    "    print(experiment.params.get_params())"
   ]
  },
  {
   "cell_type": "code",
   "execution_count": null,
   "metadata": {
    "papermill": {
     "duration": 0.008947,
     "end_time": "2020-12-18T13:05:10.631788",
     "exception": false,
     "start_time": "2020-12-18T13:05:10.622841",
     "status": "completed"
    },
    "tags": []
   },
   "outputs": [],
   "source": []
  }
 ],
 "metadata": {
  "kernelspec": {
   "display_name": "Python 3",
   "language": "python",
   "name": "python3"
  },
  "language_info": {
   "codemirror_mode": {
    "name": "ipython",
    "version": 3
   },
   "file_extension": ".py",
   "mimetype": "text/x-python",
   "name": "python",
   "nbconvert_exporter": "python",
   "pygments_lexer": "ipython3",
   "version": "3.8.6"
  },
  "papermill": {
   "default_parameters": {},
   "duration": 3.863464,
   "end_time": "2020-12-18T13:05:11.045550",
   "environment_variables": {},
   "exception": null,
   "input_path": "mlflow_experiment.ipynb",
   "output_path": "papermill_runs/pm__include_c=True_adjust_for_country=False.ipynb",
   "parameters": {
    "adjust_for_country": false,
    "include_c": true
   },
   "start_time": "2020-12-18T13:05:07.182086",
   "version": "2.2.2"
  }
 },
 "nbformat": 4,
 "nbformat_minor": 4
}