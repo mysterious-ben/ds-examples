{
 "cells": [
  {
   "cell_type": "markdown",
   "metadata": {
    "papermill": {
     "duration": 0.02045,
     "end_time": "2020-12-21T12:36:04.391614",
     "exception": false,
     "start_time": "2020-12-21T12:36:04.371164",
     "status": "completed"
    },
    "tags": []
   },
   "source": [
    "# MLFlow Experiment\n",
    "\n",
    "How to efficiently run multiple ML experiments using `dutil` and `mlflow`:\n",
    "- make explicit dependencies between the tasks in the pipeline\n",
    "- record and visualize metrics from multiple runs (MLFlow)\n",
    "- cache outputs from all pipeline steps (data and models) on disk (dutil.pipeline)\n",
    "- run the pipeline with different parameters (papermill)\n",
    "\n",
    "About:\n",
    "- see the experiment pipeline: `mlflow_experiment.py`\n",
    "- show a metrics summary via MLFlow: `mlflow ui` (in the shell)\n",
    "- run notebooks with different parameters via Papermill: `mlflow_experiment_papermill.ipynb`\n",
    "\n",
    "Limitations:\n",
    "- currently, `dutil.pipeline` only supports \"threads\" Dask scheduler"
   ]
  },
  {
   "cell_type": "markdown",
   "metadata": {
    "papermill": {
     "duration": 0.009103,
     "end_time": "2020-12-21T12:36:04.417100",
     "exception": false,
     "start_time": "2020-12-21T12:36:04.407997",
     "status": "completed"
    },
    "tags": []
   },
   "source": [
    "## Setup"
   ]
  },
  {
   "cell_type": "code",
   "execution_count": 1,
   "metadata": {
    "execution": {
     "iopub.execute_input": "2020-12-21T12:36:04.432805Z",
     "iopub.status.busy": "2020-12-21T12:36:04.432395Z",
     "iopub.status.idle": "2020-12-21T12:36:05.109485Z",
     "shell.execute_reply": "2020-12-21T12:36:05.109179Z"
    },
    "papermill": {
     "duration": 0.686243,
     "end_time": "2020-12-21T12:36:05.109636",
     "exception": false,
     "start_time": "2020-12-21T12:36:04.423393",
     "status": "completed"
    },
    "tags": []
   },
   "outputs": [],
   "source": [
    "import numpy as np\n",
    "import pandas as pd\n",
    "from sklearn.metrics import r2_score, mean_absolute_error, make_scorer\n",
    "from sklearn.impute import SimpleImputer\n",
    "from sklearn.linear_model import LinearRegression\n",
    "from sklearn.ensemble import RandomForestRegressor\n",
    "from sklearn.pipeline import Pipeline\n",
    "from sklearn.model_selection import KFold, GridSearchCV, cross_validate\n",
    "import dutil.pipeline as dpipe\n",
    "from loguru import logger\n",
    "from pprint import pprint\n",
    "\n",
    "import mlflow_experiment as experiment"
   ]
  },
  {
   "cell_type": "markdown",
   "metadata": {
    "papermill": {
     "duration": 0.007148,
     "end_time": "2020-12-21T12:36:05.120343",
     "exception": false,
     "start_time": "2020-12-21T12:36:05.113195",
     "status": "completed"
    },
    "tags": []
   },
   "source": [
    "## Experiment\n",
    "\n",
    "The pipeline is constructed in `mlflow_experiment.py`"
   ]
  },
  {
   "cell_type": "code",
   "execution_count": 2,
   "metadata": {
    "execution": {
     "iopub.execute_input": "2020-12-21T12:36:05.129974Z",
     "iopub.status.busy": "2020-12-21T12:36:05.129668Z",
     "iopub.status.idle": "2020-12-21T12:36:05.131372Z",
     "shell.execute_reply": "2020-12-21T12:36:05.131044Z"
    },
    "papermill": {
     "duration": 0.007745,
     "end_time": "2020-12-21T12:36:05.131455",
     "exception": false,
     "start_time": "2020-12-21T12:36:05.123710",
     "status": "completed"
    },
    "tags": [
     "parameters"
    ]
   },
   "outputs": [],
   "source": [
    "# --- Global Notebook Parameters ---\n",
    "fversion = 0\n",
    "mversion = 0\n",
    "include_country = True\n",
    "adjust_for_country = True\n",
    "target = 'e'\n",
    "test_ratio = 0.3\n",
    "n_folds = 2\n",
    "_n_jobs = 1"
   ]
  },
  {
   "cell_type": "code",
   "execution_count": 3,
   "metadata": {
    "execution": {
     "iopub.execute_input": "2020-12-21T12:36:05.140647Z",
     "iopub.status.busy": "2020-12-21T12:36:05.140347Z",
     "iopub.status.idle": "2020-12-21T12:36:05.142112Z",
     "shell.execute_reply": "2020-12-21T12:36:05.141791Z"
    },
    "papermill": {
     "duration": 0.007303,
     "end_time": "2020-12-21T12:36:05.142195",
     "exception": false,
     "start_time": "2020-12-21T12:36:05.134892",
     "status": "completed"
    },
    "tags": [
     "injected-parameters"
    ]
   },
   "outputs": [],
   "source": [
    "# Parameters\n",
    "include_c = True\n",
    "adjust_for_country = False\n"
   ]
  },
  {
   "cell_type": "code",
   "execution_count": 4,
   "metadata": {
    "execution": {
     "iopub.execute_input": "2020-12-21T12:36:05.151718Z",
     "iopub.status.busy": "2020-12-21T12:36:05.151404Z",
     "iopub.status.idle": "2020-12-21T12:36:05.153043Z",
     "shell.execute_reply": "2020-12-21T12:36:05.152726Z"
    },
    "papermill": {
     "duration": 0.007373,
     "end_time": "2020-12-21T12:36:05.153127",
     "exception": false,
     "start_time": "2020-12-21T12:36:05.145754",
     "status": "completed"
    },
    "tags": []
   },
   "outputs": [],
   "source": [
    "experiment.params.update_many(dict(\n",
    "    fversion=fversion,\n",
    "    mversion=mversion,\n",
    "    include_country=include_country,\n",
    "    adjust_for_country=adjust_for_country,\n",
    "    target=target,\n",
    "    test_ratio=test_ratio,\n",
    "    n_folds=n_folds,\n",
    "    _n_jobs=_n_jobs,\n",
    "))"
   ]
  },
  {
   "cell_type": "markdown",
   "metadata": {
    "papermill": {
     "duration": 0.003677,
     "end_time": "2020-12-21T12:36:05.160417",
     "exception": false,
     "start_time": "2020-12-21T12:36:05.156740",
     "status": "completed"
    },
    "tags": []
   },
   "source": [
    "### Linear Regression"
   ]
  },
  {
   "cell_type": "code",
   "execution_count": 5,
   "metadata": {
    "execution": {
     "iopub.execute_input": "2020-12-21T12:36:05.170320Z",
     "iopub.status.busy": "2020-12-21T12:36:05.170012Z",
     "iopub.status.idle": "2020-12-21T12:36:05.185364Z",
     "shell.execute_reply": "2020-12-21T12:36:05.185051Z"
    },
    "papermill": {
     "duration": 0.021538,
     "end_time": "2020-12-21T12:36:05.185513",
     "exception": false,
     "start_time": "2020-12-21T12:36:05.163975",
     "status": "completed"
    },
    "tags": []
   },
   "outputs": [
    {
     "name": "stderr",
     "output_type": "stream",
     "text": [
      "2020-12-21 15:36:05.172 | INFO     | dutil.pipeline._cached:new_foo:314 - Task load_data_3.pickle: skip (cache exists)\n"
     ]
    },
    {
     "name": "stderr",
     "output_type": "stream",
     "text": [
      "2020-12-21 15:36:05.174 | INFO     | dutil.pipeline._cached:new_foo:314 - Task load_data_1.pickle: skip (cache exists)\n"
     ]
    },
    {
     "name": "stderr",
     "output_type": "stream",
     "text": [
      "2020-12-21 15:36:05.175 | INFO     | dutil.pipeline._cached:new_foo:314 - Task load_data_2.pickle: skip (cache exists)\n"
     ]
    },
    {
     "name": "stderr",
     "output_type": "stream",
     "text": [
      "2020-12-21 15:36:05.177 | INFO     | dutil.pipeline._cached:new_foo:314 - Task mlpipe_make_x_y_df_1|9686102406375020340_df_2|3176941632375591712_df_3|16702583620649360787_include_country|True_adjust_for_country|False_target|e_fversion|0.pickle: skip (cache exists)\n"
     ]
    },
    {
     "name": "stderr",
     "output_type": "stream",
     "text": [
      "2020-12-21 15:36:05.179 | INFO     | dutil.pipeline._cached:new_foo:314 - Task mlpipe_split_x_y_X|636766007339065908_y|16896747200748431878_test_ratio|0.3.pickle: skip (cache exists)\n"
     ]
    },
    {
     "name": "stderr",
     "output_type": "stream",
     "text": [
      "2020-12-21 15:36:05.180 | INFO     | dutil.pipeline._cached:new_foo:314 - Task mlpipe_crossval_model_model_name|lr_X|3325676553968173544_y|805566526682016355_n_folds|2_mversion|0_n_jobs|1.pickle: skip (cache exists)\n"
     ]
    },
    {
     "name": "stderr",
     "output_type": "stream",
     "text": [
      "2020-12-21 15:36:05.181 | DEBUG    | dutil.pipeline._cached:load:196 - Task mlpipe_crossval_model_model_name|lr_X|3325676553968173544_y|805566526682016355_n_folds|2_mversion|0_n_jobs|1.pickle: data has been loaded from cache\n"
     ]
    },
    {
     "name": "stderr",
     "output_type": "stream",
     "text": [
      "2020-12-21 15:36:05.182 | INFO     | mlflow_experiment:run_experiment:159 - Experiment run is finished\n"
     ]
    }
   ],
   "source": [
    "with experiment.params.context(dict(\n",
    "    model_name='lr',\n",
    "    _model=Pipeline((\n",
    "        ('t', SimpleImputer(fill_value=0)),\n",
    "        ('e', LinearRegression()),\n",
    "    )),\n",
    ")):\n",
    "    model, results = experiment.run_experiment()"
   ]
  },
  {
   "cell_type": "code",
   "execution_count": 6,
   "metadata": {
    "execution": {
     "iopub.execute_input": "2020-12-21T12:36:05.199510Z",
     "iopub.status.busy": "2020-12-21T12:36:05.199076Z",
     "iopub.status.idle": "2020-12-21T12:36:05.201256Z",
     "shell.execute_reply": "2020-12-21T12:36:05.201491Z"
    },
    "papermill": {
     "duration": 0.011216,
     "end_time": "2020-12-21T12:36:05.201654",
     "exception": false,
     "start_time": "2020-12-21T12:36:05.190438",
     "status": "completed"
    },
    "tags": []
   },
   "outputs": [
    {
     "name": "stdout",
     "output_type": "stream",
     "text": [
      "Pipeline(steps=[('t', SimpleImputer(fill_value=0)), ('e', LinearRegression())])\n",
      "\n",
      "{'fit_time': array([0.00364065, 0.00303864]),\n",
      " 'score_time': array([0.00166321, 0.00155973]),\n",
      " 'test_mae': array([-2.25, -4.  ]),\n",
      " 'test_r2': array([-19.5, -15. ]),\n",
      " 'train_mae': array([-2.22044605e-16, -1.11022302e-16]),\n",
      " 'train_r2': array([1., 1.])}\n"
     ]
    }
   ],
   "source": [
    "pprint(model)\n",
    "print()\n",
    "pprint(results)"
   ]
  },
  {
   "cell_type": "markdown",
   "metadata": {
    "papermill": {
     "duration": 0.005356,
     "end_time": "2020-12-21T12:36:05.212127",
     "exception": false,
     "start_time": "2020-12-21T12:36:05.206771",
     "status": "completed"
    },
    "tags": []
   },
   "source": [
    "### Random Forests"
   ]
  },
  {
   "cell_type": "code",
   "execution_count": 7,
   "metadata": {
    "execution": {
     "iopub.execute_input": "2020-12-21T12:36:05.224835Z",
     "iopub.status.busy": "2020-12-21T12:36:05.224399Z",
     "iopub.status.idle": "2020-12-21T12:36:05.237173Z",
     "shell.execute_reply": "2020-12-21T12:36:05.236855Z"
    },
    "papermill": {
     "duration": 0.020139,
     "end_time": "2020-12-21T12:36:05.237261",
     "exception": false,
     "start_time": "2020-12-21T12:36:05.217122",
     "status": "completed"
    },
    "tags": []
   },
   "outputs": [
    {
     "name": "stderr",
     "output_type": "stream",
     "text": [
      "2020-12-21 15:36:05.224 | INFO     | dutil.pipeline._cached:new_foo:314 - Task load_data_1.pickle: skip (cache exists)\n"
     ]
    },
    {
     "name": "stderr",
     "output_type": "stream",
     "text": [
      "2020-12-21 15:36:05.226 | INFO     | dutil.pipeline._cached:new_foo:314 - Task load_data_3.pickle: skip (cache exists)\n"
     ]
    },
    {
     "name": "stderr",
     "output_type": "stream",
     "text": [
      "2020-12-21 15:36:05.227 | INFO     | dutil.pipeline._cached:new_foo:314 - Task load_data_2.pickle: skip (cache exists)\n"
     ]
    },
    {
     "name": "stderr",
     "output_type": "stream",
     "text": [
      "2020-12-21 15:36:05.228 | INFO     | dutil.pipeline._cached:new_foo:314 - Task mlpipe_make_x_y_df_1|9686102406375020340_df_2|3176941632375591712_df_3|16702583620649360787_include_country|True_adjust_for_country|False_target|e_fversion|0.pickle: skip (cache exists)\n"
     ]
    },
    {
     "name": "stderr",
     "output_type": "stream",
     "text": [
      "2020-12-21 15:36:05.230 | INFO     | dutil.pipeline._cached:new_foo:314 - Task mlpipe_split_x_y_X|636766007339065908_y|16896747200748431878_test_ratio|0.3.pickle: skip (cache exists)\n"
     ]
    },
    {
     "name": "stderr",
     "output_type": "stream",
     "text": [
      "2020-12-21 15:36:05.231 | INFO     | dutil.pipeline._cached:new_foo:314 - Task mlpipe_crossval_model_model_name|rf_X|3325676553968173544_y|805566526682016355_n_folds|2_mversion|0_n_jobs|1.pickle: skip (cache exists)\n"
     ]
    },
    {
     "name": "stderr",
     "output_type": "stream",
     "text": [
      "2020-12-21 15:36:05.234 | DEBUG    | dutil.pipeline._cached:load:196 - Task mlpipe_crossval_model_model_name|rf_X|3325676553968173544_y|805566526682016355_n_folds|2_mversion|0_n_jobs|1.pickle: data has been loaded from cache\n"
     ]
    },
    {
     "name": "stderr",
     "output_type": "stream",
     "text": [
      "2020-12-21 15:36:05.234 | INFO     | mlflow_experiment:run_experiment:159 - Experiment run is finished\n"
     ]
    }
   ],
   "source": [
    "with experiment.params.context(dict(\n",
    "    model_name='rf',\n",
    "    _model=Pipeline((\n",
    "        ('t', SimpleImputer(fill_value=0)),\n",
    "        ('e', RandomForestRegressor()),\n",
    "    )),\n",
    ")):\n",
    "    model, results = experiment.run_experiment()"
   ]
  },
  {
   "cell_type": "code",
   "execution_count": 8,
   "metadata": {
    "execution": {
     "iopub.execute_input": "2020-12-21T12:36:05.252456Z",
     "iopub.status.busy": "2020-12-21T12:36:05.252133Z",
     "iopub.status.idle": "2020-12-21T12:36:05.254101Z",
     "shell.execute_reply": "2020-12-21T12:36:05.253838Z"
    },
    "papermill": {
     "duration": 0.010562,
     "end_time": "2020-12-21T12:36:05.254195",
     "exception": false,
     "start_time": "2020-12-21T12:36:05.243633",
     "status": "completed"
    },
    "tags": []
   },
   "outputs": [
    {
     "name": "stdout",
     "output_type": "stream",
     "text": [
      "{'fversion': 0, 'mversion': 0, 'include_country': True, 'adjust_for_country': False, 'target': 'e', 'test_ratio': 0.3, 'n_folds': 2, 'model_name': 'rf'}\n"
     ]
    }
   ],
   "source": [
    "with experiment.params.context(dict(\n",
    "    model_name='rf',\n",
    "    _model=RandomForestRegressor(),\n",
    ")):\n",
    "    print(experiment.params.get_params())"
   ]
  },
  {
   "cell_type": "code",
   "execution_count": null,
   "metadata": {
    "papermill": {
     "duration": 0.006393,
     "end_time": "2020-12-21T12:36:05.267037",
     "exception": false,
     "start_time": "2020-12-21T12:36:05.260644",
     "status": "completed"
    },
    "tags": []
   },
   "outputs": [],
   "source": []
  }
 ],
 "metadata": {
  "kernelspec": {
   "display_name": "Python 3",
   "language": "python",
   "name": "python3"
  },
  "language_info": {
   "codemirror_mode": {
    "name": "ipython",
    "version": 3
   },
   "file_extension": ".py",
   "mimetype": "text/x-python",
   "name": "python",
   "nbconvert_exporter": "python",
   "pygments_lexer": "ipython3",
   "version": "3.8.6"
  },
  "papermill": {
   "default_parameters": {},
   "duration": 1.721869,
   "end_time": "2020-12-21T12:36:05.577963",
   "environment_variables": {},
   "exception": null,
   "input_path": "mlflow_experiment.ipynb",
   "output_path": "papermill_runs/pm__include_c=True_adjust_for_country=False.ipynb",
   "parameters": {
    "adjust_for_country": false,
    "include_c": true
   },
   "start_time": "2020-12-21T12:36:03.856094",
   "version": "2.2.2"
  }
 },
 "nbformat": 4,
 "nbformat_minor": 4
}