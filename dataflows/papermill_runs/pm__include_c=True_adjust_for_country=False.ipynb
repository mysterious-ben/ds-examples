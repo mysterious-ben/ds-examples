{
 "cells": [
  {
   "cell_type": "markdown",
   "metadata": {
    "papermill": {
     "duration": 0.006502,
     "end_time": "2020-11-27T09:46:07.500607",
     "exception": false,
     "start_time": "2020-11-27T09:46:07.494105",
     "status": "completed"
    },
    "tags": []
   },
   "source": [
    "# MLFlow Experiment\n",
    "\n",
    "How to efficiently run multiple ML experiments using `dutil` and `mlflow`:\n",
    "- make explicit dependencies between the tasks in the pipeline\n",
    "- run the pipeline with different parameters \n",
    "- record and visualize metrics from multiple runs\n",
    "- cache intermediate data and models\n",
    "\n",
    "About:\n",
    "- See the experiment pipeline: `mlflow_experiment.py`\n",
    "- Show a metrics summary via MLFlow: `mlflow ui` (in the shell)\n",
    "- Run notebooks with different parameters via Papermill: `mlflow_experiment_papermill.ipynb`\n",
    "\n",
    "Limitations:\n",
    "- currently `dutil` only supports \"threads\" Dask scheduler"
   ]
  },
  {
   "cell_type": "markdown",
   "metadata": {
    "papermill": {
     "duration": 0.003927,
     "end_time": "2020-11-27T09:46:07.511274",
     "exception": false,
     "start_time": "2020-11-27T09:46:07.507347",
     "status": "completed"
    },
    "tags": []
   },
   "source": [
    "## Setup"
   ]
  },
  {
   "cell_type": "code",
   "execution_count": 1,
   "metadata": {
    "execution": {
     "iopub.execute_input": "2020-11-27T09:46:07.522364Z",
     "iopub.status.busy": "2020-11-27T09:46:07.522001Z",
     "iopub.status.idle": "2020-11-27T09:46:08.205278Z",
     "shell.execute_reply": "2020-11-27T09:46:08.204945Z"
    },
    "papermill": {
     "duration": 0.690278,
     "end_time": "2020-11-27T09:46:08.205386",
     "exception": false,
     "start_time": "2020-11-27T09:46:07.515108",
     "status": "completed"
    },
    "tags": []
   },
   "outputs": [],
   "source": [
    "import numpy as np\n",
    "import pandas as pd\n",
    "from sklearn.metrics import r2_score, mean_absolute_error, make_scorer\n",
    "from sklearn.impute import SimpleImputer\n",
    "from sklearn.linear_model import LinearRegression\n",
    "from sklearn.ensemble import RandomForestRegressor\n",
    "from sklearn.pipeline import Pipeline\n",
    "from sklearn.model_selection import KFold, GridSearchCV, cross_validate\n",
    "import dutil.pipeline as dpipe\n",
    "from loguru import logger\n",
    "from pprint import pprint\n",
    "\n",
    "import mlflow_experiment as experiment"
   ]
  },
  {
   "cell_type": "markdown",
   "metadata": {
    "papermill": {
     "duration": 0.00369,
     "end_time": "2020-11-27T09:46:08.212765",
     "exception": false,
     "start_time": "2020-11-27T09:46:08.209075",
     "status": "completed"
    },
    "tags": []
   },
   "source": [
    "## Experiment\n",
    "\n",
    "The pipeline is constructed in `mlflow_experiment.py`"
   ]
  },
  {
   "cell_type": "code",
   "execution_count": 2,
   "metadata": {
    "execution": {
     "iopub.execute_input": "2020-11-27T09:46:08.222952Z",
     "iopub.status.busy": "2020-11-27T09:46:08.222600Z",
     "iopub.status.idle": "2020-11-27T09:46:08.224316Z",
     "shell.execute_reply": "2020-11-27T09:46:08.223996Z"
    },
    "papermill": {
     "duration": 0.007963,
     "end_time": "2020-11-27T09:46:08.224401",
     "exception": false,
     "start_time": "2020-11-27T09:46:08.216438",
     "status": "completed"
    },
    "tags": [
     "parameters"
    ]
   },
   "outputs": [],
   "source": [
    "# --- Global Notebook Parameters ---\n",
    "fversion = 0\n",
    "mversion = 0\n",
    "include_country = True\n",
    "adjust_for_country = True\n",
    "target = 'e'\n",
    "test_ratio = 0.3\n",
    "n_folds = 2\n",
    "_n_jobs = 1"
   ]
  },
  {
   "cell_type": "code",
   "execution_count": 3,
   "metadata": {
    "execution": {
     "iopub.execute_input": "2020-11-27T09:46:08.234945Z",
     "iopub.status.busy": "2020-11-27T09:46:08.234579Z",
     "iopub.status.idle": "2020-11-27T09:46:08.236324Z",
     "shell.execute_reply": "2020-11-27T09:46:08.235990Z"
    },
    "papermill": {
     "duration": 0.008428,
     "end_time": "2020-11-27T09:46:08.236415",
     "exception": false,
     "start_time": "2020-11-27T09:46:08.227987",
     "status": "completed"
    },
    "tags": [
     "injected-parameters"
    ]
   },
   "outputs": [],
   "source": [
    "# Parameters\n",
    "include_c = True\n",
    "adjust_for_country = False\n"
   ]
  },
  {
   "cell_type": "code",
   "execution_count": 4,
   "metadata": {
    "execution": {
     "iopub.execute_input": "2020-11-27T09:46:08.247188Z",
     "iopub.status.busy": "2020-11-27T09:46:08.246746Z",
     "iopub.status.idle": "2020-11-27T09:46:08.248409Z",
     "shell.execute_reply": "2020-11-27T09:46:08.248072Z"
    },
    "papermill": {
     "duration": 0.008223,
     "end_time": "2020-11-27T09:46:08.248501",
     "exception": false,
     "start_time": "2020-11-27T09:46:08.240278",
     "status": "completed"
    },
    "tags": []
   },
   "outputs": [],
   "source": [
    "experiment.params.update_many(dict(\n",
    "    fversion=fversion,\n",
    "    mversion=mversion,\n",
    "    include_country=include_country,\n",
    "    adjust_for_country=adjust_for_country,\n",
    "    target=target,\n",
    "    test_ratio=test_ratio,\n",
    "    n_folds=n_folds,\n",
    "    _n_jobs=_n_jobs,\n",
    "))"
   ]
  },
  {
   "cell_type": "markdown",
   "metadata": {
    "papermill": {
     "duration": 0.003998,
     "end_time": "2020-11-27T09:46:08.256373",
     "exception": false,
     "start_time": "2020-11-27T09:46:08.252375",
     "status": "completed"
    },
    "tags": []
   },
   "source": [
    "### Linear Regression"
   ]
  },
  {
   "cell_type": "code",
   "execution_count": 5,
   "metadata": {
    "execution": {
     "iopub.execute_input": "2020-11-27T09:46:08.267913Z",
     "iopub.status.busy": "2020-11-27T09:46:08.267546Z",
     "iopub.status.idle": "2020-11-27T09:46:09.360329Z",
     "shell.execute_reply": "2020-11-27T09:46:09.360604Z"
    },
    "papermill": {
     "duration": 1.100041,
     "end_time": "2020-11-27T09:46:09.360720",
     "exception": false,
     "start_time": "2020-11-27T09:46:08.260679",
     "status": "completed"
    },
    "tags": []
   },
   "outputs": [
    {
     "name": "stderr",
     "output_type": "stream",
     "text": [
      "2020-11-27 12:46:08.270 | INFO     | dutil.pipeline._cached:new_foo:311 - Task load_data_2.pickle: skip (cache exists)\n"
     ]
    },
    {
     "name": "stderr",
     "output_type": "stream",
     "text": [
      "2020-11-27 12:46:08.271 | INFO     | dutil.pipeline._cached:new_foo:311 - Task load_data_1.pickle: skip (cache exists)\n"
     ]
    },
    {
     "name": "stderr",
     "output_type": "stream",
     "text": [
      "2020-11-27 12:46:08.273 | INFO     | dutil.pipeline._cached:new_foo:311 - Task load_data_3.pickle: skip (cache exists)\n"
     ]
    },
    {
     "name": "stderr",
     "output_type": "stream",
     "text": [
      "2020-11-27 12:46:08.275 | DEBUG    | dutil.pipeline._cached:load:193 - Task load_data_1.pickle: data has been loaded from cache\n"
     ]
    },
    {
     "name": "stderr",
     "output_type": "stream",
     "text": [
      "2020-11-27 12:46:08.276 | DEBUG    | dutil.pipeline._cached:load:193 - Task load_data_2.pickle: data has been loaded from cache\n"
     ]
    },
    {
     "name": "stderr",
     "output_type": "stream",
     "text": [
      "2020-11-27 12:46:08.277 | DEBUG    | dutil.pipeline._cached:load:193 - Task load_data_3.pickle: data has been loaded from cache\n"
     ]
    },
    {
     "name": "stderr",
     "output_type": "stream",
     "text": [
      "2020-11-27 12:46:09.286 | DEBUG    | dutil.pipeline._cached:dump:207 - Task mlpipe_make_x_y_df_1|9686102406375020340_df_2|11371928299187938700_df_3|16702583620649360787_include_country|True_adjust_for_country|False_target|e_fversion|0.pickle: data has been saved to cache\n"
     ]
    },
    {
     "name": "stderr",
     "output_type": "stream",
     "text": [
      "2020-11-27 12:46:09.287 | INFO     | dutil.pipeline._cached:new_foo:326 - Task mlpipe_make_x_y_df_1|9686102406375020340_df_2|11371928299187938700_df_3|16702583620649360787_include_country|True_adjust_for_country|False_target|e_fversion|0.pickle: data has been computed and saved to cache\n"
     ]
    },
    {
     "name": "stderr",
     "output_type": "stream",
     "text": [
      "2020-11-27 12:46:09.289 | DEBUG    | dutil.pipeline._cached:__cached_hash__:225 - Task mlpipe_make_x_y_df_1|9686102406375020340_df_2|11371928299187938700_df_3|16702583620649360787_include_country|True_adjust_for_country|False_target|e_fversion|0.pickle: hash has been computed from data\n"
     ]
    },
    {
     "name": "stderr",
     "output_type": "stream",
     "text": [
      "2020-11-27 12:46:09.293 | DEBUG    | dutil.pipeline._cached:dump:207 - Task mlpipe_split_x_y_X|636766007339065908_y|16896747200748431878_test_ratio|0.3.pickle: data has been saved to cache\n"
     ]
    },
    {
     "name": "stderr",
     "output_type": "stream",
     "text": [
      "2020-11-27 12:46:09.294 | INFO     | dutil.pipeline._cached:new_foo:326 - Task mlpipe_split_x_y_X|636766007339065908_y|16896747200748431878_test_ratio|0.3.pickle: data has been computed and saved to cache\n"
     ]
    },
    {
     "name": "stderr",
     "output_type": "stream",
     "text": [
      "2020-11-27 12:46:09.295 | DEBUG    | dutil.pipeline._cached:__cached_hash__:225 - Task mlpipe_split_x_y_X|636766007339065908_y|16896747200748431878_test_ratio|0.3.pickle: hash has been computed from data\n"
     ]
    },
    {
     "name": "stderr",
     "output_type": "stream",
     "text": [
      "2020-11-27 12:46:09.354 | DEBUG    | dutil.pipeline._cached:dump:207 - Task mlpipe_crossval_model_model_name|lr_X|3325676553968173544_y|805566526682016355_n_folds|2_mversion|0_n_jobs|1.pickle: data has been saved to cache\n"
     ]
    },
    {
     "name": "stderr",
     "output_type": "stream",
     "text": [
      "2020-11-27 12:46:09.355 | INFO     | dutil.pipeline._cached:new_foo:326 - Task mlpipe_crossval_model_model_name|lr_X|3325676553968173544_y|805566526682016355_n_folds|2_mversion|0_n_jobs|1.pickle: data has been computed and saved to cache\n"
     ]
    },
    {
     "name": "stderr",
     "output_type": "stream",
     "text": [
      "2020-11-27 12:46:09.357 | INFO     | mlflow_experiment:run_experiment:138 - Experiment run is finished\n"
     ]
    }
   ],
   "source": [
    "with experiment.params.context(dict(\n",
    "    model_name='lr',\n",
    "    _model=Pipeline((\n",
    "        ('t', SimpleImputer(fill_value=0)),\n",
    "        ('e', LinearRegression()),\n",
    "    )),\n",
    ")):\n",
    "    model, results = experiment.run_experiment()"
   ]
  },
  {
   "cell_type": "code",
   "execution_count": 6,
   "metadata": {
    "execution": {
     "iopub.execute_input": "2020-11-27T09:46:09.377638Z",
     "iopub.status.busy": "2020-11-27T09:46:09.377221Z",
     "iopub.status.idle": "2020-11-27T09:46:09.379516Z",
     "shell.execute_reply": "2020-11-27T09:46:09.379779Z"
    },
    "papermill": {
     "duration": 0.012864,
     "end_time": "2020-11-27T09:46:09.379885",
     "exception": false,
     "start_time": "2020-11-27T09:46:09.367021",
     "status": "completed"
    },
    "tags": []
   },
   "outputs": [
    {
     "name": "stdout",
     "output_type": "stream",
     "text": [
      "Pipeline(steps=[('t', SimpleImputer(fill_value=0)), ('e', LinearRegression())])\n",
      "\n",
      "{'fit_time': array([0.00387144, 0.00317049]),\n",
      " 'score_time': array([0.0017221 , 0.00145268]),\n",
      " 'test_mae': array([-2.25, -4.  ]),\n",
      " 'test_r2': array([-19.5, -15. ]),\n",
      " 'train_mae': array([-2.22044605e-16, -1.11022302e-16]),\n",
      " 'train_r2': array([1., 1.])}\n"
     ]
    }
   ],
   "source": [
    "pprint(model)\n",
    "print()\n",
    "pprint(results)"
   ]
  },
  {
   "cell_type": "markdown",
   "metadata": {
    "papermill": {
     "duration": 0.006279,
     "end_time": "2020-11-27T09:46:09.392678",
     "exception": false,
     "start_time": "2020-11-27T09:46:09.386399",
     "status": "completed"
    },
    "tags": []
   },
   "source": [
    "### Random Forests"
   ]
  },
  {
   "cell_type": "code",
   "execution_count": 7,
   "metadata": {
    "execution": {
     "iopub.execute_input": "2020-11-27T09:46:09.408746Z",
     "iopub.status.busy": "2020-11-27T09:46:09.408413Z",
     "iopub.status.idle": "2020-11-27T09:46:09.682206Z",
     "shell.execute_reply": "2020-11-27T09:46:09.682662Z"
    },
    "papermill": {
     "duration": 0.283797,
     "end_time": "2020-11-27T09:46:09.682835",
     "exception": false,
     "start_time": "2020-11-27T09:46:09.399038",
     "status": "completed"
    },
    "tags": []
   },
   "outputs": [
    {
     "name": "stderr",
     "output_type": "stream",
     "text": [
      "2020-11-27 12:46:09.408 | INFO     | dutil.pipeline._cached:new_foo:311 - Task load_data_1.pickle: skip (cache exists)\n"
     ]
    },
    {
     "name": "stderr",
     "output_type": "stream",
     "text": [
      "2020-11-27 12:46:09.409 | INFO     | dutil.pipeline._cached:new_foo:311 - Task load_data_3.pickle: skip (cache exists)\n"
     ]
    },
    {
     "name": "stderr",
     "output_type": "stream",
     "text": [
      "2020-11-27 12:46:09.410 | INFO     | dutil.pipeline._cached:new_foo:311 - Task load_data_2.pickle: skip (cache exists)\n"
     ]
    },
    {
     "name": "stderr",
     "output_type": "stream",
     "text": [
      "2020-11-27 12:46:09.412 | INFO     | dutil.pipeline._cached:new_foo:311 - Task mlpipe_make_x_y_df_1|9686102406375020340_df_2|11371928299187938700_df_3|16702583620649360787_include_country|True_adjust_for_country|False_target|e_fversion|0.pickle: skip (cache exists)\n"
     ]
    },
    {
     "name": "stderr",
     "output_type": "stream",
     "text": [
      "2020-11-27 12:46:09.413 | INFO     | dutil.pipeline._cached:new_foo:311 - Task mlpipe_split_x_y_X|636766007339065908_y|16896747200748431878_test_ratio|0.3.pickle: skip (cache exists)\n"
     ]
    },
    {
     "name": "stderr",
     "output_type": "stream",
     "text": [
      "2020-11-27 12:46:09.415 | DEBUG    | dutil.pipeline._cached:load:193 - Task mlpipe_split_x_y_X|636766007339065908_y|16896747200748431878_test_ratio|0.3.pickle: data has been loaded from cache\n"
     ]
    },
    {
     "name": "stderr",
     "output_type": "stream",
     "text": [
      "2020-11-27 12:46:09.677 | DEBUG    | dutil.pipeline._cached:dump:207 - Task mlpipe_crossval_model_model_name|rf_X|3325676553968173544_y|805566526682016355_n_folds|2_mversion|0_n_jobs|1.pickle: data has been saved to cache\n"
     ]
    },
    {
     "name": "stderr",
     "output_type": "stream",
     "text": [
      "2020-11-27 12:46:09.677 | INFO     | dutil.pipeline._cached:new_foo:326 - Task mlpipe_crossval_model_model_name|rf_X|3325676553968173544_y|805566526682016355_n_folds|2_mversion|0_n_jobs|1.pickle: data has been computed and saved to cache\n"
     ]
    },
    {
     "name": "stderr",
     "output_type": "stream",
     "text": [
      "2020-11-27 12:46:09.679 | INFO     | mlflow_experiment:run_experiment:138 - Experiment run is finished\n"
     ]
    }
   ],
   "source": [
    "with experiment.params.context(dict(\n",
    "    model_name='rf',\n",
    "    _model=Pipeline((\n",
    "        ('t', SimpleImputer(fill_value=0)),\n",
    "        ('e', RandomForestRegressor()),\n",
    "    )),\n",
    ")):\n",
    "    model, results = experiment.run_experiment()"
   ]
  },
  {
   "cell_type": "code",
   "execution_count": 8,
   "metadata": {
    "execution": {
     "iopub.execute_input": "2020-11-27T09:46:09.703692Z",
     "iopub.status.busy": "2020-11-27T09:46:09.703370Z",
     "iopub.status.idle": "2020-11-27T09:46:09.705371Z",
     "shell.execute_reply": "2020-11-27T09:46:09.705072Z"
    },
    "papermill": {
     "duration": 0.012109,
     "end_time": "2020-11-27T09:46:09.705462",
     "exception": false,
     "start_time": "2020-11-27T09:46:09.693353",
     "status": "completed"
    },
    "tags": []
   },
   "outputs": [
    {
     "name": "stdout",
     "output_type": "stream",
     "text": [
      "{'fversion': 0, 'mversion': 0, 'include_country': True, 'adjust_for_country': False, 'target': 'e', 'test_ratio': 0.3, 'n_folds': 2, 'model_name': 'rf'}\n"
     ]
    }
   ],
   "source": [
    "with experiment.params.context(dict(\n",
    "    model_name='rf',\n",
    "    _model=RandomForestRegressor(),\n",
    ")):\n",
    "    print(experiment.params.get_params())"
   ]
  },
  {
   "cell_type": "code",
   "execution_count": null,
   "metadata": {
    "papermill": {
     "duration": 0.008121,
     "end_time": "2020-11-27T09:46:09.721359",
     "exception": false,
     "start_time": "2020-11-27T09:46:09.713238",
     "status": "completed"
    },
    "tags": []
   },
   "outputs": [],
   "source": []
  }
 ],
 "metadata": {
  "kernelspec": {
   "display_name": "Python 3",
   "language": "python",
   "name": "python3"
  },
  "language_info": {
   "codemirror_mode": {
    "name": "ipython",
    "version": 3
   },
   "file_extension": ".py",
   "mimetype": "text/x-python",
   "name": "python",
   "nbconvert_exporter": "python",
   "pygments_lexer": "ipython3",
   "version": "3.8.6"
  },
  "papermill": {
   "default_parameters": {},
   "duration": 4.015991,
   "end_time": "2020-11-27T09:46:10.928157",
   "environment_variables": {},
   "exception": null,
   "input_path": "mlflow_experiment.ipynb",
   "output_path": "papermill_runs/pm__include_c=True_adjust_for_country=False.ipynb",
   "parameters": {
    "adjust_for_country": false,
    "include_c": true
   },
   "start_time": "2020-11-27T09:46:06.912166",
   "version": "2.2.2"
  }
 },
 "nbformat": 4,
 "nbformat_minor": 4
}