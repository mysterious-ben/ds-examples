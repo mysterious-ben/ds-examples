{
 "cells": [
  {
   "cell_type": "markdown",
   "metadata": {
    "papermill": {
     "duration": 0.024464,
     "end_time": "2020-12-18T13:05:13.625017",
     "exception": false,
     "start_time": "2020-12-18T13:05:13.600553",
     "status": "completed"
    },
    "tags": []
   },
   "source": [
    "# MLFlow Experiment\n",
    "\n",
    "How to efficiently run multiple ML experiments using `dutil` and `mlflow`:\n",
    "- make explicit dependencies between the tasks in the pipeline\n",
    "- record and visualize metrics from multiple runs (MLFlow)\n",
    "- cache outputs from all pipeline steps (data and models) on disk (dutil.pipeline)\n",
    "- run the pipeline with different parameters (papermill)\n",
    "\n",
    "About:\n",
    "- see the experiment pipeline: `mlflow_experiment.py`\n",
    "- show a metrics summary via MLFlow: `mlflow ui` (in the shell)\n",
    "- run notebooks with different parameters via Papermill: `mlflow_experiment_papermill.ipynb`\n",
    "\n",
    "Limitations:\n",
    "- currently, `dutil.pipeline` only supports \"threads\" Dask scheduler"
   ]
  },
  {
   "cell_type": "markdown",
   "metadata": {
    "papermill": {
     "duration": 0.005177,
     "end_time": "2020-12-18T13:05:13.635640",
     "exception": false,
     "start_time": "2020-12-18T13:05:13.630463",
     "status": "completed"
    },
    "tags": []
   },
   "source": [
    "## Setup"
   ]
  },
  {
   "cell_type": "code",
   "execution_count": 1,
   "metadata": {
    "execution": {
     "iopub.execute_input": "2020-12-18T13:05:13.646697Z",
     "iopub.status.busy": "2020-12-18T13:05:13.646159Z",
     "iopub.status.idle": "2020-12-18T13:05:14.392149Z",
     "shell.execute_reply": "2020-12-18T13:05:14.392444Z"
    },
    "papermill": {
     "duration": 0.753334,
     "end_time": "2020-12-18T13:05:14.392587",
     "exception": false,
     "start_time": "2020-12-18T13:05:13.639253",
     "status": "completed"
    },
    "tags": []
   },
   "outputs": [],
   "source": [
    "import numpy as np\n",
    "import pandas as pd\n",
    "from sklearn.metrics import r2_score, mean_absolute_error, make_scorer\n",
    "from sklearn.impute import SimpleImputer\n",
    "from sklearn.linear_model import LinearRegression\n",
    "from sklearn.ensemble import RandomForestRegressor\n",
    "from sklearn.pipeline import Pipeline\n",
    "from sklearn.model_selection import KFold, GridSearchCV, cross_validate\n",
    "import dutil.pipeline as dpipe\n",
    "from loguru import logger\n",
    "from pprint import pprint\n",
    "\n",
    "import mlflow_experiment as experiment"
   ]
  },
  {
   "cell_type": "markdown",
   "metadata": {
    "papermill": {
     "duration": 0.006866,
     "end_time": "2020-12-18T13:05:14.403524",
     "exception": false,
     "start_time": "2020-12-18T13:05:14.396658",
     "status": "completed"
    },
    "tags": []
   },
   "source": [
    "## Experiment\n",
    "\n",
    "The pipeline is constructed in `mlflow_experiment.py`"
   ]
  },
  {
   "cell_type": "code",
   "execution_count": 2,
   "metadata": {
    "execution": {
     "iopub.execute_input": "2020-12-18T13:05:14.413344Z",
     "iopub.status.busy": "2020-12-18T13:05:14.413015Z",
     "iopub.status.idle": "2020-12-18T13:05:14.414716Z",
     "shell.execute_reply": "2020-12-18T13:05:14.414450Z"
    },
    "papermill": {
     "duration": 0.007611,
     "end_time": "2020-12-18T13:05:14.414800",
     "exception": false,
     "start_time": "2020-12-18T13:05:14.407189",
     "status": "completed"
    },
    "tags": [
     "parameters"
    ]
   },
   "outputs": [],
   "source": [
    "# --- Global Notebook Parameters ---\n",
    "fversion = 0\n",
    "mversion = 0\n",
    "include_country = True\n",
    "adjust_for_country = True\n",
    "target = 'e'\n",
    "test_ratio = 0.3\n",
    "n_folds = 2\n",
    "_n_jobs = 1"
   ]
  },
  {
   "cell_type": "code",
   "execution_count": 3,
   "metadata": {
    "execution": {
     "iopub.execute_input": "2020-12-18T13:05:14.424816Z",
     "iopub.status.busy": "2020-12-18T13:05:14.424433Z",
     "iopub.status.idle": "2020-12-18T13:05:14.426155Z",
     "shell.execute_reply": "2020-12-18T13:05:14.425819Z"
    },
    "papermill": {
     "duration": 0.007844,
     "end_time": "2020-12-18T13:05:14.426250",
     "exception": false,
     "start_time": "2020-12-18T13:05:14.418406",
     "status": "completed"
    },
    "tags": [
     "injected-parameters"
    ]
   },
   "outputs": [],
   "source": [
    "# Parameters\n",
    "include_c = False\n",
    "adjust_for_country = False\n"
   ]
  },
  {
   "cell_type": "code",
   "execution_count": 4,
   "metadata": {
    "execution": {
     "iopub.execute_input": "2020-12-18T13:05:14.436355Z",
     "iopub.status.busy": "2020-12-18T13:05:14.436039Z",
     "iopub.status.idle": "2020-12-18T13:05:14.437670Z",
     "shell.execute_reply": "2020-12-18T13:05:14.437398Z"
    },
    "papermill": {
     "duration": 0.007624,
     "end_time": "2020-12-18T13:05:14.437756",
     "exception": false,
     "start_time": "2020-12-18T13:05:14.430132",
     "status": "completed"
    },
    "tags": []
   },
   "outputs": [],
   "source": [
    "experiment.params.update_many(dict(\n",
    "    fversion=fversion,\n",
    "    mversion=mversion,\n",
    "    include_country=include_country,\n",
    "    adjust_for_country=adjust_for_country,\n",
    "    target=target,\n",
    "    test_ratio=test_ratio,\n",
    "    n_folds=n_folds,\n",
    "    _n_jobs=_n_jobs,\n",
    "))"
   ]
  },
  {
   "cell_type": "markdown",
   "metadata": {
    "papermill": {
     "duration": 0.003813,
     "end_time": "2020-12-18T13:05:14.445440",
     "exception": false,
     "start_time": "2020-12-18T13:05:14.441627",
     "status": "completed"
    },
    "tags": []
   },
   "source": [
    "### Linear Regression"
   ]
  },
  {
   "cell_type": "code",
   "execution_count": 5,
   "metadata": {
    "execution": {
     "iopub.execute_input": "2020-12-18T13:05:14.456303Z",
     "iopub.status.busy": "2020-12-18T13:05:14.455865Z",
     "iopub.status.idle": "2020-12-18T13:05:14.468976Z",
     "shell.execute_reply": "2020-12-18T13:05:14.468612Z"
    },
    "papermill": {
     "duration": 0.019871,
     "end_time": "2020-12-18T13:05:14.469069",
     "exception": false,
     "start_time": "2020-12-18T13:05:14.449198",
     "status": "completed"
    },
    "tags": []
   },
   "outputs": [
    {
     "name": "stderr",
     "output_type": "stream",
     "text": [
      "2020-12-18 16:05:14.457 | INFO     | dutil.pipeline._cached:new_foo:314 - Task load_data_2.pickle: skip (cache exists)\n"
     ]
    },
    {
     "name": "stderr",
     "output_type": "stream",
     "text": [
      "2020-12-18 16:05:14.460 | INFO     | dutil.pipeline._cached:new_foo:314 - Task load_data_1.pickle: skip (cache exists)\n"
     ]
    },
    {
     "name": "stderr",
     "output_type": "stream",
     "text": [
      "2020-12-18 16:05:14.460 | INFO     | dutil.pipeline._cached:new_foo:314 - Task load_data_3.pickle: skip (cache exists)\n"
     ]
    },
    {
     "name": "stderr",
     "output_type": "stream",
     "text": [
      "2020-12-18 16:05:14.462 | INFO     | dutil.pipeline._cached:new_foo:314 - Task mlpipe_make_x_y_df_1|9686102406375020340_df_2|3176941632375591712_df_3|16702583620649360787_include_country|True_adjust_for_country|False_target|e_fversion|0.pickle: skip (cache exists)\n"
     ]
    },
    {
     "name": "stderr",
     "output_type": "stream",
     "text": [
      "2020-12-18 16:05:14.463 | INFO     | dutil.pipeline._cached:new_foo:314 - Task mlpipe_split_x_y_X|636766007339065908_y|16896747200748431878_test_ratio|0.3.pickle: skip (cache exists)\n"
     ]
    },
    {
     "name": "stderr",
     "output_type": "stream",
     "text": [
      "2020-12-18 16:05:14.464 | INFO     | dutil.pipeline._cached:new_foo:314 - Task mlpipe_crossval_model_model_name|lr_X|3325676553968173544_y|805566526682016355_n_folds|2_mversion|0_n_jobs|1.pickle: skip (cache exists)\n"
     ]
    },
    {
     "name": "stderr",
     "output_type": "stream",
     "text": [
      "2020-12-18 16:05:14.465 | DEBUG    | dutil.pipeline._cached:load:196 - Task mlpipe_crossval_model_model_name|lr_X|3325676553968173544_y|805566526682016355_n_folds|2_mversion|0_n_jobs|1.pickle: data has been loaded from cache\n"
     ]
    },
    {
     "name": "stderr",
     "output_type": "stream",
     "text": [
      "2020-12-18 16:05:14.466 | INFO     | mlflow_experiment:run_experiment:159 - Experiment run is finished\n"
     ]
    }
   ],
   "source": [
    "with experiment.params.context(dict(\n",
    "    model_name='lr',\n",
    "    _model=Pipeline((\n",
    "        ('t', SimpleImputer(fill_value=0)),\n",
    "        ('e', LinearRegression()),\n",
    "    )),\n",
    ")):\n",
    "    model, results = experiment.run_experiment()"
   ]
  },
  {
   "cell_type": "code",
   "execution_count": 6,
   "metadata": {
    "execution": {
     "iopub.execute_input": "2020-12-18T13:05:14.483907Z",
     "iopub.status.busy": "2020-12-18T13:05:14.483590Z",
     "iopub.status.idle": "2020-12-18T13:05:14.486167Z",
     "shell.execute_reply": "2020-12-18T13:05:14.485893Z"
    },
    "papermill": {
     "duration": 0.01111,
     "end_time": "2020-12-18T13:05:14.486260",
     "exception": false,
     "start_time": "2020-12-18T13:05:14.475150",
     "status": "completed"
    },
    "tags": []
   },
   "outputs": [
    {
     "name": "stdout",
     "output_type": "stream",
     "text": [
      "Pipeline(steps=[('t', SimpleImputer(fill_value=0)), ('e', LinearRegression())])\n",
      "\n",
      "{'fit_time': array([0.00364065, 0.00303864]),\n",
      " 'score_time': array([0.00166321, 0.00155973]),\n",
      " 'test_mae': array([-2.25, -4.  ]),\n",
      " 'test_r2': array([-19.5, -15. ]),\n",
      " 'train_mae': array([-2.22044605e-16, -1.11022302e-16]),\n",
      " 'train_r2': array([1., 1.])}\n"
     ]
    }
   ],
   "source": [
    "pprint(model)\n",
    "print()\n",
    "pprint(results)"
   ]
  },
  {
   "cell_type": "markdown",
   "metadata": {
    "papermill": {
     "duration": 0.005561,
     "end_time": "2020-12-18T13:05:14.497383",
     "exception": false,
     "start_time": "2020-12-18T13:05:14.491822",
     "status": "completed"
    },
    "tags": []
   },
   "source": [
    "### Random Forests"
   ]
  },
  {
   "cell_type": "code",
   "execution_count": 7,
   "metadata": {
    "execution": {
     "iopub.execute_input": "2020-12-18T13:05:14.510947Z",
     "iopub.status.busy": "2020-12-18T13:05:14.510604Z",
     "iopub.status.idle": "2020-12-18T13:05:14.522583Z",
     "shell.execute_reply": "2020-12-18T13:05:14.522316Z"
    },
    "papermill": {
     "duration": 0.019766,
     "end_time": "2020-12-18T13:05:14.522677",
     "exception": false,
     "start_time": "2020-12-18T13:05:14.502911",
     "status": "completed"
    },
    "tags": []
   },
   "outputs": [
    {
     "name": "stderr",
     "output_type": "stream",
     "text": [
      "2020-12-18 16:05:14.511 | INFO     | dutil.pipeline._cached:new_foo:314 - Task load_data_2.pickle: skip (cache exists)\n"
     ]
    },
    {
     "name": "stderr",
     "output_type": "stream",
     "text": [
      "2020-12-18 16:05:14.512 | INFO     | dutil.pipeline._cached:new_foo:314 - Task load_data_1.pickle: skip (cache exists)\n"
     ]
    },
    {
     "name": "stderr",
     "output_type": "stream",
     "text": [
      "2020-12-18 16:05:14.512 | INFO     | dutil.pipeline._cached:new_foo:314 - Task load_data_3.pickle: skip (cache exists)\n"
     ]
    },
    {
     "name": "stderr",
     "output_type": "stream",
     "text": [
      "2020-12-18 16:05:14.514 | INFO     | dutil.pipeline._cached:new_foo:314 - Task mlpipe_make_x_y_df_1|9686102406375020340_df_2|3176941632375591712_df_3|16702583620649360787_include_country|True_adjust_for_country|False_target|e_fversion|0.pickle: skip (cache exists)\n"
     ]
    },
    {
     "name": "stderr",
     "output_type": "stream",
     "text": [
      "2020-12-18 16:05:14.515 | INFO     | dutil.pipeline._cached:new_foo:314 - Task mlpipe_split_x_y_X|636766007339065908_y|16896747200748431878_test_ratio|0.3.pickle: skip (cache exists)\n"
     ]
    },
    {
     "name": "stderr",
     "output_type": "stream",
     "text": [
      "2020-12-18 16:05:14.516 | INFO     | dutil.pipeline._cached:new_foo:314 - Task mlpipe_crossval_model_model_name|rf_X|3325676553968173544_y|805566526682016355_n_folds|2_mversion|0_n_jobs|1.pickle: skip (cache exists)\n"
     ]
    },
    {
     "name": "stderr",
     "output_type": "stream",
     "text": [
      "2020-12-18 16:05:14.519 | DEBUG    | dutil.pipeline._cached:load:196 - Task mlpipe_crossval_model_model_name|rf_X|3325676553968173544_y|805566526682016355_n_folds|2_mversion|0_n_jobs|1.pickle: data has been loaded from cache\n"
     ]
    },
    {
     "name": "stderr",
     "output_type": "stream",
     "text": [
      "2020-12-18 16:05:14.519 | INFO     | mlflow_experiment:run_experiment:159 - Experiment run is finished\n"
     ]
    }
   ],
   "source": [
    "with experiment.params.context(dict(\n",
    "    model_name='rf',\n",
    "    _model=Pipeline((\n",
    "        ('t', SimpleImputer(fill_value=0)),\n",
    "        ('e', RandomForestRegressor()),\n",
    "    )),\n",
    ")):\n",
    "    model, results = experiment.run_experiment()"
   ]
  },
  {
   "cell_type": "code",
   "execution_count": 8,
   "metadata": {
    "execution": {
     "iopub.execute_input": "2020-12-18T13:05:14.537929Z",
     "iopub.status.busy": "2020-12-18T13:05:14.537608Z",
     "iopub.status.idle": "2020-12-18T13:05:14.539375Z",
     "shell.execute_reply": "2020-12-18T13:05:14.539050Z"
    },
    "papermill": {
     "duration": 0.010283,
     "end_time": "2020-12-18T13:05:14.539463",
     "exception": false,
     "start_time": "2020-12-18T13:05:14.529180",
     "status": "completed"
    },
    "tags": []
   },
   "outputs": [
    {
     "name": "stdout",
     "output_type": "stream",
     "text": [
      "{'fversion': 0, 'mversion': 0, 'include_country': True, 'adjust_for_country': False, 'target': 'e', 'test_ratio': 0.3, 'n_folds': 2, 'model_name': 'rf'}\n"
     ]
    }
   ],
   "source": [
    "with experiment.params.context(dict(\n",
    "    model_name='rf',\n",
    "    _model=RandomForestRegressor(),\n",
    ")):\n",
    "    print(experiment.params.get_params())"
   ]
  },
  {
   "cell_type": "code",
   "execution_count": null,
   "metadata": {
    "papermill": {
     "duration": 0.006521,
     "end_time": "2020-12-18T13:05:14.552536",
     "exception": false,
     "start_time": "2020-12-18T13:05:14.546015",
     "status": "completed"
    },
    "tags": []
   },
   "outputs": [],
   "source": []
  }
 ],
 "metadata": {
  "kernelspec": {
   "display_name": "Python 3",
   "language": "python",
   "name": "python3"
  },
  "language_info": {
   "codemirror_mode": {
    "name": "ipython",
    "version": 3
   },
   "file_extension": ".py",
   "mimetype": "text/x-python",
   "name": "python",
   "nbconvert_exporter": "python",
   "pygments_lexer": "ipython3",
   "version": "3.8.6"
  },
  "papermill": {
   "default_parameters": {},
   "duration": 1.776283,
   "end_time": "2020-12-18T13:05:14.863193",
   "environment_variables": {},
   "exception": null,
   "input_path": "mlflow_experiment.ipynb",
   "output_path": "papermill_runs/pm__include_c=False_adjust_for_country=False.ipynb",
   "parameters": {
    "adjust_for_country": false,
    "include_c": false
   },
   "start_time": "2020-12-18T13:05:13.086910",
   "version": "2.2.2"
  }
 },
 "nbformat": 4,
 "nbformat_minor": 4
}