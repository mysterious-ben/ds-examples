{
 "cells": [
  {
   "cell_type": "markdown",
   "metadata": {
    "papermill": {
     "duration": 0.021394,
     "end_time": "2020-11-27T09:46:13.347735",
     "exception": false,
     "start_time": "2020-11-27T09:46:13.326341",
     "status": "completed"
    },
    "tags": []
   },
   "source": [
    "# MLFlow Experiment\n",
    "\n",
    "How to efficiently run multiple ML experiments using `dutil` and `mlflow`:\n",
    "- make explicit dependencies between the tasks in the pipeline\n",
    "- run the pipeline with different parameters \n",
    "- record and visualize metrics from multiple runs\n",
    "- cache intermediate data and models\n",
    "\n",
    "About:\n",
    "- See the experiment pipeline: `mlflow_experiment.py`\n",
    "- Show a metrics summary via MLFlow: `mlflow ui` (in the shell)\n",
    "- Run notebooks with different parameters via Papermill: `mlflow_experiment_papermill.ipynb`\n",
    "\n",
    "Limitations:\n",
    "- currently `dutil` only supports \"threads\" Dask scheduler"
   ]
  },
  {
   "cell_type": "markdown",
   "metadata": {
    "papermill": {
     "duration": 0.014785,
     "end_time": "2020-11-27T09:46:13.380539",
     "exception": false,
     "start_time": "2020-11-27T09:46:13.365754",
     "status": "completed"
    },
    "tags": []
   },
   "source": [
    "## Setup"
   ]
  },
  {
   "cell_type": "code",
   "execution_count": 1,
   "metadata": {
    "execution": {
     "iopub.execute_input": "2020-11-27T09:46:13.399724Z",
     "iopub.status.busy": "2020-11-27T09:46:13.399245Z",
     "iopub.status.idle": "2020-11-27T09:46:14.058474Z",
     "shell.execute_reply": "2020-11-27T09:46:14.058162Z"
    },
    "papermill": {
     "duration": 0.669657,
     "end_time": "2020-11-27T09:46:14.058578",
     "exception": false,
     "start_time": "2020-11-27T09:46:13.388921",
     "status": "completed"
    },
    "tags": []
   },
   "outputs": [],
   "source": [
    "import numpy as np\n",
    "import pandas as pd\n",
    "from sklearn.metrics import r2_score, mean_absolute_error, make_scorer\n",
    "from sklearn.impute import SimpleImputer\n",
    "from sklearn.linear_model import LinearRegression\n",
    "from sklearn.ensemble import RandomForestRegressor\n",
    "from sklearn.pipeline import Pipeline\n",
    "from sklearn.model_selection import KFold, GridSearchCV, cross_validate\n",
    "import dutil.pipeline as dpipe\n",
    "from loguru import logger\n",
    "from pprint import pprint\n",
    "\n",
    "import mlflow_experiment as experiment"
   ]
  },
  {
   "cell_type": "markdown",
   "metadata": {
    "papermill": {
     "duration": 0.007095,
     "end_time": "2020-11-27T09:46:14.069369",
     "exception": false,
     "start_time": "2020-11-27T09:46:14.062274",
     "status": "completed"
    },
    "tags": []
   },
   "source": [
    "## Experiment\n",
    "\n",
    "The pipeline is constructed in `mlflow_experiment.py`"
   ]
  },
  {
   "cell_type": "code",
   "execution_count": 2,
   "metadata": {
    "execution": {
     "iopub.execute_input": "2020-11-27T09:46:14.079847Z",
     "iopub.status.busy": "2020-11-27T09:46:14.079531Z",
     "iopub.status.idle": "2020-11-27T09:46:14.081393Z",
     "shell.execute_reply": "2020-11-27T09:46:14.081141Z"
    },
    "papermill": {
     "duration": 0.008405,
     "end_time": "2020-11-27T09:46:14.081482",
     "exception": false,
     "start_time": "2020-11-27T09:46:14.073077",
     "status": "completed"
    },
    "tags": [
     "parameters"
    ]
   },
   "outputs": [],
   "source": [
    "# --- Global Notebook Parameters ---\n",
    "fversion = 0\n",
    "mversion = 0\n",
    "include_country = True\n",
    "adjust_for_country = True\n",
    "target = 'e'\n",
    "test_ratio = 0.3\n",
    "n_folds = 2\n",
    "_n_jobs = 1"
   ]
  },
  {
   "cell_type": "code",
   "execution_count": 3,
   "metadata": {
    "execution": {
     "iopub.execute_input": "2020-11-27T09:46:14.091103Z",
     "iopub.status.busy": "2020-11-27T09:46:14.090734Z",
     "iopub.status.idle": "2020-11-27T09:46:14.092426Z",
     "shell.execute_reply": "2020-11-27T09:46:14.092104Z"
    },
    "papermill": {
     "duration": 0.007454,
     "end_time": "2020-11-27T09:46:14.092510",
     "exception": false,
     "start_time": "2020-11-27T09:46:14.085056",
     "status": "completed"
    },
    "tags": [
     "injected-parameters"
    ]
   },
   "outputs": [],
   "source": [
    "# Parameters\n",
    "include_c = False\n",
    "adjust_for_country = False\n"
   ]
  },
  {
   "cell_type": "code",
   "execution_count": 4,
   "metadata": {
    "execution": {
     "iopub.execute_input": "2020-11-27T09:46:14.103383Z",
     "iopub.status.busy": "2020-11-27T09:46:14.103052Z",
     "iopub.status.idle": "2020-11-27T09:46:14.104686Z",
     "shell.execute_reply": "2020-11-27T09:46:14.104355Z"
    },
    "papermill": {
     "duration": 0.00834,
     "end_time": "2020-11-27T09:46:14.104776",
     "exception": false,
     "start_time": "2020-11-27T09:46:14.096436",
     "status": "completed"
    },
    "tags": []
   },
   "outputs": [],
   "source": [
    "experiment.params.update_many(dict(\n",
    "    fversion=fversion,\n",
    "    mversion=mversion,\n",
    "    include_country=include_country,\n",
    "    adjust_for_country=adjust_for_country,\n",
    "    target=target,\n",
    "    test_ratio=test_ratio,\n",
    "    n_folds=n_folds,\n",
    "    _n_jobs=_n_jobs,\n",
    "))"
   ]
  },
  {
   "cell_type": "markdown",
   "metadata": {
    "papermill": {
     "duration": 0.003842,
     "end_time": "2020-11-27T09:46:14.112518",
     "exception": false,
     "start_time": "2020-11-27T09:46:14.108676",
     "status": "completed"
    },
    "tags": []
   },
   "source": [
    "### Linear Regression"
   ]
  },
  {
   "cell_type": "code",
   "execution_count": 5,
   "metadata": {
    "execution": {
     "iopub.execute_input": "2020-11-27T09:46:14.125532Z",
     "iopub.status.busy": "2020-11-27T09:46:14.125013Z",
     "iopub.status.idle": "2020-11-27T09:46:14.139626Z",
     "shell.execute_reply": "2020-11-27T09:46:14.139874Z"
    },
    "papermill": {
     "duration": 0.023375,
     "end_time": "2020-11-27T09:46:14.139998",
     "exception": false,
     "start_time": "2020-11-27T09:46:14.116623",
     "status": "completed"
    },
    "tags": []
   },
   "outputs": [
    {
     "name": "stderr",
     "output_type": "stream",
     "text": [
      "2020-11-27 12:46:14.126 | INFO     | dutil.pipeline._cached:new_foo:311 - Task load_data_2.pickle: skip (cache exists)\n"
     ]
    },
    {
     "name": "stderr",
     "output_type": "stream",
     "text": [
      "2020-11-27 12:46:14.128 | INFO     | dutil.pipeline._cached:new_foo:311 - Task load_data_3.pickle: skip (cache exists)\n"
     ]
    },
    {
     "name": "stderr",
     "output_type": "stream",
     "text": [
      "2020-11-27 12:46:14.128 | INFO     | dutil.pipeline._cached:new_foo:311 - Task load_data_1.pickle: skip (cache exists)\n"
     ]
    },
    {
     "name": "stderr",
     "output_type": "stream",
     "text": [
      "2020-11-27 12:46:14.131 | INFO     | dutil.pipeline._cached:new_foo:311 - Task mlpipe_make_x_y_df_1|9686102406375020340_df_2|11371928299187938700_df_3|16702583620649360787_include_country|True_adjust_for_country|False_target|e_fversion|0.pickle: skip (cache exists)\n"
     ]
    },
    {
     "name": "stderr",
     "output_type": "stream",
     "text": [
      "2020-11-27 12:46:14.132 | INFO     | dutil.pipeline._cached:new_foo:311 - Task mlpipe_split_x_y_X|636766007339065908_y|16896747200748431878_test_ratio|0.3.pickle: skip (cache exists)\n"
     ]
    },
    {
     "name": "stderr",
     "output_type": "stream",
     "text": [
      "2020-11-27 12:46:14.133 | INFO     | dutil.pipeline._cached:new_foo:311 - Task mlpipe_crossval_model_model_name|lr_X|3325676553968173544_y|805566526682016355_n_folds|2_mversion|0_n_jobs|1.pickle: skip (cache exists)\n"
     ]
    },
    {
     "name": "stderr",
     "output_type": "stream",
     "text": [
      "2020-11-27 12:46:14.136 | DEBUG    | dutil.pipeline._cached:load:193 - Task mlpipe_crossval_model_model_name|lr_X|3325676553968173544_y|805566526682016355_n_folds|2_mversion|0_n_jobs|1.pickle: data has been loaded from cache\n"
     ]
    },
    {
     "name": "stderr",
     "output_type": "stream",
     "text": [
      "2020-11-27 12:46:14.137 | INFO     | mlflow_experiment:run_experiment:138 - Experiment run is finished\n"
     ]
    }
   ],
   "source": [
    "with experiment.params.context(dict(\n",
    "    model_name='lr',\n",
    "    _model=Pipeline((\n",
    "        ('t', SimpleImputer(fill_value=0)),\n",
    "        ('e', LinearRegression()),\n",
    "    )),\n",
    ")):\n",
    "    model, results = experiment.run_experiment()"
   ]
  },
  {
   "cell_type": "code",
   "execution_count": 6,
   "metadata": {
    "execution": {
     "iopub.execute_input": "2020-11-27T09:46:14.154881Z",
     "iopub.status.busy": "2020-11-27T09:46:14.154512Z",
     "iopub.status.idle": "2020-11-27T09:46:14.157138Z",
     "shell.execute_reply": "2020-11-27T09:46:14.156801Z"
    },
    "papermill": {
     "duration": 0.011902,
     "end_time": "2020-11-27T09:46:14.157234",
     "exception": false,
     "start_time": "2020-11-27T09:46:14.145332",
     "status": "completed"
    },
    "tags": []
   },
   "outputs": [
    {
     "name": "stdout",
     "output_type": "stream",
     "text": [
      "Pipeline(steps=[('t', SimpleImputer(fill_value=0)), ('e', LinearRegression())])\n",
      "\n",
      "{'fit_time': array([0.00387144, 0.00317049]),\n",
      " 'score_time': array([0.0017221 , 0.00145268]),\n",
      " 'test_mae': array([-2.25, -4.  ]),\n",
      " 'test_r2': array([-19.5, -15. ]),\n",
      " 'train_mae': array([-2.22044605e-16, -1.11022302e-16]),\n",
      " 'train_r2': array([1., 1.])}\n"
     ]
    }
   ],
   "source": [
    "pprint(model)\n",
    "print()\n",
    "pprint(results)"
   ]
  },
  {
   "cell_type": "markdown",
   "metadata": {
    "papermill": {
     "duration": 0.005659,
     "end_time": "2020-11-27T09:46:14.168284",
     "exception": false,
     "start_time": "2020-11-27T09:46:14.162625",
     "status": "completed"
    },
    "tags": []
   },
   "source": [
    "### Random Forests"
   ]
  },
  {
   "cell_type": "code",
   "execution_count": 7,
   "metadata": {
    "execution": {
     "iopub.execute_input": "2020-11-27T09:46:14.183776Z",
     "iopub.status.busy": "2020-11-27T09:46:14.183333Z",
     "iopub.status.idle": "2020-11-27T09:46:14.195694Z",
     "shell.execute_reply": "2020-11-27T09:46:14.195954Z"
    },
    "papermill": {
     "duration": 0.022259,
     "end_time": "2020-11-27T09:46:14.196104",
     "exception": false,
     "start_time": "2020-11-27T09:46:14.173845",
     "status": "completed"
    },
    "tags": []
   },
   "outputs": [
    {
     "name": "stderr",
     "output_type": "stream",
     "text": [
      "2020-11-27 12:46:14.183 | INFO     | dutil.pipeline._cached:new_foo:311 - Task load_data_1.pickle: skip (cache exists)\n"
     ]
    },
    {
     "name": "stderr",
     "output_type": "stream",
     "text": [
      "2020-11-27 12:46:14.184 | INFO     | dutil.pipeline._cached:new_foo:311 - Task load_data_3.pickle: skip (cache exists)\n"
     ]
    },
    {
     "name": "stderr",
     "output_type": "stream",
     "text": [
      "2020-11-27 12:46:14.185 | INFO     | dutil.pipeline._cached:new_foo:311 - Task load_data_2.pickle: skip (cache exists)\n"
     ]
    },
    {
     "name": "stderr",
     "output_type": "stream",
     "text": [
      "2020-11-27 12:46:14.187 | INFO     | dutil.pipeline._cached:new_foo:311 - Task mlpipe_make_x_y_df_1|9686102406375020340_df_2|11371928299187938700_df_3|16702583620649360787_include_country|True_adjust_for_country|False_target|e_fversion|0.pickle: skip (cache exists)\n"
     ]
    },
    {
     "name": "stderr",
     "output_type": "stream",
     "text": [
      "2020-11-27 12:46:14.188 | INFO     | dutil.pipeline._cached:new_foo:311 - Task mlpipe_split_x_y_X|636766007339065908_y|16896747200748431878_test_ratio|0.3.pickle: skip (cache exists)\n"
     ]
    },
    {
     "name": "stderr",
     "output_type": "stream",
     "text": [
      "2020-11-27 12:46:14.190 | INFO     | dutil.pipeline._cached:new_foo:311 - Task mlpipe_crossval_model_model_name|rf_X|3325676553968173544_y|805566526682016355_n_folds|2_mversion|0_n_jobs|1.pickle: skip (cache exists)\n"
     ]
    },
    {
     "name": "stderr",
     "output_type": "stream",
     "text": [
      "2020-11-27 12:46:14.192 | DEBUG    | dutil.pipeline._cached:load:193 - Task mlpipe_crossval_model_model_name|rf_X|3325676553968173544_y|805566526682016355_n_folds|2_mversion|0_n_jobs|1.pickle: data has been loaded from cache\n"
     ]
    },
    {
     "name": "stderr",
     "output_type": "stream",
     "text": [
      "2020-11-27 12:46:14.193 | INFO     | mlflow_experiment:run_experiment:138 - Experiment run is finished\n"
     ]
    }
   ],
   "source": [
    "with experiment.params.context(dict(\n",
    "    model_name='rf',\n",
    "    _model=Pipeline((\n",
    "        ('t', SimpleImputer(fill_value=0)),\n",
    "        ('e', RandomForestRegressor()),\n",
    "    )),\n",
    ")):\n",
    "    model, results = experiment.run_experiment()"
   ]
  },
  {
   "cell_type": "code",
   "execution_count": 8,
   "metadata": {
    "execution": {
     "iopub.execute_input": "2020-11-27T09:46:14.212297Z",
     "iopub.status.busy": "2020-11-27T09:46:14.211952Z",
     "iopub.status.idle": "2020-11-27T09:46:14.213533Z",
     "shell.execute_reply": "2020-11-27T09:46:14.213792Z"
    },
    "papermill": {
     "duration": 0.011051,
     "end_time": "2020-11-27T09:46:14.213905",
     "exception": false,
     "start_time": "2020-11-27T09:46:14.202854",
     "status": "completed"
    },
    "tags": []
   },
   "outputs": [
    {
     "name": "stdout",
     "output_type": "stream",
     "text": [
      "{'fversion': 0, 'mversion': 0, 'include_country': True, 'adjust_for_country': False, 'target': 'e', 'test_ratio': 0.3, 'n_folds': 2, 'model_name': 'rf'}\n"
     ]
    }
   ],
   "source": [
    "with experiment.params.context(dict(\n",
    "    model_name='rf',\n",
    "    _model=RandomForestRegressor(),\n",
    ")):\n",
    "    print(experiment.params.get_params())"
   ]
  },
  {
   "cell_type": "code",
   "execution_count": null,
   "metadata": {
    "papermill": {
     "duration": 0.008302,
     "end_time": "2020-11-27T09:46:14.229366",
     "exception": false,
     "start_time": "2020-11-27T09:46:14.221064",
     "status": "completed"
    },
    "tags": []
   },
   "outputs": [],
   "source": []
  }
 ],
 "metadata": {
  "kernelspec": {
   "display_name": "Python 3",
   "language": "python",
   "name": "python3"
  },
  "language_info": {
   "codemirror_mode": {
    "name": "ipython",
    "version": 3
   },
   "file_extension": ".py",
   "mimetype": "text/x-python",
   "name": "python",
   "nbconvert_exporter": "python",
   "pygments_lexer": "ipython3",
   "version": "3.8.6"
  },
  "papermill": {
   "default_parameters": {},
   "duration": 1.788282,
   "end_time": "2020-11-27T09:46:14.542249",
   "environment_variables": {},
   "exception": null,
   "input_path": "mlflow_experiment.ipynb",
   "output_path": "papermill_runs/pm__include_c=False_adjust_for_country=False.ipynb",
   "parameters": {
    "adjust_for_country": false,
    "include_c": false
   },
   "start_time": "2020-11-27T09:46:12.753967",
   "version": "2.2.2"
  }
 },
 "nbformat": 4,
 "nbformat_minor": 4
}