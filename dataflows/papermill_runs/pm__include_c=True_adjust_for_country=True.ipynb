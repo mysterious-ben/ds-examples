{
 "cells": [
  {
   "cell_type": "markdown",
   "metadata": {
    "papermill": {
     "duration": 0.021411,
     "end_time": "2020-11-27T09:46:05.602991",
     "exception": false,
     "start_time": "2020-11-27T09:46:05.581580",
     "status": "completed"
    },
    "tags": []
   },
   "source": [
    "# MLFlow Experiment\n",
    "\n",
    "How to efficiently run multiple ML experiments using `dutil` and `mlflow`:\n",
    "- make explicit dependencies between the tasks in the pipeline\n",
    "- run the pipeline with different parameters \n",
    "- record and visualize metrics from multiple runs\n",
    "- cache intermediate data and models\n",
    "\n",
    "About:\n",
    "- See the experiment pipeline: `mlflow_experiment.py`\n",
    "- Show a metrics summary via MLFlow: `mlflow ui` (in the shell)\n",
    "- Run notebooks with different parameters via Papermill: `mlflow_experiment_papermill.ipynb`\n",
    "\n",
    "Limitations:\n",
    "- currently `dutil` only supports \"threads\" Dask scheduler"
   ]
  },
  {
   "cell_type": "markdown",
   "metadata": {
    "papermill": {
     "duration": 0.008353,
     "end_time": "2020-11-27T09:46:05.627218",
     "exception": false,
     "start_time": "2020-11-27T09:46:05.618865",
     "status": "completed"
    },
    "tags": []
   },
   "source": [
    "## Setup"
   ]
  },
  {
   "cell_type": "code",
   "execution_count": 1,
   "metadata": {
    "execution": {
     "iopub.execute_input": "2020-11-27T09:46:05.643137Z",
     "iopub.status.busy": "2020-11-27T09:46:05.642549Z",
     "iopub.status.idle": "2020-11-27T09:46:06.393455Z",
     "shell.execute_reply": "2020-11-27T09:46:06.393129Z"
    },
    "papermill": {
     "duration": 0.759359,
     "end_time": "2020-11-27T09:46:06.393569",
     "exception": false,
     "start_time": "2020-11-27T09:46:05.634210",
     "status": "completed"
    },
    "tags": []
   },
   "outputs": [],
   "source": [
    "import numpy as np\n",
    "import pandas as pd\n",
    "from sklearn.metrics import r2_score, mean_absolute_error, make_scorer\n",
    "from sklearn.impute import SimpleImputer\n",
    "from sklearn.linear_model import LinearRegression\n",
    "from sklearn.ensemble import RandomForestRegressor\n",
    "from sklearn.pipeline import Pipeline\n",
    "from sklearn.model_selection import KFold, GridSearchCV, cross_validate\n",
    "import dutil.pipeline as dpipe\n",
    "from loguru import logger\n",
    "from pprint import pprint\n",
    "\n",
    "import mlflow_experiment as experiment"
   ]
  },
  {
   "cell_type": "markdown",
   "metadata": {
    "papermill": {
     "duration": 0.006926,
     "end_time": "2020-11-27T09:46:06.404874",
     "exception": false,
     "start_time": "2020-11-27T09:46:06.397948",
     "status": "completed"
    },
    "tags": []
   },
   "source": [
    "## Experiment\n",
    "\n",
    "The pipeline is constructed in `mlflow_experiment.py`"
   ]
  },
  {
   "cell_type": "code",
   "execution_count": 2,
   "metadata": {
    "execution": {
     "iopub.execute_input": "2020-11-27T09:46:06.416532Z",
     "iopub.status.busy": "2020-11-27T09:46:06.416198Z",
     "iopub.status.idle": "2020-11-27T09:46:06.417878Z",
     "shell.execute_reply": "2020-11-27T09:46:06.417609Z"
    },
    "papermill": {
     "duration": 0.009223,
     "end_time": "2020-11-27T09:46:06.417978",
     "exception": false,
     "start_time": "2020-11-27T09:46:06.408755",
     "status": "completed"
    },
    "tags": [
     "parameters"
    ]
   },
   "outputs": [],
   "source": [
    "# --- Global Notebook Parameters ---\n",
    "fversion = 0\n",
    "mversion = 0\n",
    "include_country = True\n",
    "adjust_for_country = True\n",
    "target = 'e'\n",
    "test_ratio = 0.3\n",
    "n_folds = 2\n",
    "_n_jobs = 1"
   ]
  },
  {
   "cell_type": "code",
   "execution_count": 3,
   "metadata": {
    "execution": {
     "iopub.execute_input": "2020-11-27T09:46:06.428232Z",
     "iopub.status.busy": "2020-11-27T09:46:06.427900Z",
     "iopub.status.idle": "2020-11-27T09:46:06.429593Z",
     "shell.execute_reply": "2020-11-27T09:46:06.429326Z"
    },
    "papermill": {
     "duration": 0.007811,
     "end_time": "2020-11-27T09:46:06.429687",
     "exception": false,
     "start_time": "2020-11-27T09:46:06.421876",
     "status": "completed"
    },
    "tags": [
     "injected-parameters"
    ]
   },
   "outputs": [],
   "source": [
    "# Parameters\n",
    "include_c = True\n",
    "adjust_for_country = True\n"
   ]
  },
  {
   "cell_type": "code",
   "execution_count": 4,
   "metadata": {
    "execution": {
     "iopub.execute_input": "2020-11-27T09:46:06.440539Z",
     "iopub.status.busy": "2020-11-27T09:46:06.440164Z",
     "iopub.status.idle": "2020-11-27T09:46:06.441929Z",
     "shell.execute_reply": "2020-11-27T09:46:06.441589Z"
    },
    "papermill": {
     "duration": 0.008272,
     "end_time": "2020-11-27T09:46:06.442022",
     "exception": false,
     "start_time": "2020-11-27T09:46:06.433750",
     "status": "completed"
    },
    "tags": []
   },
   "outputs": [],
   "source": [
    "experiment.params.update_many(dict(\n",
    "    fversion=fversion,\n",
    "    mversion=mversion,\n",
    "    include_country=include_country,\n",
    "    adjust_for_country=adjust_for_country,\n",
    "    target=target,\n",
    "    test_ratio=test_ratio,\n",
    "    n_folds=n_folds,\n",
    "    _n_jobs=_n_jobs,\n",
    "))"
   ]
  },
  {
   "cell_type": "markdown",
   "metadata": {
    "papermill": {
     "duration": 0.004003,
     "end_time": "2020-11-27T09:46:06.450082",
     "exception": false,
     "start_time": "2020-11-27T09:46:06.446079",
     "status": "completed"
    },
    "tags": []
   },
   "source": [
    "### Linear Regression"
   ]
  },
  {
   "cell_type": "code",
   "execution_count": 5,
   "metadata": {
    "execution": {
     "iopub.execute_input": "2020-11-27T09:46:06.461975Z",
     "iopub.status.busy": "2020-11-27T09:46:06.461639Z",
     "iopub.status.idle": "2020-11-27T09:46:06.496266Z",
     "shell.execute_reply": "2020-11-27T09:46:06.495928Z"
    },
    "papermill": {
     "duration": 0.042381,
     "end_time": "2020-11-27T09:46:06.496364",
     "exception": false,
     "start_time": "2020-11-27T09:46:06.453983",
     "status": "completed"
    },
    "tags": []
   },
   "outputs": [
    {
     "name": "stderr",
     "output_type": "stream",
     "text": [
      "2020-11-27 12:46:06.463 | INFO     | dutil.pipeline._cached:new_foo:311 - Task load_data_2.pickle: skip (cache exists)\n"
     ]
    },
    {
     "name": "stderr",
     "output_type": "stream",
     "text": [
      "2020-11-27 12:46:06.463 | INFO     | dutil.pipeline._cached:new_foo:311 - Task load_data_1.pickle: skip (cache exists)\n"
     ]
    },
    {
     "name": "stderr",
     "output_type": "stream",
     "text": [
      "2020-11-27 12:46:06.464 | INFO     | dutil.pipeline._cached:new_foo:311 - Task load_data_3.pickle: skip (cache exists)\n"
     ]
    },
    {
     "name": "stderr",
     "output_type": "stream",
     "text": [
      "2020-11-27 12:46:06.488 | INFO     | dutil.pipeline._cached:new_foo:311 - Task mlpipe_make_x_y_df_1|9686102406375020340_df_2|11371928299187938700_df_3|16702583620649360787_include_country|True_adjust_for_country|True_target|e_fversion|0.pickle: skip (cache exists)\n"
     ]
    },
    {
     "name": "stderr",
     "output_type": "stream",
     "text": [
      "2020-11-27 12:46:06.490 | INFO     | dutil.pipeline._cached:new_foo:311 - Task mlpipe_split_x_y_X|68681996546272477_y|16896747200748431878_test_ratio|0.3.pickle: skip (cache exists)\n"
     ]
    },
    {
     "name": "stderr",
     "output_type": "stream",
     "text": [
      "2020-11-27 12:46:06.491 | INFO     | dutil.pipeline._cached:new_foo:311 - Task mlpipe_crossval_model_model_name|lr_X|6317714561027695988_y|805566526682016355_n_folds|2_mversion|0_n_jobs|1.pickle: skip (cache exists)\n"
     ]
    },
    {
     "name": "stderr",
     "output_type": "stream",
     "text": [
      "2020-11-27 12:46:06.493 | DEBUG    | dutil.pipeline._cached:load:193 - Task mlpipe_crossval_model_model_name|lr_X|6317714561027695988_y|805566526682016355_n_folds|2_mversion|0_n_jobs|1.pickle: data has been loaded from cache\n"
     ]
    },
    {
     "name": "stderr",
     "output_type": "stream",
     "text": [
      "2020-11-27 12:46:06.493 | INFO     | mlflow_experiment:run_experiment:138 - Experiment run is finished\n"
     ]
    }
   ],
   "source": [
    "with experiment.params.context(dict(\n",
    "    model_name='lr',\n",
    "    _model=Pipeline((\n",
    "        ('t', SimpleImputer(fill_value=0)),\n",
    "        ('e', LinearRegression()),\n",
    "    )),\n",
    ")):\n",
    "    model, results = experiment.run_experiment()"
   ]
  },
  {
   "cell_type": "code",
   "execution_count": 6,
   "metadata": {
    "execution": {
     "iopub.execute_input": "2020-11-27T09:46:06.510499Z",
     "iopub.status.busy": "2020-11-27T09:46:06.510167Z",
     "iopub.status.idle": "2020-11-27T09:46:06.512381Z",
     "shell.execute_reply": "2020-11-27T09:46:06.512633Z"
    },
    "papermill": {
     "duration": 0.011283,
     "end_time": "2020-11-27T09:46:06.512739",
     "exception": false,
     "start_time": "2020-11-27T09:46:06.501456",
     "status": "completed"
    },
    "tags": []
   },
   "outputs": [
    {
     "name": "stdout",
     "output_type": "stream",
     "text": [
      "Pipeline(steps=[('t', SimpleImputer(fill_value=0)), ('e', LinearRegression())])\n",
      "\n",
      "{'fit_time': array([0.00814676, 0.00339603]),\n",
      " 'score_time': array([0.00221658, 0.0025723 ]),\n",
      " 'test_mae': array([-1.66666667, -4.        ]),\n",
      " 'test_r2': array([-10.55555556, -15.        ]),\n",
      " 'train_mae': array([-2.22044605e-16, -1.11022302e-16]),\n",
      " 'train_r2': array([1., 1.])}\n"
     ]
    }
   ],
   "source": [
    "pprint(model)\n",
    "print()\n",
    "pprint(results)"
   ]
  },
  {
   "cell_type": "markdown",
   "metadata": {
    "papermill": {
     "duration": 0.005434,
     "end_time": "2020-11-27T09:46:06.523577",
     "exception": false,
     "start_time": "2020-11-27T09:46:06.518143",
     "status": "completed"
    },
    "tags": []
   },
   "source": [
    "### Random Forests"
   ]
  },
  {
   "cell_type": "code",
   "execution_count": 7,
   "metadata": {
    "execution": {
     "iopub.execute_input": "2020-11-27T09:46:06.537555Z",
     "iopub.status.busy": "2020-11-27T09:46:06.537217Z",
     "iopub.status.idle": "2020-11-27T09:46:06.548936Z",
     "shell.execute_reply": "2020-11-27T09:46:06.548602Z"
    },
    "papermill": {
     "duration": 0.020099,
     "end_time": "2020-11-27T09:46:06.549031",
     "exception": false,
     "start_time": "2020-11-27T09:46:06.528932",
     "status": "completed"
    },
    "tags": []
   },
   "outputs": [
    {
     "name": "stderr",
     "output_type": "stream",
     "text": [
      "2020-11-27 12:46:06.537 | INFO     | dutil.pipeline._cached:new_foo:311 - Task load_data_1.pickle: skip (cache exists)\n"
     ]
    },
    {
     "name": "stderr",
     "output_type": "stream",
     "text": [
      "2020-11-27 12:46:06.538 | INFO     | dutil.pipeline._cached:new_foo:311 - Task load_data_3.pickle: skip (cache exists)\n"
     ]
    },
    {
     "name": "stderr",
     "output_type": "stream",
     "text": [
      "2020-11-27 12:46:06.538 | INFO     | dutil.pipeline._cached:new_foo:311 - Task load_data_2.pickle: skip (cache exists)\n"
     ]
    },
    {
     "name": "stderr",
     "output_type": "stream",
     "text": [
      "2020-11-27 12:46:06.540 | INFO     | dutil.pipeline._cached:new_foo:311 - Task mlpipe_make_x_y_df_1|9686102406375020340_df_2|11371928299187938700_df_3|16702583620649360787_include_country|True_adjust_for_country|True_target|e_fversion|0.pickle: skip (cache exists)\n"
     ]
    },
    {
     "name": "stderr",
     "output_type": "stream",
     "text": [
      "2020-11-27 12:46:06.541 | INFO     | dutil.pipeline._cached:new_foo:311 - Task mlpipe_split_x_y_X|68681996546272477_y|16896747200748431878_test_ratio|0.3.pickle: skip (cache exists)\n"
     ]
    },
    {
     "name": "stderr",
     "output_type": "stream",
     "text": [
      "2020-11-27 12:46:06.543 | INFO     | dutil.pipeline._cached:new_foo:311 - Task mlpipe_crossval_model_model_name|rf_X|6317714561027695988_y|805566526682016355_n_folds|2_mversion|0_n_jobs|1.pickle: skip (cache exists)\n"
     ]
    },
    {
     "name": "stderr",
     "output_type": "stream",
     "text": [
      "2020-11-27 12:46:06.545 | DEBUG    | dutil.pipeline._cached:load:193 - Task mlpipe_crossval_model_model_name|rf_X|6317714561027695988_y|805566526682016355_n_folds|2_mversion|0_n_jobs|1.pickle: data has been loaded from cache\n"
     ]
    },
    {
     "name": "stderr",
     "output_type": "stream",
     "text": [
      "2020-11-27 12:46:06.546 | INFO     | mlflow_experiment:run_experiment:138 - Experiment run is finished\n"
     ]
    }
   ],
   "source": [
    "with experiment.params.context(dict(\n",
    "    model_name='rf',\n",
    "    _model=Pipeline((\n",
    "        ('t', SimpleImputer(fill_value=0)),\n",
    "        ('e', RandomForestRegressor()),\n",
    "    )),\n",
    ")):\n",
    "    model, results = experiment.run_experiment()"
   ]
  },
  {
   "cell_type": "code",
   "execution_count": 8,
   "metadata": {
    "execution": {
     "iopub.execute_input": "2020-11-27T09:46:06.564734Z",
     "iopub.status.busy": "2020-11-27T09:46:06.564407Z",
     "iopub.status.idle": "2020-11-27T09:46:06.566227Z",
     "shell.execute_reply": "2020-11-27T09:46:06.565898Z"
    },
    "papermill": {
     "duration": 0.010697,
     "end_time": "2020-11-27T09:46:06.566317",
     "exception": false,
     "start_time": "2020-11-27T09:46:06.555620",
     "status": "completed"
    },
    "tags": []
   },
   "outputs": [
    {
     "name": "stdout",
     "output_type": "stream",
     "text": [
      "{'fversion': 0, 'mversion': 0, 'include_country': True, 'adjust_for_country': True, 'target': 'e', 'test_ratio': 0.3, 'n_folds': 2, 'model_name': 'rf'}\n"
     ]
    }
   ],
   "source": [
    "with experiment.params.context(dict(\n",
    "    model_name='rf',\n",
    "    _model=RandomForestRegressor(),\n",
    ")):\n",
    "    print(experiment.params.get_params())"
   ]
  },
  {
   "cell_type": "code",
   "execution_count": null,
   "metadata": {
    "papermill": {
     "duration": 0.006782,
     "end_time": "2020-11-27T09:46:06.579896",
     "exception": false,
     "start_time": "2020-11-27T09:46:06.573114",
     "status": "completed"
    },
    "tags": []
   },
   "outputs": [],
   "source": []
  }
 ],
 "metadata": {
  "kernelspec": {
   "display_name": "Python 3",
   "language": "python",
   "name": "python3"
  },
  "language_info": {
   "codemirror_mode": {
    "name": "ipython",
    "version": 3
   },
   "file_extension": ".py",
   "mimetype": "text/x-python",
   "name": "python",
   "nbconvert_exporter": "python",
   "pygments_lexer": "ipython3",
   "version": "3.8.6"
  },
  "papermill": {
   "default_parameters": {},
   "duration": 1.769927,
   "end_time": "2020-11-27T09:46:06.891074",
   "environment_variables": {},
   "exception": null,
   "input_path": "mlflow_experiment.ipynb",
   "output_path": "papermill_runs/pm__include_c=True_adjust_for_country=True.ipynb",
   "parameters": {
    "adjust_for_country": true,
    "include_c": true
   },
   "start_time": "2020-11-27T09:46:05.121147",
   "version": "2.2.2"
  }
 },
 "nbformat": 4,
 "nbformat_minor": 4
}