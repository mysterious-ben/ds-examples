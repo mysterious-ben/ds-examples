{
 "cells": [
  {
   "cell_type": "markdown",
   "metadata": {
    "papermill": {
     "duration": 0.006393,
     "end_time": "2020-12-21T12:36:02.548549",
     "exception": false,
     "start_time": "2020-12-21T12:36:02.542156",
     "status": "completed"
    },
    "tags": []
   },
   "source": [
    "# MLFlow Experiment\n",
    "\n",
    "How to efficiently run multiple ML experiments using `dutil` and `mlflow`:\n",
    "- make explicit dependencies between the tasks in the pipeline\n",
    "- record and visualize metrics from multiple runs (MLFlow)\n",
    "- cache outputs from all pipeline steps (data and models) on disk (dutil.pipeline)\n",
    "- run the pipeline with different parameters (papermill)\n",
    "\n",
    "About:\n",
    "- see the experiment pipeline: `mlflow_experiment.py`\n",
    "- show a metrics summary via MLFlow: `mlflow ui` (in the shell)\n",
    "- run notebooks with different parameters via Papermill: `mlflow_experiment_papermill.ipynb`\n",
    "\n",
    "Limitations:\n",
    "- currently, `dutil.pipeline` only supports \"threads\" Dask scheduler"
   ]
  },
  {
   "cell_type": "markdown",
   "metadata": {
    "papermill": {
     "duration": 0.006845,
     "end_time": "2020-12-21T12:36:02.562157",
     "exception": false,
     "start_time": "2020-12-21T12:36:02.555312",
     "status": "completed"
    },
    "tags": []
   },
   "source": [
    "## Setup"
   ]
  },
  {
   "cell_type": "code",
   "execution_count": 1,
   "metadata": {
    "execution": {
     "iopub.execute_input": "2020-12-21T12:36:02.581744Z",
     "iopub.status.busy": "2020-12-21T12:36:02.581177Z",
     "iopub.status.idle": "2020-12-21T12:36:03.274837Z",
     "shell.execute_reply": "2020-12-21T12:36:03.274490Z"
    },
    "papermill": {
     "duration": 0.705728,
     "end_time": "2020-12-21T12:36:03.274960",
     "exception": false,
     "start_time": "2020-12-21T12:36:02.569232",
     "status": "completed"
    },
    "tags": []
   },
   "outputs": [],
   "source": [
    "import numpy as np\n",
    "import pandas as pd\n",
    "from sklearn.metrics import r2_score, mean_absolute_error, make_scorer\n",
    "from sklearn.impute import SimpleImputer\n",
    "from sklearn.linear_model import LinearRegression\n",
    "from sklearn.ensemble import RandomForestRegressor\n",
    "from sklearn.pipeline import Pipeline\n",
    "from sklearn.model_selection import KFold, GridSearchCV, cross_validate\n",
    "import dutil.pipeline as dpipe\n",
    "from loguru import logger\n",
    "from pprint import pprint\n",
    "\n",
    "import mlflow_experiment as experiment"
   ]
  },
  {
   "cell_type": "markdown",
   "metadata": {
    "papermill": {
     "duration": 0.007,
     "end_time": "2020-12-21T12:36:03.286090",
     "exception": false,
     "start_time": "2020-12-21T12:36:03.279090",
     "status": "completed"
    },
    "tags": []
   },
   "source": [
    "## Experiment\n",
    "\n",
    "The pipeline is constructed in `mlflow_experiment.py`"
   ]
  },
  {
   "cell_type": "code",
   "execution_count": 2,
   "metadata": {
    "execution": {
     "iopub.execute_input": "2020-12-21T12:36:03.296228Z",
     "iopub.status.busy": "2020-12-21T12:36:03.295892Z",
     "iopub.status.idle": "2020-12-21T12:36:03.297585Z",
     "shell.execute_reply": "2020-12-21T12:36:03.297293Z"
    },
    "papermill": {
     "duration": 0.007987,
     "end_time": "2020-12-21T12:36:03.297701",
     "exception": false,
     "start_time": "2020-12-21T12:36:03.289714",
     "status": "completed"
    },
    "tags": [
     "parameters"
    ]
   },
   "outputs": [],
   "source": [
    "# --- Global Notebook Parameters ---\n",
    "fversion = 0\n",
    "mversion = 0\n",
    "include_country = True\n",
    "adjust_for_country = True\n",
    "target = 'e'\n",
    "test_ratio = 0.3\n",
    "n_folds = 2\n",
    "_n_jobs = 1"
   ]
  },
  {
   "cell_type": "code",
   "execution_count": 3,
   "metadata": {
    "execution": {
     "iopub.execute_input": "2020-12-21T12:36:03.307397Z",
     "iopub.status.busy": "2020-12-21T12:36:03.307084Z",
     "iopub.status.idle": "2020-12-21T12:36:03.308668Z",
     "shell.execute_reply": "2020-12-21T12:36:03.308929Z"
    },
    "papermill": {
     "duration": 0.007547,
     "end_time": "2020-12-21T12:36:03.309023",
     "exception": false,
     "start_time": "2020-12-21T12:36:03.301476",
     "status": "completed"
    },
    "tags": [
     "injected-parameters"
    ]
   },
   "outputs": [],
   "source": [
    "# Parameters\n",
    "include_c = True\n",
    "adjust_for_country = True\n"
   ]
  },
  {
   "cell_type": "code",
   "execution_count": 4,
   "metadata": {
    "execution": {
     "iopub.execute_input": "2020-12-21T12:36:03.320002Z",
     "iopub.status.busy": "2020-12-21T12:36:03.319685Z",
     "iopub.status.idle": "2020-12-21T12:36:03.321248Z",
     "shell.execute_reply": "2020-12-21T12:36:03.320931Z"
    },
    "papermill": {
     "duration": 0.007875,
     "end_time": "2020-12-21T12:36:03.321334",
     "exception": false,
     "start_time": "2020-12-21T12:36:03.313459",
     "status": "completed"
    },
    "tags": []
   },
   "outputs": [],
   "source": [
    "experiment.params.update_many(dict(\n",
    "    fversion=fversion,\n",
    "    mversion=mversion,\n",
    "    include_country=include_country,\n",
    "    adjust_for_country=adjust_for_country,\n",
    "    target=target,\n",
    "    test_ratio=test_ratio,\n",
    "    n_folds=n_folds,\n",
    "    _n_jobs=_n_jobs,\n",
    "))"
   ]
  },
  {
   "cell_type": "markdown",
   "metadata": {
    "papermill": {
     "duration": 0.003667,
     "end_time": "2020-12-21T12:36:03.329314",
     "exception": false,
     "start_time": "2020-12-21T12:36:03.325647",
     "status": "completed"
    },
    "tags": []
   },
   "source": [
    "### Linear Regression"
   ]
  },
  {
   "cell_type": "code",
   "execution_count": 5,
   "metadata": {
    "execution": {
     "iopub.execute_input": "2020-12-21T12:36:03.341533Z",
     "iopub.status.busy": "2020-12-21T12:36:03.341107Z",
     "iopub.status.idle": "2020-12-21T12:36:03.417212Z",
     "shell.execute_reply": "2020-12-21T12:36:03.415714Z"
    },
    "papermill": {
     "duration": 0.083782,
     "end_time": "2020-12-21T12:36:03.417671",
     "exception": false,
     "start_time": "2020-12-21T12:36:03.333889",
     "status": "completed"
    },
    "tags": []
   },
   "outputs": [
    {
     "name": "stderr",
     "output_type": "stream",
     "text": [
      "2020-12-21 15:36:03.343 | INFO     | dutil.pipeline._cached:new_foo:314 - Task load_data_2.pickle: skip (cache exists)\n"
     ]
    },
    {
     "name": "stderr",
     "output_type": "stream",
     "text": [
      "2020-12-21 15:36:03.345 | INFO     | dutil.pipeline._cached:new_foo:314 - Task load_data_3.pickle: skip (cache exists)\n"
     ]
    },
    {
     "name": "stderr",
     "output_type": "stream",
     "text": [
      "2020-12-21 15:36:03.345 | INFO     | dutil.pipeline._cached:new_foo:314 - Task load_data_1.pickle: skip (cache exists)\n"
     ]
    },
    {
     "name": "stderr",
     "output_type": "stream",
     "text": [
      "2020-12-21 15:36:03.387 | INFO     | dutil.pipeline._cached:new_foo:314 - Task mlpipe_make_x_y_df_1|9686102406375020340_df_2|3176941632375591712_df_3|16702583620649360787_include_country|True_adjust_for_country|True_target|e_fversion|0.pickle: skip (cache exists)\n"
     ]
    },
    {
     "name": "stderr",
     "output_type": "stream",
     "text": [
      "2020-12-21 15:36:03.393 | INFO     | dutil.pipeline._cached:new_foo:314 - Task mlpipe_split_x_y_X|68681996546272477_y|16896747200748431878_test_ratio|0.3.pickle: skip (cache exists)\n"
     ]
    },
    {
     "name": "stderr",
     "output_type": "stream",
     "text": [
      "2020-12-21 15:36:03.399 | INFO     | dutil.pipeline._cached:new_foo:314 - Task mlpipe_crossval_model_model_name|lr_X|6317714561027695988_y|805566526682016355_n_folds|2_mversion|0_n_jobs|1.pickle: skip (cache exists)\n"
     ]
    },
    {
     "name": "stderr",
     "output_type": "stream",
     "text": [
      "2020-12-21 15:36:03.405 | DEBUG    | dutil.pipeline._cached:load:196 - Task mlpipe_crossval_model_model_name|lr_X|6317714561027695988_y|805566526682016355_n_folds|2_mversion|0_n_jobs|1.pickle: data has been loaded from cache\n"
     ]
    },
    {
     "name": "stderr",
     "output_type": "stream",
     "text": [
      "2020-12-21 15:36:03.407 | INFO     | mlflow_experiment:run_experiment:159 - Experiment run is finished\n"
     ]
    }
   ],
   "source": [
    "with experiment.params.context(dict(\n",
    "    model_name='lr',\n",
    "    _model=Pipeline((\n",
    "        ('t', SimpleImputer(fill_value=0)),\n",
    "        ('e', LinearRegression()),\n",
    "    )),\n",
    ")):\n",
    "    model, results = experiment.run_experiment()"
   ]
  },
  {
   "cell_type": "code",
   "execution_count": 6,
   "metadata": {
    "execution": {
     "iopub.execute_input": "2020-12-21T12:36:03.447682Z",
     "iopub.status.busy": "2020-12-21T12:36:03.447271Z",
     "iopub.status.idle": "2020-12-21T12:36:03.450903Z",
     "shell.execute_reply": "2020-12-21T12:36:03.451309Z"
    },
    "papermill": {
     "duration": 0.018233,
     "end_time": "2020-12-21T12:36:03.451482",
     "exception": false,
     "start_time": "2020-12-21T12:36:03.433249",
     "status": "completed"
    },
    "tags": []
   },
   "outputs": [
    {
     "name": "stdout",
     "output_type": "stream",
     "text": [
      "Pipeline(steps=[('t', SimpleImputer(fill_value=0)), ('e', LinearRegression())])\n",
      "\n",
      "{'fit_time': array([0.00358796, 0.00284004]),\n",
      " 'score_time': array([0.00155425, 0.00142932]),\n",
      " 'test_mae': array([-1.66666667, -4.        ]),\n",
      " 'test_r2': array([-10.55555556, -15.        ]),\n",
      " 'train_mae': array([-2.22044605e-16, -1.11022302e-16]),\n",
      " 'train_r2': array([1., 1.])}\n"
     ]
    }
   ],
   "source": [
    "pprint(model)\n",
    "print()\n",
    "pprint(results)"
   ]
  },
  {
   "cell_type": "markdown",
   "metadata": {
    "papermill": {
     "duration": 0.005235,
     "end_time": "2020-12-21T12:36:03.463081",
     "exception": false,
     "start_time": "2020-12-21T12:36:03.457846",
     "status": "completed"
    },
    "tags": []
   },
   "source": [
    "### Random Forests"
   ]
  },
  {
   "cell_type": "code",
   "execution_count": 7,
   "metadata": {
    "execution": {
     "iopub.execute_input": "2020-12-21T12:36:03.477158Z",
     "iopub.status.busy": "2020-12-21T12:36:03.476594Z",
     "iopub.status.idle": "2020-12-21T12:36:03.489357Z",
     "shell.execute_reply": "2020-12-21T12:36:03.489070Z"
    },
    "papermill": {
     "duration": 0.020604,
     "end_time": "2020-12-21T12:36:03.489452",
     "exception": false,
     "start_time": "2020-12-21T12:36:03.468848",
     "status": "completed"
    },
    "tags": []
   },
   "outputs": [
    {
     "name": "stderr",
     "output_type": "stream",
     "text": [
      "2020-12-21 15:36:03.477 | INFO     | dutil.pipeline._cached:new_foo:314 - Task load_data_1.pickle: skip (cache exists)\n"
     ]
    },
    {
     "name": "stderr",
     "output_type": "stream",
     "text": [
      "2020-12-21 15:36:03.478 | INFO     | dutil.pipeline._cached:new_foo:314 - Task load_data_3.pickle: skip (cache exists)\n"
     ]
    },
    {
     "name": "stderr",
     "output_type": "stream",
     "text": [
      "2020-12-21 15:36:03.479 | INFO     | dutil.pipeline._cached:new_foo:314 - Task load_data_2.pickle: skip (cache exists)\n"
     ]
    },
    {
     "name": "stderr",
     "output_type": "stream",
     "text": [
      "2020-12-21 15:36:03.480 | INFO     | dutil.pipeline._cached:new_foo:314 - Task mlpipe_make_x_y_df_1|9686102406375020340_df_2|3176941632375591712_df_3|16702583620649360787_include_country|True_adjust_for_country|True_target|e_fversion|0.pickle: skip (cache exists)\n"
     ]
    },
    {
     "name": "stderr",
     "output_type": "stream",
     "text": [
      "2020-12-21 15:36:03.482 | INFO     | dutil.pipeline._cached:new_foo:314 - Task mlpipe_split_x_y_X|68681996546272477_y|16896747200748431878_test_ratio|0.3.pickle: skip (cache exists)\n"
     ]
    },
    {
     "name": "stderr",
     "output_type": "stream",
     "text": [
      "2020-12-21 15:36:03.483 | INFO     | dutil.pipeline._cached:new_foo:314 - Task mlpipe_crossval_model_model_name|rf_X|6317714561027695988_y|805566526682016355_n_folds|2_mversion|0_n_jobs|1.pickle: skip (cache exists)\n"
     ]
    },
    {
     "name": "stderr",
     "output_type": "stream",
     "text": [
      "2020-12-21 15:36:03.486 | DEBUG    | dutil.pipeline._cached:load:196 - Task mlpipe_crossval_model_model_name|rf_X|6317714561027695988_y|805566526682016355_n_folds|2_mversion|0_n_jobs|1.pickle: data has been loaded from cache\n"
     ]
    },
    {
     "name": "stderr",
     "output_type": "stream",
     "text": [
      "2020-12-21 15:36:03.486 | INFO     | mlflow_experiment:run_experiment:159 - Experiment run is finished\n"
     ]
    }
   ],
   "source": [
    "with experiment.params.context(dict(\n",
    "    model_name='rf',\n",
    "    _model=Pipeline((\n",
    "        ('t', SimpleImputer(fill_value=0)),\n",
    "        ('e', RandomForestRegressor()),\n",
    "    )),\n",
    ")):\n",
    "    model, results = experiment.run_experiment()"
   ]
  },
  {
   "cell_type": "code",
   "execution_count": 8,
   "metadata": {
    "execution": {
     "iopub.execute_input": "2020-12-21T12:36:03.504822Z",
     "iopub.status.busy": "2020-12-21T12:36:03.504495Z",
     "iopub.status.idle": "2020-12-21T12:36:03.506366Z",
     "shell.execute_reply": "2020-12-21T12:36:03.506082Z"
    },
    "papermill": {
     "duration": 0.010523,
     "end_time": "2020-12-21T12:36:03.506455",
     "exception": false,
     "start_time": "2020-12-21T12:36:03.495932",
     "status": "completed"
    },
    "tags": []
   },
   "outputs": [
    {
     "name": "stdout",
     "output_type": "stream",
     "text": [
      "{'fversion': 0, 'mversion': 0, 'include_country': True, 'adjust_for_country': True, 'target': 'e', 'test_ratio': 0.3, 'n_folds': 2, 'model_name': 'rf'}\n"
     ]
    }
   ],
   "source": [
    "with experiment.params.context(dict(\n",
    "    model_name='rf',\n",
    "    _model=RandomForestRegressor(),\n",
    ")):\n",
    "    print(experiment.params.get_params())"
   ]
  },
  {
   "cell_type": "code",
   "execution_count": null,
   "metadata": {
    "papermill": {
     "duration": 0.00667,
     "end_time": "2020-12-21T12:36:03.519672",
     "exception": false,
     "start_time": "2020-12-21T12:36:03.513002",
     "status": "completed"
    },
    "tags": []
   },
   "outputs": [],
   "source": []
  }
 ],
 "metadata": {
  "kernelspec": {
   "display_name": "Python 3",
   "language": "python",
   "name": "python3"
  },
  "language_info": {
   "codemirror_mode": {
    "name": "ipython",
    "version": 3
   },
   "file_extension": ".py",
   "mimetype": "text/x-python",
   "name": "python",
   "nbconvert_exporter": "python",
   "pygments_lexer": "ipython3",
   "version": "3.8.6"
  },
  "papermill": {
   "default_parameters": {},
   "duration": 1.748619,
   "end_time": "2020-12-21T12:36:03.832300",
   "environment_variables": {},
   "exception": null,
   "input_path": "mlflow_experiment.ipynb",
   "output_path": "papermill_runs/pm__include_c=True_adjust_for_country=True.ipynb",
   "parameters": {
    "adjust_for_country": true,
    "include_c": true
   },
   "start_time": "2020-12-21T12:36:02.083681",
   "version": "2.2.2"
  }
 },
 "nbformat": 4,
 "nbformat_minor": 4
}