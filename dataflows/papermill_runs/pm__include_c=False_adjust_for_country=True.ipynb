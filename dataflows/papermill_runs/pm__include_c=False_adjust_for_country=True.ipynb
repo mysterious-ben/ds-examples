{
 "cells": [
  {
   "cell_type": "markdown",
   "metadata": {
    "papermill": {
     "duration": 0.01927,
     "end_time": "2020-12-21T12:36:06.085675",
     "exception": false,
     "start_time": "2020-12-21T12:36:06.066405",
     "status": "completed"
    },
    "tags": []
   },
   "source": [
    "# MLFlow Experiment\n",
    "\n",
    "How to efficiently run multiple ML experiments using `dutil` and `mlflow`:\n",
    "- make explicit dependencies between the tasks in the pipeline\n",
    "- record and visualize metrics from multiple runs (MLFlow)\n",
    "- cache outputs from all pipeline steps (data and models) on disk (dutil.pipeline)\n",
    "- run the pipeline with different parameters (papermill)\n",
    "\n",
    "About:\n",
    "- see the experiment pipeline: `mlflow_experiment.py`\n",
    "- show a metrics summary via MLFlow: `mlflow ui` (in the shell)\n",
    "- run notebooks with different parameters via Papermill: `mlflow_experiment_papermill.ipynb`\n",
    "\n",
    "Limitations:\n",
    "- currently, `dutil.pipeline` only supports \"threads\" Dask scheduler"
   ]
  },
  {
   "cell_type": "markdown",
   "metadata": {
    "papermill": {
     "duration": 0.008396,
     "end_time": "2020-12-21T12:36:06.109212",
     "exception": false,
     "start_time": "2020-12-21T12:36:06.100816",
     "status": "completed"
    },
    "tags": []
   },
   "source": [
    "## Setup"
   ]
  },
  {
   "cell_type": "code",
   "execution_count": 1,
   "metadata": {
    "execution": {
     "iopub.execute_input": "2020-12-21T12:36:06.125369Z",
     "iopub.status.busy": "2020-12-21T12:36:06.124723Z",
     "iopub.status.idle": "2020-12-21T12:36:06.785416Z",
     "shell.execute_reply": "2020-12-21T12:36:06.785116Z"
    },
    "papermill": {
     "duration": 0.67006,
     "end_time": "2020-12-21T12:36:06.785520",
     "exception": false,
     "start_time": "2020-12-21T12:36:06.115460",
     "status": "completed"
    },
    "tags": []
   },
   "outputs": [],
   "source": [
    "import numpy as np\n",
    "import pandas as pd\n",
    "from sklearn.metrics import r2_score, mean_absolute_error, make_scorer\n",
    "from sklearn.impute import SimpleImputer\n",
    "from sklearn.linear_model import LinearRegression\n",
    "from sklearn.ensemble import RandomForestRegressor\n",
    "from sklearn.pipeline import Pipeline\n",
    "from sklearn.model_selection import KFold, GridSearchCV, cross_validate\n",
    "import dutil.pipeline as dpipe\n",
    "from loguru import logger\n",
    "from pprint import pprint\n",
    "\n",
    "import mlflow_experiment as experiment"
   ]
  },
  {
   "cell_type": "markdown",
   "metadata": {
    "papermill": {
     "duration": 0.00711,
     "end_time": "2020-12-21T12:36:06.796961",
     "exception": false,
     "start_time": "2020-12-21T12:36:06.789851",
     "status": "completed"
    },
    "tags": []
   },
   "source": [
    "## Experiment\n",
    "\n",
    "The pipeline is constructed in `mlflow_experiment.py`"
   ]
  },
  {
   "cell_type": "code",
   "execution_count": 2,
   "metadata": {
    "execution": {
     "iopub.execute_input": "2020-12-21T12:36:06.807482Z",
     "iopub.status.busy": "2020-12-21T12:36:06.807177Z",
     "iopub.status.idle": "2020-12-21T12:36:06.808840Z",
     "shell.execute_reply": "2020-12-21T12:36:06.808534Z"
    },
    "papermill": {
     "duration": 0.008199,
     "end_time": "2020-12-21T12:36:06.808927",
     "exception": false,
     "start_time": "2020-12-21T12:36:06.800728",
     "status": "completed"
    },
    "tags": [
     "parameters"
    ]
   },
   "outputs": [],
   "source": [
    "# --- Global Notebook Parameters ---\n",
    "fversion = 0\n",
    "mversion = 0\n",
    "include_country = True\n",
    "adjust_for_country = True\n",
    "target = 'e'\n",
    "test_ratio = 0.3\n",
    "n_folds = 2\n",
    "_n_jobs = 1"
   ]
  },
  {
   "cell_type": "code",
   "execution_count": 3,
   "metadata": {
    "execution": {
     "iopub.execute_input": "2020-12-21T12:36:06.818108Z",
     "iopub.status.busy": "2020-12-21T12:36:06.817805Z",
     "iopub.status.idle": "2020-12-21T12:36:06.819624Z",
     "shell.execute_reply": "2020-12-21T12:36:06.819316Z"
    },
    "papermill": {
     "duration": 0.007151,
     "end_time": "2020-12-21T12:36:06.819707",
     "exception": false,
     "start_time": "2020-12-21T12:36:06.812556",
     "status": "completed"
    },
    "tags": [
     "injected-parameters"
    ]
   },
   "outputs": [],
   "source": [
    "# Parameters\n",
    "include_c = False\n",
    "adjust_for_country = True\n"
   ]
  },
  {
   "cell_type": "code",
   "execution_count": 4,
   "metadata": {
    "execution": {
     "iopub.execute_input": "2020-12-21T12:36:06.829278Z",
     "iopub.status.busy": "2020-12-21T12:36:06.828973Z",
     "iopub.status.idle": "2020-12-21T12:36:06.830735Z",
     "shell.execute_reply": "2020-12-21T12:36:06.830429Z"
    },
    "papermill": {
     "duration": 0.007618,
     "end_time": "2020-12-21T12:36:06.830817",
     "exception": false,
     "start_time": "2020-12-21T12:36:06.823199",
     "status": "completed"
    },
    "tags": []
   },
   "outputs": [],
   "source": [
    "experiment.params.update_many(dict(\n",
    "    fversion=fversion,\n",
    "    mversion=mversion,\n",
    "    include_country=include_country,\n",
    "    adjust_for_country=adjust_for_country,\n",
    "    target=target,\n",
    "    test_ratio=test_ratio,\n",
    "    n_folds=n_folds,\n",
    "    _n_jobs=_n_jobs,\n",
    "))"
   ]
  },
  {
   "cell_type": "markdown",
   "metadata": {
    "papermill": {
     "duration": 0.003612,
     "end_time": "2020-12-21T12:36:06.837954",
     "exception": false,
     "start_time": "2020-12-21T12:36:06.834342",
     "status": "completed"
    },
    "tags": []
   },
   "source": [
    "### Linear Regression"
   ]
  },
  {
   "cell_type": "code",
   "execution_count": 5,
   "metadata": {
    "execution": {
     "iopub.execute_input": "2020-12-21T12:36:06.848985Z",
     "iopub.status.busy": "2020-12-21T12:36:06.848528Z",
     "iopub.status.idle": "2020-12-21T12:36:06.860657Z",
     "shell.execute_reply": "2020-12-21T12:36:06.860912Z"
    },
    "papermill": {
     "duration": 0.01956,
     "end_time": "2020-12-21T12:36:06.861026",
     "exception": false,
     "start_time": "2020-12-21T12:36:06.841466",
     "status": "completed"
    },
    "tags": []
   },
   "outputs": [
    {
     "name": "stderr",
     "output_type": "stream",
     "text": [
      "2020-12-21 15:36:06.850 | INFO     | dutil.pipeline._cached:new_foo:314 - Task load_data_1.pickle: skip (cache exists)\n"
     ]
    },
    {
     "name": "stderr",
     "output_type": "stream",
     "text": [
      "2020-12-21 15:36:06.851 | INFO     | dutil.pipeline._cached:new_foo:314 - Task load_data_2.pickle: skip (cache exists)\n"
     ]
    },
    {
     "name": "stderr",
     "output_type": "stream",
     "text": [
      "2020-12-21 15:36:06.852 | INFO     | dutil.pipeline._cached:new_foo:314 - Task load_data_3.pickle: skip (cache exists)\n"
     ]
    },
    {
     "name": "stderr",
     "output_type": "stream",
     "text": [
      "2020-12-21 15:36:06.853 | INFO     | dutil.pipeline._cached:new_foo:314 - Task mlpipe_make_x_y_df_1|9686102406375020340_df_2|3176941632375591712_df_3|16702583620649360787_include_country|True_adjust_for_country|True_target|e_fversion|0.pickle: skip (cache exists)\n"
     ]
    },
    {
     "name": "stderr",
     "output_type": "stream",
     "text": [
      "2020-12-21 15:36:06.855 | INFO     | dutil.pipeline._cached:new_foo:314 - Task mlpipe_split_x_y_X|68681996546272477_y|16896747200748431878_test_ratio|0.3.pickle: skip (cache exists)\n"
     ]
    },
    {
     "name": "stderr",
     "output_type": "stream",
     "text": [
      "2020-12-21 15:36:06.856 | INFO     | dutil.pipeline._cached:new_foo:314 - Task mlpipe_crossval_model_model_name|lr_X|6317714561027695988_y|805566526682016355_n_folds|2_mversion|0_n_jobs|1.pickle: skip (cache exists)\n"
     ]
    },
    {
     "name": "stderr",
     "output_type": "stream",
     "text": [
      "2020-12-21 15:36:06.858 | DEBUG    | dutil.pipeline._cached:load:196 - Task mlpipe_crossval_model_model_name|lr_X|6317714561027695988_y|805566526682016355_n_folds|2_mversion|0_n_jobs|1.pickle: data has been loaded from cache\n"
     ]
    },
    {
     "name": "stderr",
     "output_type": "stream",
     "text": [
      "2020-12-21 15:36:06.858 | INFO     | mlflow_experiment:run_experiment:159 - Experiment run is finished\n"
     ]
    }
   ],
   "source": [
    "with experiment.params.context(dict(\n",
    "    model_name='lr',\n",
    "    _model=Pipeline((\n",
    "        ('t', SimpleImputer(fill_value=0)),\n",
    "        ('e', LinearRegression()),\n",
    "    )),\n",
    ")):\n",
    "    model, results = experiment.run_experiment()"
   ]
  },
  {
   "cell_type": "code",
   "execution_count": 6,
   "metadata": {
    "execution": {
     "iopub.execute_input": "2020-12-21T12:36:06.874822Z",
     "iopub.status.busy": "2020-12-21T12:36:06.874417Z",
     "iopub.status.idle": "2020-12-21T12:36:06.876691Z",
     "shell.execute_reply": "2020-12-21T12:36:06.876925Z"
    },
    "papermill": {
     "duration": 0.010901,
     "end_time": "2020-12-21T12:36:06.877024",
     "exception": false,
     "start_time": "2020-12-21T12:36:06.866123",
     "status": "completed"
    },
    "tags": []
   },
   "outputs": [
    {
     "name": "stdout",
     "output_type": "stream",
     "text": [
      "Pipeline(steps=[('t', SimpleImputer(fill_value=0)), ('e', LinearRegression())])\n",
      "\n",
      "{'fit_time': array([0.00358796, 0.00284004]),\n",
      " 'score_time': array([0.00155425, 0.00142932]),\n",
      " 'test_mae': array([-1.66666667, -4.        ]),\n",
      " 'test_r2': array([-10.55555556, -15.        ]),\n",
      " 'train_mae': array([-2.22044605e-16, -1.11022302e-16]),\n",
      " 'train_r2': array([1., 1.])}\n"
     ]
    }
   ],
   "source": [
    "pprint(model)\n",
    "print()\n",
    "pprint(results)"
   ]
  },
  {
   "cell_type": "markdown",
   "metadata": {
    "papermill": {
     "duration": 0.005742,
     "end_time": "2020-12-21T12:36:06.888278",
     "exception": false,
     "start_time": "2020-12-21T12:36:06.882536",
     "status": "completed"
    },
    "tags": []
   },
   "source": [
    "### Random Forests"
   ]
  },
  {
   "cell_type": "code",
   "execution_count": 7,
   "metadata": {
    "execution": {
     "iopub.execute_input": "2020-12-21T12:36:06.902940Z",
     "iopub.status.busy": "2020-12-21T12:36:06.902586Z",
     "iopub.status.idle": "2020-12-21T12:36:06.914948Z",
     "shell.execute_reply": "2020-12-21T12:36:06.914622Z"
    },
    "papermill": {
     "duration": 0.021154,
     "end_time": "2020-12-21T12:36:06.915041",
     "exception": false,
     "start_time": "2020-12-21T12:36:06.893887",
     "status": "completed"
    },
    "tags": []
   },
   "outputs": [
    {
     "name": "stderr",
     "output_type": "stream",
     "text": [
      "2020-12-21 15:36:06.902 | INFO     | dutil.pipeline._cached:new_foo:314 - Task load_data_1.pickle: skip (cache exists)\n"
     ]
    },
    {
     "name": "stderr",
     "output_type": "stream",
     "text": [
      "2020-12-21 15:36:06.903 | INFO     | dutil.pipeline._cached:new_foo:314 - Task load_data_2.pickle: skip (cache exists)\n"
     ]
    },
    {
     "name": "stderr",
     "output_type": "stream",
     "text": [
      "2020-12-21 15:36:06.904 | INFO     | dutil.pipeline._cached:new_foo:314 - Task load_data_3.pickle: skip (cache exists)\n"
     ]
    },
    {
     "name": "stderr",
     "output_type": "stream",
     "text": [
      "2020-12-21 15:36:06.906 | INFO     | dutil.pipeline._cached:new_foo:314 - Task mlpipe_make_x_y_df_1|9686102406375020340_df_2|3176941632375591712_df_3|16702583620649360787_include_country|True_adjust_for_country|True_target|e_fversion|0.pickle: skip (cache exists)\n"
     ]
    },
    {
     "name": "stderr",
     "output_type": "stream",
     "text": [
      "2020-12-21 15:36:06.907 | INFO     | dutil.pipeline._cached:new_foo:314 - Task mlpipe_split_x_y_X|68681996546272477_y|16896747200748431878_test_ratio|0.3.pickle: skip (cache exists)\n"
     ]
    },
    {
     "name": "stderr",
     "output_type": "stream",
     "text": [
      "2020-12-21 15:36:06.909 | INFO     | dutil.pipeline._cached:new_foo:314 - Task mlpipe_crossval_model_model_name|rf_X|6317714561027695988_y|805566526682016355_n_folds|2_mversion|0_n_jobs|1.pickle: skip (cache exists)\n"
     ]
    },
    {
     "name": "stderr",
     "output_type": "stream",
     "text": [
      "2020-12-21 15:36:06.912 | DEBUG    | dutil.pipeline._cached:load:196 - Task mlpipe_crossval_model_model_name|rf_X|6317714561027695988_y|805566526682016355_n_folds|2_mversion|0_n_jobs|1.pickle: data has been loaded from cache\n"
     ]
    },
    {
     "name": "stderr",
     "output_type": "stream",
     "text": [
      "2020-12-21 15:36:06.912 | INFO     | mlflow_experiment:run_experiment:159 - Experiment run is finished\n"
     ]
    }
   ],
   "source": [
    "with experiment.params.context(dict(\n",
    "    model_name='rf',\n",
    "    _model=Pipeline((\n",
    "        ('t', SimpleImputer(fill_value=0)),\n",
    "        ('e', RandomForestRegressor()),\n",
    "    )),\n",
    ")):\n",
    "    model, results = experiment.run_experiment()"
   ]
  },
  {
   "cell_type": "code",
   "execution_count": 8,
   "metadata": {
    "execution": {
     "iopub.execute_input": "2020-12-21T12:36:06.930062Z",
     "iopub.status.busy": "2020-12-21T12:36:06.929741Z",
     "iopub.status.idle": "2020-12-21T12:36:06.931819Z",
     "shell.execute_reply": "2020-12-21T12:36:06.931494Z"
    },
    "papermill": {
     "duration": 0.010613,
     "end_time": "2020-12-21T12:36:06.931908",
     "exception": false,
     "start_time": "2020-12-21T12:36:06.921295",
     "status": "completed"
    },
    "tags": []
   },
   "outputs": [
    {
     "name": "stdout",
     "output_type": "stream",
     "text": [
      "{'fversion': 0, 'mversion': 0, 'include_country': True, 'adjust_for_country': True, 'target': 'e', 'test_ratio': 0.3, 'n_folds': 2, 'model_name': 'rf'}\n"
     ]
    }
   ],
   "source": [
    "with experiment.params.context(dict(\n",
    "    model_name='rf',\n",
    "    _model=RandomForestRegressor(),\n",
    ")):\n",
    "    print(experiment.params.get_params())"
   ]
  },
  {
   "cell_type": "code",
   "execution_count": null,
   "metadata": {
    "papermill": {
     "duration": 0.00631,
     "end_time": "2020-12-21T12:36:06.944643",
     "exception": false,
     "start_time": "2020-12-21T12:36:06.938333",
     "status": "completed"
    },
    "tags": []
   },
   "outputs": [],
   "source": []
  }
 ],
 "metadata": {
  "kernelspec": {
   "display_name": "Python 3",
   "language": "python",
   "name": "python3"
  },
  "language_info": {
   "codemirror_mode": {
    "name": "ipython",
    "version": 3
   },
   "file_extension": ".py",
   "mimetype": "text/x-python",
   "name": "python",
   "nbconvert_exporter": "python",
   "pygments_lexer": "ipython3",
   "version": "3.8.6"
  },
  "papermill": {
   "default_parameters": {},
   "duration": 1.651258,
   "end_time": "2020-12-21T12:36:07.257028",
   "environment_variables": {},
   "exception": null,
   "input_path": "mlflow_experiment.ipynb",
   "output_path": "papermill_runs/pm__include_c=False_adjust_for_country=True.ipynb",
   "parameters": {
    "adjust_for_country": true,
    "include_c": false
   },
   "start_time": "2020-12-21T12:36:05.605770",
   "version": "2.2.2"
  }
 },
 "nbformat": 4,
 "nbformat_minor": 4
}