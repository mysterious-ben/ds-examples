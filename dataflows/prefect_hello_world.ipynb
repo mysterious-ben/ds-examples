{
 "cells": [
  {
   "cell_type": "markdown",
   "metadata": {},
   "source": [
    "# Prefect Hello World"
   ]
  },
  {
   "cell_type": "code",
   "execution_count": 1,
   "metadata": {},
   "outputs": [],
   "source": [
    "from loguru import logger\n",
    "from prefect import task, Flow, Parameter"
   ]
  },
  {
   "cell_type": "markdown",
   "metadata": {},
   "source": [
    "## Basic flow"
   ]
  },
  {
   "cell_type": "code",
   "execution_count": 2,
   "metadata": {},
   "outputs": [
    {
     "name": "stdout",
     "output_type": "stream",
     "text": [
      "[2020-10-06 02:37:28] INFO - prefect.FlowRunner | Beginning Flow run for 'big_flow'\n",
      "[2020-10-06 02:37:28] INFO - prefect.TaskRunner | Task 't1': Starting task run...\n"
     ]
    },
    {
     "name": "stderr",
     "output_type": "stream",
     "text": [
      "2020-10-06 09:37:28.159 | INFO     | __main__:t1:3 - t1 input: -\n"
     ]
    },
    {
     "name": "stdout",
     "output_type": "stream",
     "text": [
      "[2020-10-06 02:37:28] INFO - prefect.TaskRunner | Task 't1': finished task run for task with final state: 'Success'\n",
      "[2020-10-06 02:37:28] INFO - prefect.TaskRunner | Task 't2': Starting task run...\n"
     ]
    },
    {
     "name": "stderr",
     "output_type": "stream",
     "text": [
      "2020-10-06 09:37:28.194 | INFO     | __main__:t2:8 - t2 input: 2.0\n"
     ]
    },
    {
     "name": "stdout",
     "output_type": "stream",
     "text": [
      "[2020-10-06 02:37:28] INFO - prefect.TaskRunner | Task 't2': finished task run for task with final state: 'Success'\n",
      "[2020-10-06 02:37:28] INFO - prefect.TaskRunner | Task 't3': Starting task run...\n"
     ]
    },
    {
     "name": "stderr",
     "output_type": "stream",
     "text": [
      "2020-10-06 09:37:28.231 | INFO     | __main__:t3:13 - t3 input: 3.0\n"
     ]
    },
    {
     "name": "stdout",
     "output_type": "stream",
     "text": [
      "[2020-10-06 02:37:28] INFO - prefect.TaskRunner | Task 't3': finished task run for task with final state: 'Success'\n",
      "[2020-10-06 02:37:28] INFO - prefect.TaskRunner | Task 't4': Starting task run...\n"
     ]
    },
    {
     "name": "stderr",
     "output_type": "stream",
     "text": [
      "2020-10-06 09:37:28.267 | INFO     | __main__:t4:18 - t3 input: 3.0 4.5\n"
     ]
    },
    {
     "name": "stdout",
     "output_type": "stream",
     "text": [
      "[2020-10-06 02:37:28] INFO - prefect.TaskRunner | Task 't4': finished task run for task with final state: 'Success'\n",
      "[2020-10-06 02:37:28] INFO - prefect.FlowRunner | Flow run SUCCESS: all reference tasks succeeded\n",
      "Output:  7.5\n"
     ]
    }
   ],
   "source": [
    "@task\n",
    "def t1():\n",
    "    logger.info('t1 input: -')\n",
    "    return 2.\n",
    "\n",
    "@task\n",
    "def t2(x):\n",
    "    logger.info('t2 input: {}'.format(x))\n",
    "    return x+1.\n",
    "\n",
    "@task\n",
    "def t3(x):\n",
    "    logger.info('t3 input: {}'.format(x))\n",
    "    return x+1.5\n",
    "\n",
    "@task \n",
    "def t4(x, y):\n",
    "    logger.info('t3 input: {} {}'.format(x, y))\n",
    "    return x+y\n",
    "\n",
    "with Flow('big_flow') as flow:\n",
    "    r1 = t1()\n",
    "    r2 = t2(r1)\n",
    "    r3 = t3(r2)\n",
    "    r4 = t4(r2, r3)\n",
    "\n",
    "state = flow.run()\n",
    "print('Output: ', state.result[r4].result)"
   ]
  },
  {
   "cell_type": "markdown",
   "metadata": {},
   "source": [
    "## Extending an existing flow"
   ]
  },
  {
   "cell_type": "code",
   "execution_count": 3,
   "metadata": {},
   "outputs": [
    {
     "name": "stdout",
     "output_type": "stream",
     "text": [
      "[2020-10-06 02:37:28] INFO - prefect.FlowRunner | Beginning Flow run for 'small_flow'\n",
      "[2020-10-06 02:37:28] INFO - prefect.TaskRunner | Task 't1': Starting task run...\n"
     ]
    },
    {
     "name": "stderr",
     "output_type": "stream",
     "text": [
      "2020-10-06 09:37:28.330 | INFO     | __main__:t1:3 - t1 input: -\n"
     ]
    },
    {
     "name": "stdout",
     "output_type": "stream",
     "text": [
      "[2020-10-06 02:37:28] INFO - prefect.TaskRunner | Task 't1': finished task run for task with final state: 'Success'\n",
      "[2020-10-06 02:37:28] INFO - prefect.TaskRunner | Task 't2': Starting task run...\n"
     ]
    },
    {
     "name": "stderr",
     "output_type": "stream",
     "text": [
      "2020-10-06 09:37:28.366 | INFO     | __main__:t2:8 - t2 input: 2.0\n"
     ]
    },
    {
     "name": "stdout",
     "output_type": "stream",
     "text": [
      "[2020-10-06 02:37:28] INFO - prefect.TaskRunner | Task 't2': finished task run for task with final state: 'Success'\n",
      "[2020-10-06 02:37:28] INFO - prefect.FlowRunner | Flow run SUCCESS: all reference tasks succeeded\n",
      "Output:  3.0\n",
      "\n",
      "[2020-10-06 02:37:28] INFO - prefect.FlowRunner | Beginning Flow run for 'extended_flow'\n",
      "[2020-10-06 02:37:28] INFO - prefect.TaskRunner | Task 't1': Starting task run...\n"
     ]
    },
    {
     "name": "stderr",
     "output_type": "stream",
     "text": [
      "2020-10-06 09:37:28.410 | INFO     | __main__:t1:3 - t1 input: -\n"
     ]
    },
    {
     "name": "stdout",
     "output_type": "stream",
     "text": [
      "[2020-10-06 02:37:28] INFO - prefect.TaskRunner | Task 't1': finished task run for task with final state: 'Success'\n",
      "[2020-10-06 02:37:28] INFO - prefect.TaskRunner | Task 't2': Starting task run...\n"
     ]
    },
    {
     "name": "stderr",
     "output_type": "stream",
     "text": [
      "2020-10-06 09:37:28.445 | INFO     | __main__:t2:8 - t2 input: 2.0\n"
     ]
    },
    {
     "name": "stdout",
     "output_type": "stream",
     "text": [
      "[2020-10-06 02:37:28] INFO - prefect.TaskRunner | Task 't2': finished task run for task with final state: 'Success'\n",
      "[2020-10-06 02:37:28] INFO - prefect.TaskRunner | Task 't3': Starting task run...\n"
     ]
    },
    {
     "name": "stderr",
     "output_type": "stream",
     "text": [
      "2020-10-06 09:37:28.479 | INFO     | __main__:t3:13 - t3 input: 3.0\n"
     ]
    },
    {
     "name": "stdout",
     "output_type": "stream",
     "text": [
      "[2020-10-06 02:37:28] INFO - prefect.TaskRunner | Task 't3': finished task run for task with final state: 'Success'\n",
      "[2020-10-06 02:37:28] INFO - prefect.TaskRunner | Task 't4': Starting task run...\n"
     ]
    },
    {
     "name": "stderr",
     "output_type": "stream",
     "text": [
      "2020-10-06 09:37:28.514 | INFO     | __main__:t4:18 - t3 input: 3.0 4.5\n"
     ]
    },
    {
     "name": "stdout",
     "output_type": "stream",
     "text": [
      "[2020-10-06 02:37:28] INFO - prefect.TaskRunner | Task 't4': finished task run for task with final state: 'Success'\n",
      "[2020-10-06 02:37:28] INFO - prefect.FlowRunner | Flow run SUCCESS: all reference tasks succeeded\n",
      "Output:  7.5\n"
     ]
    }
   ],
   "source": [
    "with Flow('small_flow') as flow1:\n",
    "    r1 = t1()\n",
    "    r2 = t2(r1)\n",
    "\n",
    "with flow1.copy() as flow2:\n",
    "    flow2.name = 'extended_flow'\n",
    "    r3 = t3(r2)\n",
    "    r4 = t4(r2, r3)\n",
    "\n",
    "state = flow1.run()\n",
    "print('Output: ', state.result[r2].result)\n",
    "\n",
    "print()\n",
    "state = flow2.run()\n",
    "print('Output: ', state.result[r4].result)"
   ]
  },
  {
   "cell_type": "code",
   "execution_count": 4,
   "metadata": {},
   "outputs": [
    {
     "name": "stdout",
     "output_type": "stream",
     "text": [
      "[2020-10-06 02:37:28] INFO - prefect.FlowRunner | Beginning Flow run for 'small_flow'\n",
      "[2020-10-06 02:37:28] INFO - prefect.TaskRunner | Task 't1': Starting task run...\n"
     ]
    },
    {
     "name": "stderr",
     "output_type": "stream",
     "text": [
      "2020-10-06 09:37:28.571 | INFO     | __main__:t1:3 - t1 input: -\n"
     ]
    },
    {
     "name": "stdout",
     "output_type": "stream",
     "text": [
      "[2020-10-06 02:37:28] INFO - prefect.TaskRunner | Task 't1': finished task run for task with final state: 'Success'\n",
      "[2020-10-06 02:37:28] INFO - prefect.TaskRunner | Task 't2': Starting task run...\n"
     ]
    },
    {
     "name": "stderr",
     "output_type": "stream",
     "text": [
      "2020-10-06 09:37:28.604 | INFO     | __main__:t2:8 - t2 input: 2.0\n"
     ]
    },
    {
     "name": "stdout",
     "output_type": "stream",
     "text": [
      "[2020-10-06 02:37:28] INFO - prefect.TaskRunner | Task 't2': finished task run for task with final state: 'Success'\n",
      "[2020-10-06 02:37:28] INFO - prefect.FlowRunner | Flow run SUCCESS: all reference tasks succeeded\n",
      "Output:  3.0\n",
      "\n",
      "[2020-10-06 02:37:28] INFO - prefect.FlowRunner | Beginning Flow run for 'extended_flow'\n",
      "[2020-10-06 02:37:28] INFO - prefect.TaskRunner | Task 't1': Starting task run...\n"
     ]
    },
    {
     "name": "stderr",
     "output_type": "stream",
     "text": [
      "2020-10-06 09:37:28.643 | INFO     | __main__:t1:3 - t1 input: -\n"
     ]
    },
    {
     "name": "stdout",
     "output_type": "stream",
     "text": [
      "[2020-10-06 02:37:28] INFO - prefect.TaskRunner | Task 't1': finished task run for task with final state: 'Success'\n",
      "[2020-10-06 02:37:28] INFO - prefect.TaskRunner | Task 't2': Starting task run...\n"
     ]
    },
    {
     "name": "stderr",
     "output_type": "stream",
     "text": [
      "2020-10-06 09:37:28.678 | INFO     | __main__:t2:8 - t2 input: 2.0\n"
     ]
    },
    {
     "name": "stdout",
     "output_type": "stream",
     "text": [
      "[2020-10-06 02:37:28] INFO - prefect.TaskRunner | Task 't2': finished task run for task with final state: 'Success'\n",
      "[2020-10-06 02:37:28] INFO - prefect.TaskRunner | Task 't3': Starting task run...\n"
     ]
    },
    {
     "name": "stderr",
     "output_type": "stream",
     "text": [
      "2020-10-06 09:37:28.715 | INFO     | __main__:t3:13 - t3 input: 3.0\n"
     ]
    },
    {
     "name": "stdout",
     "output_type": "stream",
     "text": [
      "[2020-10-06 02:37:28] INFO - prefect.TaskRunner | Task 't3': finished task run for task with final state: 'Success'\n",
      "[2020-10-06 02:37:28] INFO - prefect.TaskRunner | Task 't4': Starting task run...\n"
     ]
    },
    {
     "name": "stderr",
     "output_type": "stream",
     "text": [
      "2020-10-06 09:37:28.759 | INFO     | __main__:t4:18 - t3 input: 3.0 4.5\n"
     ]
    },
    {
     "name": "stdout",
     "output_type": "stream",
     "text": [
      "[2020-10-06 02:37:28] INFO - prefect.TaskRunner | Task 't4': finished task run for task with final state: 'Success'\n",
      "[2020-10-06 02:37:28] INFO - prefect.FlowRunner | Flow run SUCCESS: all reference tasks succeeded\n",
      "Output:  7.5\n"
     ]
    }
   ],
   "source": [
    "with Flow('small_flow') as flow1:\n",
    "    r1 = t1()\n",
    "    r2 = t2(r1)\n",
    "\n",
    "with Flow('extended_flow') as flow2:\n",
    "    flow2.update(flow1)\n",
    "    r3 = t3(r2)\n",
    "    r4 = t4(r2, r3)\n",
    "\n",
    "state = flow1.run()\n",
    "print('Output: ', state.result[r2].result)\n",
    "\n",
    "print()\n",
    "state = flow2.run()\n",
    "print('Output: ', state.result[r4].result)"
   ]
  },
  {
   "cell_type": "markdown",
   "metadata": {},
   "source": [
    "## Parametrized flow"
   ]
  },
  {
   "cell_type": "code",
   "execution_count": 5,
   "metadata": {},
   "outputs": [
    {
     "name": "stdout",
     "output_type": "stream",
     "text": [
      "[2020-10-06 02:37:28] INFO - prefect.FlowRunner | Beginning Flow run for 'param_flow'\n",
      "[2020-10-06 02:37:28] INFO - prefect.TaskRunner | Task 'y': Starting task run...\n",
      "[2020-10-06 02:37:28] INFO - prefect.TaskRunner | Task 'y': finished task run for task with final state: 'Success'\n",
      "[2020-10-06 02:37:28] INFO - prefect.TaskRunner | Task 't1': Starting task run...\n"
     ]
    },
    {
     "name": "stderr",
     "output_type": "stream",
     "text": [
      "2020-10-06 09:37:28.867 | INFO     | __main__:t1:3 - t1 input: -\n"
     ]
    },
    {
     "name": "stdout",
     "output_type": "stream",
     "text": [
      "[2020-10-06 02:37:28] INFO - prefect.TaskRunner | Task 't1': finished task run for task with final state: 'Success'\n",
      "[2020-10-06 02:37:28] INFO - prefect.TaskRunner | Task 't2': Starting task run...\n"
     ]
    },
    {
     "name": "stderr",
     "output_type": "stream",
     "text": [
      "2020-10-06 09:37:28.915 | INFO     | __main__:t2:8 - t2 input: 2.0\n"
     ]
    },
    {
     "name": "stdout",
     "output_type": "stream",
     "text": [
      "[2020-10-06 02:37:28] INFO - prefect.TaskRunner | Task 't2': finished task run for task with final state: 'Success'\n",
      "[2020-10-06 02:37:28] INFO - prefect.TaskRunner | Task 'scaling': Starting task run...\n",
      "[2020-10-06 02:37:28] INFO - prefect.TaskRunner | Task 'scaling': finished task run for task with final state: 'Success'\n",
      "[2020-10-06 02:37:29] INFO - prefect.TaskRunner | Task 't4': Starting task run...\n"
     ]
    },
    {
     "name": "stderr",
     "output_type": "stream",
     "text": [
      "2020-10-06 09:37:29.017 | INFO     | __main__:t4:18 - t3 input: 3.0 4.5\n"
     ]
    },
    {
     "name": "stdout",
     "output_type": "stream",
     "text": [
      "[2020-10-06 02:37:29] INFO - prefect.TaskRunner | Task 't4': finished task run for task with final state: 'Success'\n",
      "[2020-10-06 02:37:29] INFO - prefect.TaskRunner | Task 'Mul': Starting task run...\n",
      "[2020-10-06 02:37:29] INFO - prefect.TaskRunner | Task 'Mul': finished task run for task with final state: 'Success'\n",
      "[2020-10-06 02:37:29] INFO - prefect.FlowRunner | Flow run SUCCESS: all reference tasks succeeded\n",
      "Output:  7.5\n",
      "\n",
      "[2020-10-06 02:37:29] INFO - prefect.FlowRunner | Beginning Flow run for 'param_flow'\n",
      "[2020-10-06 02:37:29] INFO - prefect.TaskRunner | Task 'y': Starting task run...\n",
      "[2020-10-06 02:37:29] INFO - prefect.TaskRunner | Task 'y': finished task run for task with final state: 'Success'\n",
      "[2020-10-06 02:37:29] INFO - prefect.TaskRunner | Task 't1': Starting task run...\n"
     ]
    },
    {
     "name": "stderr",
     "output_type": "stream",
     "text": [
      "2020-10-06 09:37:29.133 | INFO     | __main__:t1:3 - t1 input: -\n"
     ]
    },
    {
     "name": "stdout",
     "output_type": "stream",
     "text": [
      "[2020-10-06 02:37:29] INFO - prefect.TaskRunner | Task 't1': finished task run for task with final state: 'Success'\n",
      "[2020-10-06 02:37:29] INFO - prefect.TaskRunner | Task 't2': Starting task run...\n"
     ]
    },
    {
     "name": "stderr",
     "output_type": "stream",
     "text": [
      "2020-10-06 09:37:29.166 | INFO     | __main__:t2:8 - t2 input: 2.0\n"
     ]
    },
    {
     "name": "stdout",
     "output_type": "stream",
     "text": [
      "[2020-10-06 02:37:29] INFO - prefect.TaskRunner | Task 't2': finished task run for task with final state: 'Success'\n",
      "[2020-10-06 02:37:29] INFO - prefect.TaskRunner | Task 'scaling': Starting task run...\n",
      "[2020-10-06 02:37:29] INFO - prefect.TaskRunner | Task 'scaling': finished task run for task with final state: 'Success'\n",
      "[2020-10-06 02:37:29] INFO - prefect.TaskRunner | Task 't4': Starting task run...\n"
     ]
    },
    {
     "name": "stderr",
     "output_type": "stream",
     "text": [
      "2020-10-06 09:37:29.232 | INFO     | __main__:t4:18 - t3 input: 3.0 4.5\n"
     ]
    },
    {
     "name": "stdout",
     "output_type": "stream",
     "text": [
      "[2020-10-06 02:37:29] INFO - prefect.TaskRunner | Task 't4': finished task run for task with final state: 'Success'\n",
      "[2020-10-06 02:37:29] INFO - prefect.TaskRunner | Task 'Mul': Starting task run...\n",
      "[2020-10-06 02:37:29] INFO - prefect.TaskRunner | Task 'Mul': finished task run for task with final state: 'Success'\n",
      "[2020-10-06 02:37:29] INFO - prefect.FlowRunner | Flow run SUCCESS: all reference tasks succeeded\n",
      "Output:  15.0\n"
     ]
    }
   ],
   "source": [
    "with Flow('param_flow') as flow:\n",
    "    y = Parameter('y')\n",
    "    scaling = Parameter('scaling', 1.)\n",
    "    r1 = t1()\n",
    "    r2 = t2(r1)\n",
    "    r4 = scaling*t4(r2, y)\n",
    "\n",
    "    \n",
    "state = flow.run(dict(y=4.5))\n",
    "print('Output: ', state.result[r4].result)\n",
    "print()\n",
    "state = flow.run(dict(y=4.5, scaling=2.))\n",
    "print('Output: ', state.result[r4].result)"
   ]
  }
 ],
 "metadata": {
  "kernelspec": {
   "display_name": "Python 3",
   "language": "python",
   "name": "python3"
  },
  "language_info": {
   "codemirror_mode": {
    "name": "ipython",
    "version": 3
   },
   "file_extension": ".py",
   "mimetype": "text/x-python",
   "name": "python",
   "nbconvert_exporter": "python",
   "pygments_lexer": "ipython3",
   "version": "3.8.2"
  }
 },
 "nbformat": 4,
 "nbformat_minor": 4
}
