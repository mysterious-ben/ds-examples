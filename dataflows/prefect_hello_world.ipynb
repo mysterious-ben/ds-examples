{
 "cells": [
  {
   "cell_type": "markdown",
   "metadata": {},
   "source": [
    "# Prefect Hello World"
   ]
  },
  {
   "cell_type": "code",
   "execution_count": 1,
   "metadata": {},
   "outputs": [
    {
     "name": "stdout",
     "output_type": "stream",
     "text": [
      "Prefect checkpoints ON: True\n"
     ]
    }
   ],
   "source": [
    "import os\n",
    "os.environ['PREFECT__FLOWS__CHECKPOINTING'] = 'true'\n",
    "\n",
    "import prefect\n",
    "from prefect import task, Task, Flow, Parameter\n",
    "from prefect.engine.results import LocalResult\n",
    "from prefect.engine.executors import DaskExecutor\n",
    "from dask.distributed import Client\n",
    "from loguru import logger\n",
    "import datetime as dt\n",
    "from time import sleep\n",
    "\n",
    "print('Prefect checkpoints ON:', prefect.config.flows.checkpointing)"
   ]
  },
  {
   "cell_type": "markdown",
   "metadata": {},
   "source": [
    "## Basic flow"
   ]
  },
  {
   "cell_type": "code",
   "execution_count": 2,
   "metadata": {},
   "outputs": [
    {
     "name": "stdout",
     "output_type": "stream",
     "text": [
      "[2020-10-06 10:49:55] INFO - prefect.FlowRunner | Beginning Flow run for 'big_flow'\n",
      "[2020-10-06 10:49:55] INFO - prefect.TaskRunner | Task 't1': Starting task run...\n"
     ]
    },
    {
     "name": "stderr",
     "output_type": "stream",
     "text": [
      "2020-10-06 17:49:55.133 | INFO     | __main__:t1:3 - t1 input: -\n"
     ]
    },
    {
     "name": "stdout",
     "output_type": "stream",
     "text": [
      "[2020-10-06 10:49:55] INFO - prefect.TaskRunner | Task 't1': finished task run for task with final state: 'Success'\n",
      "[2020-10-06 10:49:55] INFO - prefect.TaskRunner | Task 't2': Starting task run...\n"
     ]
    },
    {
     "name": "stderr",
     "output_type": "stream",
     "text": [
      "2020-10-06 17:49:55.167 | INFO     | __main__:t2:8 - t2 input: 2.0\n"
     ]
    },
    {
     "name": "stdout",
     "output_type": "stream",
     "text": [
      "[2020-10-06 10:49:55] INFO - prefect.TaskRunner | Task 't2': finished task run for task with final state: 'Success'\n",
      "[2020-10-06 10:49:55] INFO - prefect.TaskRunner | Task 't3': Starting task run...\n"
     ]
    },
    {
     "name": "stderr",
     "output_type": "stream",
     "text": [
      "2020-10-06 17:49:55.204 | INFO     | __main__:t3:13 - t3 input: 3.0\n"
     ]
    },
    {
     "name": "stdout",
     "output_type": "stream",
     "text": [
      "[2020-10-06 10:49:55] INFO - prefect.TaskRunner | Task 't3': finished task run for task with final state: 'Success'\n",
      "[2020-10-06 10:49:55] INFO - prefect.TaskRunner | Task 't4': Starting task run...\n"
     ]
    },
    {
     "name": "stderr",
     "output_type": "stream",
     "text": [
      "2020-10-06 17:49:55.238 | INFO     | __main__:t4:18 - t3 input: 3.0 4.5\n"
     ]
    },
    {
     "name": "stdout",
     "output_type": "stream",
     "text": [
      "[2020-10-06 10:49:55] INFO - prefect.TaskRunner | Task 't4': finished task run for task with final state: 'Success'\n",
      "[2020-10-06 10:49:55] INFO - prefect.FlowRunner | Flow run SUCCESS: all reference tasks succeeded\n",
      "Output:  7.5\n"
     ]
    }
   ],
   "source": [
    "@task\n",
    "def t1():\n",
    "    logger.info('t1 input: -')\n",
    "    return 2.\n",
    "\n",
    "@task\n",
    "def t2(x):\n",
    "    logger.info('t2 input: {}'.format(x))\n",
    "    return x+1.\n",
    "\n",
    "@task\n",
    "def t3(x):\n",
    "    logger.info('t3 input: {}'.format(x))\n",
    "    return x+1.5\n",
    "\n",
    "@task \n",
    "def t4(x, y):\n",
    "    logger.info('t3 input: {} {}'.format(x, y))\n",
    "    return x+y\n",
    "\n",
    "with Flow('big_flow') as flow:\n",
    "    r1 = t1()\n",
    "    r2 = t2(r1)\n",
    "    r3 = t3(r2)\n",
    "    r4 = t4(r2, r3)\n",
    "\n",
    "state = flow.run()\n",
    "print('Output: ', state.result[r4].result)"
   ]
  },
  {
   "cell_type": "markdown",
   "metadata": {},
   "source": [
    "## Extending an existing flow"
   ]
  },
  {
   "cell_type": "code",
   "execution_count": 3,
   "metadata": {},
   "outputs": [
    {
     "name": "stdout",
     "output_type": "stream",
     "text": [
      "[2020-10-06 10:49:55] INFO - prefect.FlowRunner | Beginning Flow run for 'small_flow'\n",
      "[2020-10-06 10:49:55] INFO - prefect.TaskRunner | Task 't1': Starting task run...\n"
     ]
    },
    {
     "name": "stderr",
     "output_type": "stream",
     "text": [
      "2020-10-06 17:49:55.298 | INFO     | __main__:t1:3 - t1 input: -\n"
     ]
    },
    {
     "name": "stdout",
     "output_type": "stream",
     "text": [
      "[2020-10-06 10:49:55] INFO - prefect.TaskRunner | Task 't1': finished task run for task with final state: 'Success'\n",
      "[2020-10-06 10:49:55] INFO - prefect.TaskRunner | Task 't2': Starting task run...\n"
     ]
    },
    {
     "name": "stderr",
     "output_type": "stream",
     "text": [
      "2020-10-06 17:49:55.331 | INFO     | __main__:t2:8 - t2 input: 2.0\n"
     ]
    },
    {
     "name": "stdout",
     "output_type": "stream",
     "text": [
      "[2020-10-06 10:49:55] INFO - prefect.TaskRunner | Task 't2': finished task run for task with final state: 'Success'\n",
      "[2020-10-06 10:49:55] INFO - prefect.FlowRunner | Flow run SUCCESS: all reference tasks succeeded\n",
      "Output:  3.0\n",
      "\n",
      "[2020-10-06 10:49:55] INFO - prefect.FlowRunner | Beginning Flow run for 'extended_flow'\n",
      "[2020-10-06 10:49:55] INFO - prefect.TaskRunner | Task 't1': Starting task run...\n"
     ]
    },
    {
     "name": "stderr",
     "output_type": "stream",
     "text": [
      "2020-10-06 17:49:55.375 | INFO     | __main__:t1:3 - t1 input: -\n"
     ]
    },
    {
     "name": "stdout",
     "output_type": "stream",
     "text": [
      "[2020-10-06 10:49:55] INFO - prefect.TaskRunner | Task 't1': finished task run for task with final state: 'Success'\n",
      "[2020-10-06 10:49:55] INFO - prefect.TaskRunner | Task 't2': Starting task run...\n"
     ]
    },
    {
     "name": "stderr",
     "output_type": "stream",
     "text": [
      "2020-10-06 17:49:55.414 | INFO     | __main__:t2:8 - t2 input: 2.0\n"
     ]
    },
    {
     "name": "stdout",
     "output_type": "stream",
     "text": [
      "[2020-10-06 10:49:55] INFO - prefect.TaskRunner | Task 't2': finished task run for task with final state: 'Success'\n",
      "[2020-10-06 10:49:55] INFO - prefect.TaskRunner | Task 't3': Starting task run...\n"
     ]
    },
    {
     "name": "stderr",
     "output_type": "stream",
     "text": [
      "2020-10-06 17:49:55.453 | INFO     | __main__:t3:13 - t3 input: 3.0\n"
     ]
    },
    {
     "name": "stdout",
     "output_type": "stream",
     "text": [
      "[2020-10-06 10:49:55] INFO - prefect.TaskRunner | Task 't3': finished task run for task with final state: 'Success'\n",
      "[2020-10-06 10:49:55] INFO - prefect.TaskRunner | Task 't4': Starting task run...\n"
     ]
    },
    {
     "name": "stderr",
     "output_type": "stream",
     "text": [
      "2020-10-06 17:49:55.488 | INFO     | __main__:t4:18 - t3 input: 3.0 4.5\n"
     ]
    },
    {
     "name": "stdout",
     "output_type": "stream",
     "text": [
      "[2020-10-06 10:49:55] INFO - prefect.TaskRunner | Task 't4': finished task run for task with final state: 'Success'\n",
      "[2020-10-06 10:49:55] INFO - prefect.FlowRunner | Flow run SUCCESS: all reference tasks succeeded\n",
      "Output:  7.5\n"
     ]
    }
   ],
   "source": [
    "with Flow('small_flow') as flow1:\n",
    "    r1 = t1()\n",
    "    r2 = t2(r1)\n",
    "\n",
    "with flow1.copy() as flow2:\n",
    "    flow2.name = 'extended_flow'\n",
    "    r3 = t3(r2)\n",
    "    r4 = t4(r2, r3)\n",
    "\n",
    "state = flow1.run()\n",
    "print('Output: ', state.result[r2].result)\n",
    "\n",
    "print()\n",
    "state = flow2.run()\n",
    "print('Output: ', state.result[r4].result)"
   ]
  },
  {
   "cell_type": "code",
   "execution_count": 4,
   "metadata": {},
   "outputs": [
    {
     "name": "stdout",
     "output_type": "stream",
     "text": [
      "[2020-10-06 10:49:55] INFO - prefect.FlowRunner | Beginning Flow run for 'small_flow'\n",
      "[2020-10-06 10:49:55] INFO - prefect.TaskRunner | Task 't1': Starting task run...\n"
     ]
    },
    {
     "name": "stderr",
     "output_type": "stream",
     "text": [
      "2020-10-06 17:49:55.550 | INFO     | __main__:t1:3 - t1 input: -\n"
     ]
    },
    {
     "name": "stdout",
     "output_type": "stream",
     "text": [
      "[2020-10-06 10:49:55] INFO - prefect.TaskRunner | Task 't1': finished task run for task with final state: 'Success'\n",
      "[2020-10-06 10:49:55] INFO - prefect.TaskRunner | Task 't2': Starting task run...\n"
     ]
    },
    {
     "name": "stderr",
     "output_type": "stream",
     "text": [
      "2020-10-06 17:49:55.591 | INFO     | __main__:t2:8 - t2 input: 2.0\n"
     ]
    },
    {
     "name": "stdout",
     "output_type": "stream",
     "text": [
      "[2020-10-06 10:49:55] INFO - prefect.TaskRunner | Task 't2': finished task run for task with final state: 'Success'\n",
      "[2020-10-06 10:49:55] INFO - prefect.FlowRunner | Flow run SUCCESS: all reference tasks succeeded\n",
      "Output:  3.0\n",
      "\n",
      "[2020-10-06 10:49:55] INFO - prefect.FlowRunner | Beginning Flow run for 'extended_flow'\n",
      "[2020-10-06 10:49:55] INFO - prefect.TaskRunner | Task 't1': Starting task run...\n"
     ]
    },
    {
     "name": "stderr",
     "output_type": "stream",
     "text": [
      "2020-10-06 17:49:55.643 | INFO     | __main__:t1:3 - t1 input: -\n"
     ]
    },
    {
     "name": "stdout",
     "output_type": "stream",
     "text": [
      "[2020-10-06 10:49:55] INFO - prefect.TaskRunner | Task 't1': finished task run for task with final state: 'Success'\n",
      "[2020-10-06 10:49:55] INFO - prefect.TaskRunner | Task 't2': Starting task run...\n"
     ]
    },
    {
     "name": "stderr",
     "output_type": "stream",
     "text": [
      "2020-10-06 17:49:55.687 | INFO     | __main__:t2:8 - t2 input: 2.0\n"
     ]
    },
    {
     "name": "stdout",
     "output_type": "stream",
     "text": [
      "[2020-10-06 10:49:55] INFO - prefect.TaskRunner | Task 't2': finished task run for task with final state: 'Success'\n",
      "[2020-10-06 10:49:55] INFO - prefect.TaskRunner | Task 't3': Starting task run...\n"
     ]
    },
    {
     "name": "stderr",
     "output_type": "stream",
     "text": [
      "2020-10-06 17:49:55.733 | INFO     | __main__:t3:13 - t3 input: 3.0\n"
     ]
    },
    {
     "name": "stdout",
     "output_type": "stream",
     "text": [
      "[2020-10-06 10:49:55] INFO - prefect.TaskRunner | Task 't3': finished task run for task with final state: 'Success'\n",
      "[2020-10-06 10:49:55] INFO - prefect.TaskRunner | Task 't4': Starting task run...\n"
     ]
    },
    {
     "name": "stderr",
     "output_type": "stream",
     "text": [
      "2020-10-06 17:49:55.780 | INFO     | __main__:t4:18 - t3 input: 3.0 4.5\n"
     ]
    },
    {
     "name": "stdout",
     "output_type": "stream",
     "text": [
      "[2020-10-06 10:49:55] INFO - prefect.TaskRunner | Task 't4': finished task run for task with final state: 'Success'\n",
      "[2020-10-06 10:49:55] INFO - prefect.FlowRunner | Flow run SUCCESS: all reference tasks succeeded\n",
      "Output:  7.5\n"
     ]
    }
   ],
   "source": [
    "with Flow('small_flow') as flow1:\n",
    "    r1 = t1()\n",
    "    r2 = t2(r1)\n",
    "\n",
    "with Flow('extended_flow') as flow2:\n",
    "    flow2.update(flow1)\n",
    "    r3 = t3(r2)\n",
    "    r4 = t4(r2, r3)\n",
    "\n",
    "state = flow1.run()\n",
    "print('Output: ', state.result[r2].result)\n",
    "\n",
    "print()\n",
    "state = flow2.run()\n",
    "print('Output: ', state.result[r4].result)"
   ]
  },
  {
   "cell_type": "markdown",
   "metadata": {},
   "source": [
    "## Parametrized flow"
   ]
  },
  {
   "cell_type": "code",
   "execution_count": 5,
   "metadata": {},
   "outputs": [
    {
     "name": "stdout",
     "output_type": "stream",
     "text": [
      "[2020-10-06 10:49:55] INFO - prefect.FlowRunner | Beginning Flow run for 'param_flow'\n",
      "[2020-10-06 10:49:55] INFO - prefect.TaskRunner | Task 't1': Starting task run...\n"
     ]
    },
    {
     "name": "stderr",
     "output_type": "stream",
     "text": [
      "2020-10-06 17:49:55.837 | INFO     | __main__:t1:3 - t1 input: -\n"
     ]
    },
    {
     "name": "stdout",
     "output_type": "stream",
     "text": [
      "[2020-10-06 10:49:55] INFO - prefect.TaskRunner | Task 't1': finished task run for task with final state: 'Success'\n",
      "[2020-10-06 10:49:55] INFO - prefect.TaskRunner | Task 't2': Starting task run...\n"
     ]
    },
    {
     "name": "stderr",
     "output_type": "stream",
     "text": [
      "2020-10-06 17:49:55.874 | INFO     | __main__:t2:8 - t2 input: 2.0\n"
     ]
    },
    {
     "name": "stdout",
     "output_type": "stream",
     "text": [
      "[2020-10-06 10:49:55] INFO - prefect.TaskRunner | Task 't2': finished task run for task with final state: 'Success'\n",
      "[2020-10-06 10:49:55] INFO - prefect.TaskRunner | Task 'y': Starting task run...\n",
      "[2020-10-06 10:49:55] INFO - prefect.TaskRunner | Task 'y': finished task run for task with final state: 'Success'\n",
      "[2020-10-06 10:49:55] INFO - prefect.TaskRunner | Task 'scaling': Starting task run...\n",
      "[2020-10-06 10:49:55] INFO - prefect.TaskRunner | Task 'scaling': finished task run for task with final state: 'Success'\n",
      "[2020-10-06 10:49:55] INFO - prefect.TaskRunner | Task 't4': Starting task run...\n"
     ]
    },
    {
     "name": "stderr",
     "output_type": "stream",
     "text": [
      "2020-10-06 17:49:55.998 | INFO     | __main__:t4:18 - t3 input: 3.0 4.5\n"
     ]
    },
    {
     "name": "stdout",
     "output_type": "stream",
     "text": [
      "[2020-10-06 10:49:56] INFO - prefect.TaskRunner | Task 't4': finished task run for task with final state: 'Success'\n",
      "[2020-10-06 10:49:56] INFO - prefect.TaskRunner | Task 'Mul': Starting task run...\n",
      "[2020-10-06 10:49:56] INFO - prefect.TaskRunner | Task 'Mul': finished task run for task with final state: 'Success'\n",
      "[2020-10-06 10:49:56] INFO - prefect.FlowRunner | Flow run SUCCESS: all reference tasks succeeded\n",
      "Output:  7.5\n",
      "\n",
      "[2020-10-06 10:49:56] INFO - prefect.FlowRunner | Beginning Flow run for 'param_flow'\n",
      "[2020-10-06 10:49:56] INFO - prefect.TaskRunner | Task 't1': Starting task run...\n"
     ]
    },
    {
     "name": "stderr",
     "output_type": "stream",
     "text": [
      "2020-10-06 17:49:56.080 | INFO     | __main__:t1:3 - t1 input: -\n"
     ]
    },
    {
     "name": "stdout",
     "output_type": "stream",
     "text": [
      "[2020-10-06 10:49:56] INFO - prefect.TaskRunner | Task 't1': finished task run for task with final state: 'Success'\n",
      "[2020-10-06 10:49:56] INFO - prefect.TaskRunner | Task 't2': Starting task run...\n"
     ]
    },
    {
     "name": "stderr",
     "output_type": "stream",
     "text": [
      "2020-10-06 17:49:56.119 | INFO     | __main__:t2:8 - t2 input: 2.0\n"
     ]
    },
    {
     "name": "stdout",
     "output_type": "stream",
     "text": [
      "[2020-10-06 10:49:56] INFO - prefect.TaskRunner | Task 't2': finished task run for task with final state: 'Success'\n",
      "[2020-10-06 10:49:56] INFO - prefect.TaskRunner | Task 'y': Starting task run...\n",
      "[2020-10-06 10:49:56] INFO - prefect.TaskRunner | Task 'y': finished task run for task with final state: 'Success'\n",
      "[2020-10-06 10:49:56] INFO - prefect.TaskRunner | Task 'scaling': Starting task run...\n",
      "[2020-10-06 10:49:56] INFO - prefect.TaskRunner | Task 'scaling': finished task run for task with final state: 'Success'\n",
      "[2020-10-06 10:49:56] INFO - prefect.TaskRunner | Task 't4': Starting task run...\n"
     ]
    },
    {
     "name": "stderr",
     "output_type": "stream",
     "text": [
      "2020-10-06 17:49:56.226 | INFO     | __main__:t4:18 - t3 input: 3.0 4.5\n"
     ]
    },
    {
     "name": "stdout",
     "output_type": "stream",
     "text": [
      "[2020-10-06 10:49:56] INFO - prefect.TaskRunner | Task 't4': finished task run for task with final state: 'Success'\n",
      "[2020-10-06 10:49:56] INFO - prefect.TaskRunner | Task 'Mul': Starting task run...\n",
      "[2020-10-06 10:49:56] INFO - prefect.TaskRunner | Task 'Mul': finished task run for task with final state: 'Success'\n",
      "[2020-10-06 10:49:56] INFO - prefect.FlowRunner | Flow run SUCCESS: all reference tasks succeeded\n",
      "Output:  15.0\n"
     ]
    }
   ],
   "source": [
    "with Flow('param_flow') as flow:\n",
    "    y = Parameter('y')\n",
    "    scaling = Parameter('scaling', 1.)\n",
    "    r1 = t1()\n",
    "    r2 = t2(r1)\n",
    "    r4 = scaling*t4(r2, y)\n",
    "\n",
    "    \n",
    "state = flow.run(dict(y=4.5))\n",
    "print('Output: ', state.result[r4].result)\n",
    "print()\n",
    "state = flow.run(dict(y=4.5, scaling=2.))\n",
    "print('Output: ', state.result[r4].result)"
   ]
  },
  {
   "cell_type": "markdown",
   "metadata": {},
   "source": [
    "## Cached flow"
   ]
  },
  {
   "cell_type": "code",
   "execution_count": 6,
   "metadata": {},
   "outputs": [
    {
     "name": "stdout",
     "output_type": "stream",
     "text": [
      "[2020-10-06 10:49:56] INFO - prefect.FlowRunner | Beginning Flow run for 'cached_flow'\n",
      "[2020-10-06 10:49:56] INFO - prefect.TaskRunner | Task 't1': Starting task run...\n",
      "[2020-10-06 10:49:56] WARNING - prefect.TaskRunner | Task 't1': can't use cache because it is now invalid\n"
     ]
    },
    {
     "name": "stderr",
     "output_type": "stream",
     "text": [
      "2020-10-06 17:49:58.316 | INFO     | __main__:t1:4 - t1++ input: -\n"
     ]
    },
    {
     "name": "stdout",
     "output_type": "stream",
     "text": [
      "[2020-10-06 10:49:58] INFO - prefect.TaskRunner | Task 't1': finished task run for task with final state: 'Cached'\n",
      "[2020-10-06 10:49:58] INFO - prefect.TaskRunner | Task 't2': Starting task run...\n",
      "[2020-10-06 10:49:58] WARNING - prefect.TaskRunner | Task 't2': can't use cache because it is now invalid\n"
     ]
    },
    {
     "name": "stderr",
     "output_type": "stream",
     "text": [
      "2020-10-06 17:50:00.356 | INFO     | __main__:t2:10 - t2++ input: 2.0\n"
     ]
    },
    {
     "name": "stdout",
     "output_type": "stream",
     "text": [
      "[2020-10-06 10:50:00] INFO - prefect.TaskRunner | Task 't2': finished task run for task with final state: 'Cached'\n",
      "[2020-10-06 10:50:00] INFO - prefect.FlowRunner | Flow run SUCCESS: all reference tasks succeeded\n",
      "Output:  3.0\n",
      "\n",
      "[2020-10-06 10:50:00] INFO - prefect.FlowRunner | Beginning Flow run for 'cached_flow'\n",
      "[2020-10-06 10:50:00] INFO - prefect.TaskRunner | Task 't1': Starting task run...\n",
      "[2020-10-06 10:50:00] INFO - prefect.TaskRunner | Task 't1': finished task run for task with final state: 'Cached'\n",
      "[2020-10-06 10:50:00] INFO - prefect.TaskRunner | Task 't2': Starting task run...\n",
      "[2020-10-06 10:50:00] INFO - prefect.TaskRunner | Task 't2': finished task run for task with final state: 'Cached'\n",
      "[2020-10-06 10:50:00] INFO - prefect.FlowRunner | Flow run SUCCESS: all reference tasks succeeded\n",
      "Output:  3.0\n"
     ]
    }
   ],
   "source": [
    "@task(cache_for=dt.timedelta(hours=1))\n",
    "def t1():\n",
    "    sleep(2)\n",
    "    logger.info('t1++ input: -')\n",
    "    return 2.\n",
    "\n",
    "@task(cache_for=dt.timedelta(hours=1))\n",
    "def t2(x):\n",
    "    sleep(2)\n",
    "    logger.info('t2++ input: {}'.format(x))\n",
    "    return x+1.\n",
    "\n",
    "\n",
    "with Flow('cached_flow') as flow:\n",
    "    r1 = t1()\n",
    "    r2 = t2(r1)\n",
    "\n",
    "state = flow.run()\n",
    "print('Output: ', state.result[r2].result)\n",
    "\n",
    "print()\n",
    "state = flow.run()\n",
    "print('Output: ', state.result[r2].result)"
   ]
  },
  {
   "cell_type": "code",
   "execution_count": 7,
   "metadata": {},
   "outputs": [
    {
     "name": "stdout",
     "output_type": "stream",
     "text": [
      "[2020-10-06 10:50:00] INFO - prefect.FlowRunner | Beginning Flow run for 'persisted_flow'\n",
      "[2020-10-06 10:50:00] INFO - prefect.TaskRunner | Task 't1': Starting task run...\n"
     ]
    },
    {
     "name": "stderr",
     "output_type": "stream",
     "text": [
      "2020-10-06 17:50:02.513 | INFO     | __main__:t1:4 - t1++ input: -\n"
     ]
    },
    {
     "name": "stdout",
     "output_type": "stream",
     "text": [
      "[2020-10-06 10:50:02] INFO - prefect.TaskRunner | Task 't1': finished task run for task with final state: 'Success'\n",
      "[2020-10-06 10:50:02] INFO - prefect.TaskRunner | Task 't2': Starting task run...\n"
     ]
    },
    {
     "name": "stderr",
     "output_type": "stream",
     "text": [
      "2020-10-06 17:50:04.561 | INFO     | __main__:t2:10 - t2++ input: 2.0\n"
     ]
    },
    {
     "name": "stdout",
     "output_type": "stream",
     "text": [
      "[2020-10-06 10:50:04] INFO - prefect.TaskRunner | Task 't2': finished task run for task with final state: 'Success'\n",
      "[2020-10-06 10:50:04] INFO - prefect.FlowRunner | Flow run SUCCESS: all reference tasks succeeded\n",
      "Output:  3.0\n",
      "\n",
      "[2020-10-06 10:50:04] INFO - prefect.FlowRunner | Beginning Flow run for 'persisted_flow'\n",
      "[2020-10-06 10:50:04] INFO - prefect.TaskRunner | Task 't1': Starting task run...\n",
      "[2020-10-06 10:50:04] INFO - prefect.TaskRunner | Task 't1': finished task run for task with final state: 'Cached'\n",
      "[2020-10-06 10:50:04] INFO - prefect.TaskRunner | Task 't2': Starting task run...\n",
      "[2020-10-06 10:50:04] INFO - prefect.TaskRunner | Task 't2': finished task run for task with final state: 'Cached'\n",
      "[2020-10-06 10:50:04] INFO - prefect.FlowRunner | Flow run SUCCESS: all reference tasks succeeded\n",
      "Output:  3.0\n"
     ]
    }
   ],
   "source": [
    "@task(checkpoint=True, result=LocalResult(dir='cache'), target=\"{flow_name}_{task_name}\")\n",
    "def t1():\n",
    "    sleep(2)\n",
    "    logger.info('t1++ input: -')\n",
    "    return 2.\n",
    "\n",
    "@task(checkpoint=True, result=LocalResult(dir='cache'), target=\"{flow_name}_{task_name}\")\n",
    "def t2(x):\n",
    "    sleep(2)\n",
    "    logger.info('t2++ input: {}'.format(x))\n",
    "    return x+1.\n",
    "\n",
    "\n",
    "with Flow('persisted_flow') as flow:\n",
    "    r1 = t1()\n",
    "    r2 = t2(r1)\n",
    "\n",
    "state = flow.run()\n",
    "print('Output: ', state.result[r2].result)\n",
    "\n",
    "print()\n",
    "state = flow.run()\n",
    "print('Output: ', state.result[r2].result)"
   ]
  },
  {
   "cell_type": "code",
   "execution_count": 8,
   "metadata": {},
   "outputs": [
    {
     "name": "stdout",
     "output_type": "stream",
     "text": [
      "[2020-10-06 10:50:04] INFO - prefect.FlowRunner | Beginning Flow run for 'parametrized_persisted_flow'\n",
      "[2020-10-06 10:50:04] INFO - prefect.TaskRunner | Task 't1': Starting task run...\n"
     ]
    },
    {
     "name": "stderr",
     "output_type": "stream",
     "text": [
      "2020-10-06 17:50:06.779 | INFO     | __main__:t1:4 - t1++ input: -\n"
     ]
    },
    {
     "name": "stdout",
     "output_type": "stream",
     "text": [
      "[2020-10-06 10:50:06] INFO - prefect.TaskRunner | Task 't1': finished task run for task with final state: 'Success'\n",
      "[2020-10-06 10:50:06] INFO - prefect.TaskRunner | Task 'y': Starting task run...\n",
      "[2020-10-06 10:50:06] INFO - prefect.TaskRunner | Task 'y': finished task run for task with final state: 'Success'\n",
      "[2020-10-06 10:50:06] INFO - prefect.TaskRunner | Task 't2': Starting task run...\n"
     ]
    },
    {
     "name": "stderr",
     "output_type": "stream",
     "text": [
      "2020-10-06 17:50:08.856 | INFO     | __main__:t2:10 - t2++ input: 2.0\n"
     ]
    },
    {
     "name": "stdout",
     "output_type": "stream",
     "text": [
      "[2020-10-06 10:50:08] INFO - prefect.TaskRunner | Task 't2': finished task run for task with final state: 'Success'\n",
      "[2020-10-06 10:50:08] INFO - prefect.FlowRunner | Flow run SUCCESS: all reference tasks succeeded\n",
      "Output:  3.0\n",
      "\n",
      "[2020-10-06 10:50:08] INFO - prefect.FlowRunner | Beginning Flow run for 'parametrized_persisted_flow'\n",
      "[2020-10-06 10:50:08] INFO - prefect.TaskRunner | Task 't1': Starting task run...\n",
      "[2020-10-06 10:50:08] INFO - prefect.TaskRunner | Task 't1': finished task run for task with final state: 'Cached'\n",
      "[2020-10-06 10:50:08] INFO - prefect.TaskRunner | Task 'y': Starting task run...\n",
      "[2020-10-06 10:50:08] INFO - prefect.TaskRunner | Task 'y': finished task run for task with final state: 'Success'\n",
      "[2020-10-06 10:50:08] INFO - prefect.TaskRunner | Task 't2': Starting task run...\n",
      "[2020-10-06 10:50:08] INFO - prefect.TaskRunner | Task 't2': finished task run for task with final state: 'Cached'\n",
      "[2020-10-06 10:50:08] INFO - prefect.FlowRunner | Flow run SUCCESS: all reference tasks succeeded\n",
      "Output:  3.0\n",
      "\n",
      "[2020-10-06 10:50:08] INFO - prefect.FlowRunner | Beginning Flow run for 'parametrized_persisted_flow'\n",
      "[2020-10-06 10:50:09] INFO - prefect.TaskRunner | Task 't1': Starting task run...\n"
     ]
    },
    {
     "name": "stderr",
     "output_type": "stream",
     "text": [
      "2020-10-06 17:50:11.016 | INFO     | __main__:t1:4 - t1++ input: -\n"
     ]
    },
    {
     "name": "stdout",
     "output_type": "stream",
     "text": [
      "[2020-10-06 10:50:11] INFO - prefect.TaskRunner | Task 't1': finished task run for task with final state: 'Success'\n",
      "[2020-10-06 10:50:11] INFO - prefect.TaskRunner | Task 'y': Starting task run...\n",
      "[2020-10-06 10:50:11] INFO - prefect.TaskRunner | Task 'y': finished task run for task with final state: 'Success'\n",
      "[2020-10-06 10:50:11] INFO - prefect.TaskRunner | Task 't2': Starting task run...\n"
     ]
    },
    {
     "name": "stderr",
     "output_type": "stream",
     "text": [
      "2020-10-06 17:50:13.128 | INFO     | __main__:t2:10 - t2++ input: 2.0\n"
     ]
    },
    {
     "name": "stdout",
     "output_type": "stream",
     "text": [
      "[2020-10-06 10:50:13] INFO - prefect.TaskRunner | Task 't2': finished task run for task with final state: 'Success'\n",
      "[2020-10-06 10:50:13] INFO - prefect.FlowRunner | Flow run SUCCESS: all reference tasks succeeded\n",
      "Output:  4.0\n"
     ]
    }
   ],
   "source": [
    "@task(checkpoint=True, result=LocalResult(dir='cache'), target=\"{flow_name}_{task_name}_{parameters}\")\n",
    "def t1():\n",
    "    sleep(2)\n",
    "    logger.info('t1++ input: -')\n",
    "    return 2.\n",
    "\n",
    "@task(checkpoint=True, result=LocalResult(dir='cache'), target=\"{flow_name}_{task_name}_{parameters}\")\n",
    "def t2(x, y):\n",
    "    sleep(2)\n",
    "    logger.info('t2++ input: {}'.format(x))\n",
    "    return x+y\n",
    "\n",
    "\n",
    "with Flow('parametrized_persisted_flow') as flow:\n",
    "    y = Parameter('y')\n",
    "    r1 = t1()\n",
    "    r2 = t2(r1, y)\n",
    "\n",
    "state = flow.run(dict(y=1.))\n",
    "print('Output: ', state.result[r2].result)\n",
    "\n",
    "print()\n",
    "state = flow.run(dict(y=1.))\n",
    "print('Output: ', state.result[r2].result)\n",
    "\n",
    "print()\n",
    "state = flow.run(dict(y=2.))\n",
    "print('Output: ', state.result[r2].result)"
   ]
  },
  {
   "cell_type": "markdown",
   "metadata": {},
   "source": [
    "## With Dask backend\n",
    "\n",
    "**Start dask scheduler and workers in the shell:**\n",
    "```bash\n",
    "$ dask-scheduler\n",
    "# start a task scheduler\n",
    ">>> Scheduler at:   tcp://192.0.0.100:8786\n",
    "\n",
    "# connect one or multiple workers (computational clusters)\n",
    "$ dask-worker tcp://192.0.0.100:8786\n",
    "```\n",
    "\n",
    "**Connect to the scheduler (Dask DataFrames):**\n",
    "```python\n",
    "from dask.distributed import Client\n",
    "# connect to the scheduler to compute Dask DataFrame\n",
    "client = Client('tcp://192.0.0.100:8786')\n",
    "```\n",
    "\n",
    "**Connect to the scheduler (Prefect):**\n",
    "```python\n",
    "from prefect.engine.executors import DaskExecutor\n",
    "executor = DaskExecutor(address=\"tcp://192.0.0.100:8786\")\n",
    "flow.run(executor=executor)\n",
    "```"
   ]
  },
  {
   "cell_type": "code",
   "execution_count": 9,
   "metadata": {},
   "outputs": [],
   "source": [
    "dask_server_loc = 'tcp://10.5.0.2:8786'"
   ]
  },
  {
   "cell_type": "code",
   "execution_count": 10,
   "metadata": {},
   "outputs": [
    {
     "data": {
      "text/html": [
       "<table style=\"border: 2px solid white;\">\n",
       "<tr>\n",
       "<td style=\"vertical-align: top; border: 0px solid white\">\n",
       "<h3 style=\"text-align: left;\">Client</h3>\n",
       "<ul style=\"text-align: left; list-style: none; margin: 0; padding: 0;\">\n",
       "  <li><b>Scheduler: </b>tcp://10.5.0.2:8786</li>\n",
       "  <li><b>Dashboard: </b><a href='http://10.5.0.2:8787/status' target='_blank'>http://10.5.0.2:8787/status</a></li>\n",
       "</ul>\n",
       "</td>\n",
       "<td style=\"vertical-align: top; border: 0px solid white\">\n",
       "<h3 style=\"text-align: left;\">Cluster</h3>\n",
       "<ul style=\"text-align: left; list-style:none; margin: 0; padding: 0;\">\n",
       "  <li><b>Workers: </b>1</li>\n",
       "  <li><b>Cores: </b>12</li>\n",
       "  <li><b>Memory: </b>67.15 GB</li>\n",
       "</ul>\n",
       "</td>\n",
       "</tr>\n",
       "</table>"
      ],
      "text/plain": [
       "<Client: 'tcp://10.5.0.2:8786' processes=1 threads=12, memory=67.15 GB>"
      ]
     },
     "execution_count": 10,
     "metadata": {},
     "output_type": "execute_result"
    }
   ],
   "source": [
    "client = Client(dask_server_loc)\n",
    "client"
   ]
  },
  {
   "cell_type": "code",
   "execution_count": 11,
   "metadata": {},
   "outputs": [
    {
     "name": "stdout",
     "output_type": "stream",
     "text": [
      "[2020-10-06 10:50:13] INFO - prefect.FlowRunner | Beginning Flow run for 'distritubuted_flow'\n",
      "[2020-10-06 10:50:13] INFO - prefect.FlowRunner | Flow run SUCCESS: all reference tasks succeeded\n",
      "Output:  3.0\n"
     ]
    }
   ],
   "source": [
    "executor = DaskExecutor(address=dask_server_loc)\n",
    "\n",
    "# Note: loguru logger can't be pickled\n",
    "# Note: prefect logger doesn't show in stdout with DaskExecutor \n",
    "@task(log_stdout=True)\n",
    "def t1():\n",
    "    _logger = prefect.context.get(\"logger\")\n",
    "    _logger.info('t1 input: -')\n",
    "    return 2.\n",
    "\n",
    "@task(log_stdout=True)\n",
    "def t2(x):\n",
    "    _logger = prefect.context.get(\"logger\")\n",
    "    _logger.info('t2 input: {}'.format(x))\n",
    "    return x+1.\n",
    "\n",
    "with Flow('distritubuted_flow') as flow:\n",
    "    r1 = t1()\n",
    "    r2 = t2(r1)\n",
    "\n",
    "state = flow.run(executor=executor)\n",
    "print('Output: ', state.result[r2].result)"
   ]
  },
  {
   "cell_type": "code",
   "execution_count": null,
   "metadata": {},
   "outputs": [],
   "source": []
  }
 ],
 "metadata": {
  "kernelspec": {
   "display_name": "Python 3",
   "language": "python",
   "name": "python3"
  },
  "language_info": {
   "codemirror_mode": {
    "name": "ipython",
    "version": 3
   },
   "file_extension": ".py",
   "mimetype": "text/x-python",
   "name": "python",
   "nbconvert_exporter": "python",
   "pygments_lexer": "ipython3",
   "version": "3.8.2"
  }
 },
 "nbformat": 4,
 "nbformat_minor": 4
}
