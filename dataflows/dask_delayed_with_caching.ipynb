{
 "cells": [
  {
   "cell_type": "markdown",
   "metadata": {},
   "source": [
    "# Examle: Dask Pipeline with Caching "
   ]
  },
  {
   "cell_type": "markdown",
   "metadata": {},
   "source": [
    "## Setup"
   ]
  },
  {
   "cell_type": "code",
   "execution_count": 1,
   "metadata": {},
   "outputs": [],
   "source": [
    "import pandas as pd\n",
    "import numpy as np\n",
    "import time\n",
    "import dask\n",
    "from dask import delayed\n",
    "from loguru import logger\n",
    "from dutil.pipeline import cached"
   ]
  },
  {
   "cell_type": "markdown",
   "metadata": {},
   "source": [
    "## Basic dataflow"
   ]
  },
  {
   "cell_type": "code",
   "execution_count": 2,
   "metadata": {},
   "outputs": [
    {
     "name": "stdout",
     "output_type": "stream",
     "text": [
      "--- First run: all computations are run and data is saved to cache ---\n"
     ]
    },
    {
     "name": "stderr",
     "output_type": "stream",
     "text": [
      "2020-10-29 17:40:39.302 | INFO     | __main__:load_2:14 - Loaded 2 records\n",
      "2020-10-29 17:40:39.304 | DEBUG    | dutil.pipeline._cached:dump:201 - Task load_2_2019-01-01 00:00:00.pickle: data has been saved to cache\n",
      "2020-10-29 17:40:39.305 | INFO     | __main__:load_1:6 - Loaded 2 records\n",
      "2020-10-29 17:40:39.305 | INFO     | dutil.pipeline._cached:new_foo:279 - Task load_2_2019-01-01 00:00:00.pickle: data has been computed and saved to cache\n",
      "2020-10-29 17:40:39.307 | DEBUG    | dutil.pipeline._cached:dump:201 - Task load_1.pickle: data has been saved to cache\n",
      "2020-10-29 17:40:39.308 | INFO     | dutil.pipeline._cached:new_foo:279 - Task load_1.pickle: data has been computed and saved to cache\n",
      "2020-10-29 17:40:39.310 | DEBUG    | dutil.pipeline._cached:get_hash:215 - Task load_1.pickle: hash has been computed from data\n",
      "2020-10-29 17:40:39.310 | DEBUG    | dutil.pipeline._cached:get_hash:215 - Task load_2_2019-01-01 00:00:00.pickle: hash has been computed from data\n",
      "2020-10-29 17:40:41.325 | INFO     | __main__:compute_1:23 - Difference is computed\n",
      "2020-10-29 17:40:41.328 | DEBUG    | dutil.pipeline._cached:dump:201 - Task compute_1_11093643941594257765_7914328111557193193_0.01.pickle: data has been saved to cache\n",
      "2020-10-29 17:40:41.331 | INFO     | dutil.pipeline._cached:new_foo:279 - Task compute_1_11093643941594257765_7914328111557193193_0.01.pickle: data has been computed and saved to cache\n"
     ]
    },
    {
     "name": "stdout",
     "output_type": "stream",
     "text": [
      "diff: 4.611\n",
      "CPU times: user 30.1 ms, sys: 14.7 ms, total: 44.8 ms\n",
      "Wall time: 4.04 s\n"
     ]
    }
   ],
   "source": [
    "%%time\n",
    "@delayed()\n",
    "@cached()\n",
    "def load_1():\n",
    "    time.sleep(2)\n",
    "    df = pd.DataFrame({'a': [1., 2.], 'b': [0.1, np.nan]})\n",
    "    logger.info('Loaded {} records'.format(len(df)))\n",
    "    df.app\n",
    "    return df\n",
    "\n",
    "@delayed()\n",
    "@cached(folder='cache')\n",
    "def load_2(timestamp):\n",
    "    time.sleep(2)\n",
    "    df = pd.DataFrame({'a': [0.9, 3.], 'b': [0.001, 1.]})\n",
    "    logger.info('Loaded {} records'.format(len(df)))\n",
    "    return df\n",
    "\n",
    "@delayed()\n",
    "@cached(folder='cache')\n",
    "def compute_1(x, y, eps):\n",
    "    time.sleep(2)\n",
    "    assert x.shape == y.shape\n",
    "    diff = ((x - y).abs() / (y.abs()+eps)).mean().mean()\n",
    "    logger.info('Difference is computed')\n",
    "    return diff\n",
    "\n",
    "@delayed()\n",
    "@cached(folder='cache')\n",
    "def compute_2(diff):\n",
    "    diff_perc = diff * 100.\n",
    "    logger.info('Relative difference is computed')\n",
    "    return diff_perc\n",
    "    \n",
    "ts = pd.Timestamp(2019, 1, 1)\n",
    "eps = 0.01\n",
    "s1 = load_1()\n",
    "s2 = load_2(ts)\n",
    "diff = compute_1(s1, s2, eps)\n",
    "diff_perc = compute_2(diff)\n",
    "\n",
    "print('--- First run: all computations are run and data is saved to cache ---')\n",
    "print('diff: {:.3f}'.format(diff.compute().load()))\n",
    "# print('diff perc: {:.3f}'.format(diff_perc.compute().load()))"
   ]
  },
  {
   "cell_type": "code",
   "execution_count": 3,
   "metadata": {},
   "outputs": [
    {
     "name": "stderr",
     "output_type": "stream",
     "text": [
      "2020-10-29 17:40:41.355 | INFO     | dutil.pipeline._cached:new_foo:268 - Task load_2_2019-01-01 00:00:00.pickle: skip (cache exists)\n",
      "2020-10-29 17:40:41.357 | INFO     | dutil.pipeline._cached:new_foo:268 - Task load_1.pickle: skip (cache exists)\n",
      "2020-10-29 17:40:41.363 | INFO     | dutil.pipeline._cached:new_foo:268 - Task compute_1_11093643941594257765_7914328111557193193_0.01.pickle: skip (cache exists)\n",
      "2020-10-29 17:40:41.366 | DEBUG    | dutil.pipeline._cached:load:193 - Task compute_1_11093643941594257765_7914328111557193193_0.01.pickle: data has been loaded from cache\n",
      "2020-10-29 17:40:41.371 | INFO     | dutil.pipeline._cached:new_foo:268 - Task load_2_2019-01-01 00:00:00.pickle: skip (cache exists)\n",
      "2020-10-29 17:40:41.371 | INFO     | dutil.pipeline._cached:new_foo:268 - Task load_1.pickle: skip (cache exists)\n",
      "2020-10-29 17:40:41.374 | INFO     | dutil.pipeline._cached:new_foo:268 - Task compute_1_11093643941594257765_7914328111557193193_0.01.pickle: skip (cache exists)\n",
      "2020-10-29 17:40:41.377 | DEBUG    | dutil.pipeline._cached:load:193 - Task compute_1_11093643941594257765_7914328111557193193_0.01.pickle: data has been loaded from cache\n",
      "2020-10-29 17:40:41.378 | INFO     | __main__:compute_2:30 - Relative difference is computed\n",
      "2020-10-29 17:40:41.379 | DEBUG    | dutil.pipeline._cached:dump:201 - Task compute_2_None.pickle: data has been saved to cache\n",
      "2020-10-29 17:40:41.380 | INFO     | dutil.pipeline._cached:new_foo:279 - Task compute_2_None.pickle: data has been computed and saved to cache\n"
     ]
    },
    {
     "name": "stdout",
     "output_type": "stream",
     "text": [
      "--- Second run: all data is loaded from cache ---\n",
      "diff: 4.611\n",
      "diff perc: 461.053\n",
      "CPU times: user 31.3 ms, sys: 13.1 ms, total: 44.4 ms\n",
      "Wall time: 31.5 ms\n"
     ]
    }
   ],
   "source": [
    "%%time\n",
    "print('--- Second run: all data is loaded from cache ---')\n",
    "print('diff: {:.3f}'.format(diff.compute().load()))\n",
    "print('diff perc: {:.3f}'.format(diff_perc.compute().load()))"
   ]
  },
  {
   "cell_type": "markdown",
   "metadata": {},
   "source": [
    "## Dataflow with parameters"
   ]
  },
  {
   "cell_type": "code",
   "execution_count": 4,
   "metadata": {},
   "outputs": [
    {
     "name": "stdout",
     "output_type": "stream",
     "text": [
      "--- First run: all computations are run and saved to cache ---\n"
     ]
    },
    {
     "name": "stderr",
     "output_type": "stream",
     "text": [
      "2020-10-29 17:40:43.399 | INFO     | __main__:load_1:8 - Loaded 2 records\n",
      "2020-10-29 17:40:43.403 | INFO     | __main__:load_2:16 - Loaded 2 records\n",
      "2020-10-29 17:40:43.414 | DEBUG    | dutil.pipeline._cached:dump:201 - Task load_1_ts2019-01-01 00:00:00_eps0.01.pickle: data has been saved to cache\n",
      "2020-10-29 17:40:43.415 | DEBUG    | dutil.pipeline._cached:dump:201 - Task load_2_ts2019-01-01 00:00:00_eps0.01.pickle: data has been saved to cache\n",
      "2020-10-29 17:40:43.419 | INFO     | dutil.pipeline._cached:new_foo:279 - Task load_2_ts2019-01-01 00:00:00_eps0.01.pickle: data has been computed and saved to cache\n",
      "2020-10-29 17:40:43.424 | INFO     | dutil.pipeline._cached:new_foo:279 - Task load_1_ts2019-01-01 00:00:00_eps0.01.pickle: data has been computed and saved to cache\n",
      "2020-10-29 17:40:45.433 | INFO     | __main__:compute_1:25 - Difference is computed\n",
      "2020-10-29 17:40:45.434 | DEBUG    | dutil.pipeline._cached:dump:201 - Task compute_1_ts2019-01-01 00:00:00_eps0.01.pickle: data has been saved to cache\n",
      "2020-10-29 17:40:45.435 | INFO     | dutil.pipeline._cached:new_foo:279 - Task compute_1_ts2019-01-01 00:00:00_eps0.01.pickle: data has been computed and saved to cache\n",
      "2020-10-29 17:40:45.438 | INFO     | dutil.pipeline._cached:new_foo:268 - Task load_1_ts2019-01-01 00:00:00_eps0.01.pickle: skip (cache exists)\n",
      "2020-10-29 17:40:45.439 | INFO     | dutil.pipeline._cached:new_foo:268 - Task load_2_ts2019-01-01 00:00:00_eps0.01.pickle: skip (cache exists)\n",
      "2020-10-29 17:40:45.440 | INFO     | dutil.pipeline._cached:new_foo:268 - Task compute_1_ts2019-01-01 00:00:00_eps0.01.pickle: skip (cache exists)\n",
      "2020-10-29 17:40:45.441 | DEBUG    | dutil.pipeline._cached:load:193 - Task compute_1_ts2019-01-01 00:00:00_eps0.01.pickle: data has been loaded from cache\n",
      "2020-10-29 17:40:45.442 | INFO     | __main__:compute_2:32 - Relative difference is computed\n",
      "2020-10-29 17:40:45.443 | DEBUG    | dutil.pipeline._cached:dump:201 - Task compute_2_ts2019-01-01 00:00:00_eps0.01.pickle: data has been saved to cache\n",
      "2020-10-29 17:40:45.444 | INFO     | dutil.pipeline._cached:new_foo:279 - Task compute_2_ts2019-01-01 00:00:00_eps0.01.pickle: data has been computed and saved to cache\n"
     ]
    },
    {
     "name": "stdout",
     "output_type": "stream",
     "text": [
      "diff: 4.611\n",
      "diff perc: 461.053\n"
     ]
    }
   ],
   "source": [
    "params = dict(ts=None, eps=None)\n",
    "\n",
    "@delayed()\n",
    "@cached(parameters=params)\n",
    "def load_1():\n",
    "    time.sleep(2)\n",
    "    df = pd.DataFrame({'a': [1., 2.], 'b': [0.1, np.nan]})\n",
    "    logger.info('Loaded {} records'.format(len(df)))\n",
    "    return df\n",
    "\n",
    "@delayed()\n",
    "@cached(parameters=params)\n",
    "def load_2(timestamp):\n",
    "    time.sleep(2)\n",
    "    df = pd.DataFrame({'a': [0.9, 3.], 'b': [0.001, 1.]})\n",
    "    logger.info('Loaded {} records'.format(len(df)))\n",
    "    return df\n",
    "\n",
    "@delayed()\n",
    "@cached(parameters=params)\n",
    "def compute_1(x, y, eps):\n",
    "    time.sleep(2)\n",
    "    assert x.shape == y.shape\n",
    "    diff = ((x - y).abs() / (y.abs()+eps)).mean().mean()\n",
    "    logger.info('Difference is computed')\n",
    "    return diff\n",
    "\n",
    "@delayed()\n",
    "@cached(parameters=params)\n",
    "def compute_2(diff):\n",
    "    diff_perc = diff * 100.\n",
    "    logger.info('Relative difference is computed')\n",
    "    return diff_perc\n",
    "\n",
    "print('--- First run: all computations are run and saved to cache ---')\n",
    "\n",
    "ts = delayed(lambda: params['ts'])()\n",
    "eps = delayed(lambda: params['eps'])()\n",
    "s1 = load_1()\n",
    "s2 = load_2(ts)\n",
    "diff = compute_1(s1, s2, eps)\n",
    "diff_perc = compute_2(diff)\n",
    "\n",
    "params['ts'] = pd.Timestamp(2019, 1, 1)\n",
    "params['eps'] = 0.01\n",
    "print('diff: {:.3f}'.format(diff.compute().load()))\n",
    "print('diff perc: {:.3f}'.format(diff_perc.compute().load()))"
   ]
  },
  {
   "cell_type": "code",
   "execution_count": 5,
   "metadata": {},
   "outputs": [
    {
     "name": "stderr",
     "output_type": "stream",
     "text": [
      "2020-10-29 17:40:45.451 | INFO     | dutil.pipeline._cached:new_foo:268 - Task load_1_ts2019-01-01 00:00:00_eps0.01.pickle: skip (cache exists)\n",
      "2020-10-29 17:40:45.452 | INFO     | dutil.pipeline._cached:new_foo:268 - Task load_2_ts2019-01-01 00:00:00_eps0.01.pickle: skip (cache exists)\n",
      "2020-10-29 17:40:45.454 | INFO     | dutil.pipeline._cached:new_foo:268 - Task compute_1_ts2019-01-01 00:00:00_eps0.01.pickle: skip (cache exists)\n",
      "2020-10-29 17:40:45.454 | DEBUG    | dutil.pipeline._cached:load:193 - Task compute_1_ts2019-01-01 00:00:00_eps0.01.pickle: data has been loaded from cache\n",
      "2020-10-29 17:40:45.456 | INFO     | dutil.pipeline._cached:new_foo:268 - Task load_1_ts2019-01-01 00:00:00_eps0.01.pickle: skip (cache exists)\n",
      "2020-10-29 17:40:45.456 | INFO     | dutil.pipeline._cached:new_foo:268 - Task load_2_ts2019-01-01 00:00:00_eps0.01.pickle: skip (cache exists)\n",
      "2020-10-29 17:40:45.457 | INFO     | dutil.pipeline._cached:new_foo:268 - Task compute_1_ts2019-01-01 00:00:00_eps0.01.pickle: skip (cache exists)\n",
      "2020-10-29 17:40:45.458 | INFO     | dutil.pipeline._cached:new_foo:268 - Task compute_2_ts2019-01-01 00:00:00_eps0.01.pickle: skip (cache exists)\n",
      "2020-10-29 17:40:45.459 | DEBUG    | dutil.pipeline._cached:load:193 - Task compute_2_ts2019-01-01 00:00:00_eps0.01.pickle: data has been loaded from cache\n"
     ]
    },
    {
     "name": "stdout",
     "output_type": "stream",
     "text": [
      "--- Second run: all data is loaded from cache ---\n",
      "diff: 4.611\n",
      "diff perc: 461.053\n",
      "CPU times: user 8.91 ms, sys: 4.65 ms, total: 13.6 ms\n",
      "Wall time: 9.77 ms\n"
     ]
    }
   ],
   "source": [
    "%%time\n",
    "print('--- Second run: all data is loaded from cache ---')\n",
    "print('diff: {:.3f}'.format(diff.compute().load()))\n",
    "print('diff perc: {:.3f}'.format(diff_perc.compute().load()))"
   ]
  },
  {
   "cell_type": "code",
   "execution_count": null,
   "metadata": {},
   "outputs": [],
   "source": []
  }
 ],
 "metadata": {
  "kernelspec": {
   "display_name": "Python 3",
   "language": "python",
   "name": "python3"
  },
  "language_info": {
   "codemirror_mode": {
    "name": "ipython",
    "version": 3
   },
   "file_extension": ".py",
   "mimetype": "text/x-python",
   "name": "python",
   "nbconvert_exporter": "python",
   "pygments_lexer": "ipython3",
   "version": "3.8.6"
  }
 },
 "nbformat": 4,
 "nbformat_minor": 4
}