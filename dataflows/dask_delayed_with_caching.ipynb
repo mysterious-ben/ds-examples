{
 "cells": [
  {
   "cell_type": "markdown",
   "metadata": {},
   "source": [
    "# Examle: Dask Pipeline with Caching "
   ]
  },
  {
   "cell_type": "markdown",
   "metadata": {},
   "source": [
    "## Setup"
   ]
  },
  {
   "cell_type": "code",
   "execution_count": 1,
   "metadata": {},
   "outputs": [],
   "source": [
    "import time\n",
    "\n",
    "import apipe\n",
    "import dask\n",
    "import numpy as np\n",
    "import pandas as pd\n",
    "from dask import delayed\n",
    "from loguru import logger"
   ]
  },
  {
   "cell_type": "markdown",
   "metadata": {},
   "source": [
    "## Basic dataflow "
   ]
  },
  {
   "cell_type": "code",
   "execution_count": 2,
   "metadata": {},
   "outputs": [],
   "source": [
    "# --- Define a pipeline (no computation is done)\n",
    "@apipe.delayed_cached()\n",
    "def load_1():\n",
    "    time.sleep(2)\n",
    "    df = pd.DataFrame({'a': [1., 2., 2.], 'b': [0.1, np.nan, 0.2]})\n",
    "    logger.info(f'Loaded {len(df)} records')\n",
    "    return df\n",
    "\n",
    "@apipe.delayed_cached()\n",
    "def load_2(timestamp):\n",
    "    assert timestamp > pd.Timestamp(\"2000-01-01\")\n",
    "    time.sleep(2)\n",
    "    df = pd.DataFrame({'a': [0.9, 3., 3.], 'b': [0.001, 1., 0.43]})\n",
    "    logger.info(f'Loaded {len(df)} records')\n",
    "    return df\n",
    "\n",
    "@apipe.delayed_cached()\n",
    "def compute_diff(x, y, eps):\n",
    "    time.sleep(2)\n",
    "    assert x.shape == y.shape\n",
    "    diff = ((x - y).abs() / (y.abs() + eps))\n",
    "    logger.info('Difference is computed')\n",
    "    return diff\n",
    "\n",
    "@apipe.delayed_cached(nout=2)\n",
    "def compute_stats(diff):\n",
    "    diff_mean = diff.mean().mean()\n",
    "    diff_std = diff.std().std()\n",
    "    logger.info('Stats are computed')\n",
    "    return diff_mean, diff_std\n",
    "    \n",
    "ts = pd.Timestamp(2019, 1, 1)\n",
    "eps = 0.01\n",
    "s1 = load_1()\n",
    "s2 = load_2(ts)\n",
    "diff = compute_diff(s1, s2, eps)\n",
    "diff_mean, diff_std = compute_stats(diff)"
   ]
  },
  {
   "cell_type": "code",
   "execution_count": 3,
   "metadata": {},
   "outputs": [
    {
     "name": "stderr",
     "output_type": "stream",
     "text": [
      "2021-12-17 16:36:25.957 | DEBUG    | apipe._cached:new_foo:359 - Cache not found: Meta file is missing: /home/nameless/dev/proj/ds-examples/dataflows/cache/load_1.meta\n",
      "2021-12-17 16:36:25.958 | DEBUG    | apipe._cached:new_foo:359 - Cache not found: Meta file is missing: /home/nameless/dev/proj/ds-examples/dataflows/cache/load_2_2019-01-01 00:00:00.meta\n",
      "2021-12-17 16:36:27.962 | INFO     | __main__:load_2:14 - Loaded 3 records\n",
      "2021-12-17 16:36:27.964 | INFO     | __main__:load_1:6 - Loaded 3 records\n",
      "2021-12-17 16:36:27.966 | DEBUG    | apipe._cached:dump:244 - Task load_2_2019-01-01 00:00:00: data has been saved to cache\n",
      "2021-12-17 16:36:27.967 | DEBUG    | apipe._cached:dump:244 - Task load_1: data has been saved to cache\n",
      "2021-12-17 16:36:27.968 | INFO     | apipe._cached:new_foo:391 - Task load_2_2019-01-01 00:00:00: data has been computed and saved to cache\n",
      "2021-12-17 16:36:27.969 | INFO     | apipe._cached:new_foo:391 - Task load_1: data has been computed and saved to cache\n",
      "2021-12-17 16:36:27.972 | DEBUG    | apipe._cached:__cached_hash__:263 - Task load_1: hash has been computed from data\n",
      "2021-12-17 16:36:27.973 | DEBUG    | apipe._cached:__cached_hash__:263 - Task load_2_2019-01-01 00:00:00: hash has been computed from data\n",
      "2021-12-17 16:36:27.973 | DEBUG    | apipe._cached:new_foo:359 - Cache not found: Meta file is missing: /home/nameless/dev/proj/ds-examples/dataflows/cache/compute_diff_11866620178438019178_9252423425142403179_0.01.meta\n",
      "2021-12-17 16:36:29.977 | INFO     | __main__:compute_diff:22 - Difference is computed\n",
      "2021-12-17 16:36:29.978 | DEBUG    | apipe._cached:dump:244 - Task compute_diff_11866620178438019178_9252423425142403179_0.01: data has been saved to cache\n",
      "2021-12-17 16:36:29.979 | INFO     | apipe._cached:new_foo:391 - Task compute_diff_11866620178438019178_9252423425142403179_0.01: data has been computed and saved to cache\n",
      "2021-12-17 16:36:29.981 | DEBUG    | apipe._cached:__cached_hash__:263 - Task compute_diff_11866620178438019178_9252423425142403179_0.01: hash has been computed from data\n",
      "2021-12-17 16:36:29.982 | DEBUG    | apipe._cached:new_foo:359 - Cache not found: Meta file is missing: /home/nameless/dev/proj/ds-examples/dataflows/cache/compute_stats_15800421005260689483.meta\n",
      "2021-12-17 16:36:29.985 | INFO     | __main__:compute_stats:29 - Stats are computed\n",
      "2021-12-17 16:36:29.986 | DEBUG    | apipe._cached:dump:244 - Task compute_stats_15800421005260689483: data has been saved to cache\n",
      "2021-12-17 16:36:29.987 | INFO     | apipe._cached:new_foo:391 - Task compute_stats_15800421005260689483: data has been computed and saved to cache\n"
     ]
    },
    {
     "name": "stdout",
     "output_type": "stream",
     "text": [
      "diff: mean=2.51 std=4.15\n",
      "CPU times: user 21.6 ms, sys: 16.9 ms, total: 38.5 ms\n",
      "Wall time: 4.03 s\n"
     ]
    }
   ],
   "source": [
    "%%time\n",
    "# --- Compute #1: all computations are run and data is saved to cache\n",
    "_mean, _std = apipe.delayed_compute((diff_mean, diff_std))\n",
    "print(f'diff: mean={_mean:.2f} std={_std:.2f}')"
   ]
  },
  {
   "cell_type": "code",
   "execution_count": 4,
   "metadata": {},
   "outputs": [
    {
     "name": "stderr",
     "output_type": "stream",
     "text": [
      "2021-12-17 16:36:29.998 | INFO     | apipe._cached:new_foo:372 - Task load_1: skip (cache exists)\n",
      "2021-12-17 16:36:29.999 | INFO     | apipe._cached:new_foo:372 - Task load_2_2019-01-01 00:00:00: skip (cache exists)\n",
      "2021-12-17 16:36:30.002 | INFO     | apipe._cached:new_foo:372 - Task compute_diff_11866620178438019178_9252423425142403179_0.01: skip (cache exists)\n",
      "2021-12-17 16:36:30.004 | INFO     | apipe._cached:new_foo:372 - Task compute_stats_15800421005260689483: skip (cache exists)\n",
      "2021-12-17 16:36:30.006 | DEBUG    | apipe._cached:load:228 - Task compute_stats_15800421005260689483: data has been loaded from cache\n"
     ]
    },
    {
     "name": "stdout",
     "output_type": "stream",
     "text": [
      "diff: mean=2.51 std=4.15\n",
      "CPU times: user 14.8 ms, sys: 0 ns, total: 14.8 ms\n",
      "Wall time: 11.7 ms\n"
     ]
    }
   ],
   "source": [
    "%%time\n",
    "# --- Compute #2: Second run: all data is loaded from cache\n",
    "_mean, _std = apipe.delayed_compute((diff_mean, diff_std))\n",
    "print(f'diff: mean={_mean:.2f} std={_std:.2f}')"
   ]
  },
  {
   "cell_type": "markdown",
   "metadata": {},
   "source": [
    "## Dataflow with parameters"
   ]
  },
  {
   "cell_type": "code",
   "execution_count": 5,
   "metadata": {},
   "outputs": [],
   "source": [
    "# --- Define a pipeline (no computation is done)\n",
    "params = apipe.DelayedParameters()\n",
    "eps = params.create(\"eps\", 0.1)\n",
    "ts = params.create(\"ts\", pd.Timestamp(\"2020-10-23\"))\n",
    "\n",
    "@apipe.delayed_cached()\n",
    "def load_1():\n",
    "    time.sleep(2)\n",
    "    df = pd.DataFrame({'a': [1., 2., 2.], 'b': [0.1, np.nan, 0.2]})\n",
    "    logger.info(f'Loaded {len(df)} records')\n",
    "    return df\n",
    "\n",
    "@apipe.delayed_cached()\n",
    "def load_2(timestamp):\n",
    "    assert timestamp > pd.Timestamp(\"2000-01-01\")\n",
    "    time.sleep(2)\n",
    "    df = pd.DataFrame({'a': [0.9, 3., 3.], 'b': [0.001, 1., 0.43]})\n",
    "    logger.info(f'Loaded {len(df)} records')\n",
    "    return df\n",
    "\n",
    "@apipe.delayed_cached()\n",
    "def compute_diff(x, y, eps):\n",
    "    time.sleep(2)\n",
    "    assert x.shape == y.shape\n",
    "    diff = ((x - y).abs() / (y.abs() + eps))\n",
    "    logger.info('Difference is computed')\n",
    "    return diff\n",
    "\n",
    "@apipe.delayed_cached(nout=2)\n",
    "def compute_stats(diff):\n",
    "    diff_mean = diff.mean().mean()\n",
    "    diff_std = diff.std().std()\n",
    "    logger.info('Stats are computed')\n",
    "    return diff_mean, diff_std\n",
    "    \n",
    "s1 = load_1()\n",
    "s2 = load_2(ts)\n",
    "diff = compute_diff(s1, s2, eps)\n",
    "diff_mean, diff_std = compute_stats(diff)\n",
    "\n",
    "\n",
    "# (Alternative way to define parameters)\n",
    "# eps = apipe.DelayedParameter(\"eps\", 0.1)\n",
    "# ts = apipe.DelayedParameter(\"ts\", pd.Timestamp(\"2020-10-23\"))\n",
    "# ...\n",
    "# s2 = load_2(ts())\n",
    "# diff = compute_diff(s1, s2, eps())"
   ]
  },
  {
   "cell_type": "code",
   "execution_count": 6,
   "metadata": {},
   "outputs": [
    {
     "name": "stderr",
     "output_type": "stream",
     "text": [
      "2021-12-17 16:36:30.029 | DEBUG    | apipe._cached:new_foo:359 - Cache not found: Meta file is missing: /home/nameless/dev/proj/ds-examples/dataflows/cache/load_2_2020-10-23 00:00:00.meta\n",
      "2021-12-17 16:36:30.030 | INFO     | apipe._cached:new_foo:372 - Task load_1: skip (cache exists)\n",
      "2021-12-17 16:36:32.033 | INFO     | __main__:load_2:18 - Loaded 3 records\n",
      "2021-12-17 16:36:32.038 | DEBUG    | apipe._cached:dump:244 - Task load_2_2020-10-23 00:00:00: data has been saved to cache\n",
      "2021-12-17 16:36:32.042 | INFO     | apipe._cached:new_foo:391 - Task load_2_2020-10-23 00:00:00: data has been computed and saved to cache\n",
      "2021-12-17 16:36:32.048 | DEBUG    | apipe._cached:__cached_hash__:263 - Task load_2_2020-10-23 00:00:00: hash has been computed from data\n",
      "2021-12-17 16:36:32.050 | DEBUG    | apipe._cached:new_foo:359 - Cache not found: Meta file is missing: /home/nameless/dev/proj/ds-examples/dataflows/cache/compute_diff_11866620178438019178_9252423425142403179_0.1.meta\n",
      "2021-12-17 16:36:32.057 | DEBUG    | apipe._cached:load:228 - Task load_1: data has been loaded from cache\n",
      "2021-12-17 16:36:34.064 | INFO     | __main__:compute_diff:26 - Difference is computed\n",
      "2021-12-17 16:36:34.068 | DEBUG    | apipe._cached:dump:244 - Task compute_diff_11866620178438019178_9252423425142403179_0.1: data has been saved to cache\n",
      "2021-12-17 16:36:34.069 | INFO     | apipe._cached:new_foo:391 - Task compute_diff_11866620178438019178_9252423425142403179_0.1: data has been computed and saved to cache\n",
      "2021-12-17 16:36:34.071 | DEBUG    | apipe._cached:__cached_hash__:263 - Task compute_diff_11866620178438019178_9252423425142403179_0.1: hash has been computed from data\n",
      "2021-12-17 16:36:34.071 | DEBUG    | apipe._cached:new_foo:359 - Cache not found: Meta file is missing: /home/nameless/dev/proj/ds-examples/dataflows/cache/compute_stats_7655155766694278480.meta\n",
      "2021-12-17 16:36:34.074 | INFO     | __main__:compute_stats:33 - Stats are computed\n",
      "2021-12-17 16:36:34.075 | DEBUG    | apipe._cached:dump:244 - Task compute_stats_7655155766694278480: data has been saved to cache\n",
      "2021-12-17 16:36:34.076 | INFO     | apipe._cached:new_foo:391 - Task compute_stats_7655155766694278480: data has been computed and saved to cache\n"
     ]
    },
    {
     "name": "stdout",
     "output_type": "stream",
     "text": [
      "diff: mean=0.48 std=0.18\n",
      "CPU times: user 59.1 ms, sys: 1.71 ms, total: 60.8 ms\n",
      "Wall time: 4.05 s\n"
     ]
    }
   ],
   "source": [
    "%%time\n",
    "# --- Compute #1: all computations are run and data is saved to cache\n",
    "_mean, _std = apipe.delayed_compute((diff_mean, diff_std))\n",
    "print(f'diff: mean={_mean:.2f} std={_std:.2f}')"
   ]
  },
  {
   "cell_type": "code",
   "execution_count": 7,
   "metadata": {},
   "outputs": [
    {
     "name": "stderr",
     "output_type": "stream",
     "text": [
      "2021-12-17 16:36:34.084 | INFO     | apipe._cached:new_foo:372 - Task load_2_2020-10-23 00:00:00: skip (cache exists)\n",
      "2021-12-17 16:36:34.085 | INFO     | apipe._cached:new_foo:372 - Task load_1: skip (cache exists)\n",
      "2021-12-17 16:36:34.087 | INFO     | apipe._cached:new_foo:372 - Task compute_diff_11866620178438019178_9252423425142403179_0.1: skip (cache exists)\n",
      "2021-12-17 16:36:34.088 | INFO     | apipe._cached:new_foo:372 - Task compute_stats_7655155766694278480: skip (cache exists)\n",
      "2021-12-17 16:36:34.090 | DEBUG    | apipe._cached:load:228 - Task compute_stats_7655155766694278480: data has been loaded from cache\n"
     ]
    },
    {
     "name": "stdout",
     "output_type": "stream",
     "text": [
      "diff: mean=0.48 std=0.18\n",
      "CPU times: user 11.9 ms, sys: 152 µs, total: 12 ms\n",
      "Wall time: 8.6 ms\n"
     ]
    }
   ],
   "source": [
    "%%time\n",
    "# --- Compute #2: Second run: all data is loaded from cache\n",
    "_mean, _std = apipe.delayed_compute((diff_mean, diff_std))\n",
    "print(f'diff: mean={_mean:.2f} std={_std:.2f}')"
   ]
  },
  {
   "cell_type": "code",
   "execution_count": null,
   "metadata": {},
   "outputs": [],
   "source": []
  }
 ],
 "metadata": {
  "kernelspec": {
   "display_name": "Python 3 (ipykernel)",
   "language": "python",
   "name": "python3"
  },
  "language_info": {
   "codemirror_mode": {
    "name": "ipython",
    "version": 3
   },
   "file_extension": ".py",
   "mimetype": "text/x-python",
   "name": "python",
   "nbconvert_exporter": "python",
   "pygments_lexer": "ipython3",
   "version": "3.8.10"
  }
 },
 "nbformat": 4,
 "nbformat_minor": 4
}
