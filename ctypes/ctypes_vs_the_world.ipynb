{
 "cells": [
  {
   "cell_type": "markdown",
   "metadata": {},
   "source": [
    "# Speed-up Python using ctypes\n",
    "\n",
    "**Brief summary:**\n",
    "- Here, not as quick as *numba* and *jax*\n",
    "    - This could be due to implicit type conversion,\n",
    "    - Or lower C code optimization by GCC.\n",
    "- To consider: including of c files in a library might complicate installation."
   ]
  },
  {
   "cell_type": "code",
   "execution_count": 40,
   "metadata": {},
   "outputs": [],
   "source": [
    "import ctypes\n",
    "import os\n",
    "import numpy as np\n",
    "from numba import njit\n",
    "from jax import jit as jjit"
   ]
  },
  {
   "cell_type": "markdown",
   "metadata": {},
   "source": [
    "## Conditional sum"
   ]
  },
  {
   "cell_type": "markdown",
   "metadata": {},
   "source": [
    "### ctypes\n",
    "\n",
    "File: mysum.c \n",
    "\n",
    "\n",
    "```c\n",
    "long long mysum(int n, int* array) {\n",
    "    if (n <= 1) {\n",
    "        return 0;\n",
    "    }\n",
    "    long long res = 0;\n",
    "    for (int i = 0; i < n-1; ++i) {\n",
    "        if (array[i] > array[i+1]) {\n",
    "            res += array[i];\n",
    "        }\n",
    "    }\n",
    "    return res;\n",
    "}\n",
    "```\n",
    "\n",
    "\n",
    "To compile a C shared library:\n",
    "```\n",
    "gcc -fPIC -Wall -Werror -shared -o mysum.so mysum.c\n",
    "```"
   ]
  },
  {
   "cell_type": "code",
   "execution_count": 32,
   "metadata": {},
   "outputs": [
    {
     "name": "stdout",
     "output_type": "stream",
     "text": [
      "3\n"
     ]
    }
   ],
   "source": [
    "mysum = ctypes.cdll.LoadLibrary(os.path.abspath('mysum.so'))\n",
    "\n",
    "mysum.mysum.restype = ctypes.c_longlong\n",
    "mysum.mysum.argtypes = [ctypes.c_int, \n",
    "                        np.ctypeslib.ndpointer(dtype=np.int32)]\n",
    "\n",
    "arr = np.array([1,2,3,2,3], dtype=np.int32)\n",
    "print(mysum.mysum(len(arr), arr))"
   ]
  },
  {
   "cell_type": "code",
   "execution_count": 38,
   "metadata": {},
   "outputs": [
    {
     "name": "stdout",
     "output_type": "stream",
     "text": [
      "1199522\n"
     ]
    }
   ],
   "source": [
    "arr = np.random.choice(5, size=1000000).astype(np.int32)\n",
    "print(mysum.mysum(len(arr), arr))"
   ]
  },
  {
   "cell_type": "code",
   "execution_count": 46,
   "metadata": {},
   "outputs": [
    {
     "name": "stdout",
     "output_type": "stream",
     "text": [
      "4.88 ms ± 119 µs per loop (mean ± std. dev. of 7 runs, 100 loops each)\n"
     ]
    }
   ],
   "source": [
    "%timeit _ = mysum.mysum(len(arr), arr)"
   ]
  },
  {
   "cell_type": "markdown",
   "metadata": {},
   "source": [
    "### python"
   ]
  },
  {
   "cell_type": "code",
   "execution_count": 44,
   "metadata": {},
   "outputs": [
    {
     "name": "stdout",
     "output_type": "stream",
     "text": [
      "1199522\n",
      "295 ms ± 4.16 ms per loop (mean ± std. dev. of 7 runs, 1 loop each)\n"
     ]
    }
   ],
   "source": [
    "def mysumfoo(array):\n",
    "    n = len(array)\n",
    "    if n <= 1:\n",
    "        return 0\n",
    "    res = 0\n",
    "    for i in range(n-1):\n",
    "        if array[i] > array[i+1]:\n",
    "            res += array[i]\n",
    "    return res\n",
    "\n",
    "print(mysumfoo(arr))\n",
    "%timeit _ = mysumfoo(arr)"
   ]
  },
  {
   "cell_type": "markdown",
   "metadata": {},
   "source": [
    "### numba"
   ]
  },
  {
   "cell_type": "code",
   "execution_count": 45,
   "metadata": {},
   "outputs": [
    {
     "name": "stdout",
     "output_type": "stream",
     "text": [
      "151 µs ± 1.86 µs per loop (mean ± std. dev. of 7 runs, 10000 loops each)\n"
     ]
    }
   ],
   "source": [
    "@njit\n",
    "def mysumfoo(array):\n",
    "    n = len(array)\n",
    "    if n <= 1:\n",
    "        return 0\n",
    "    res = 0\n",
    "    for i in range(n-1):\n",
    "        if array[i] > array[i+1]:\n",
    "            res += array[i]\n",
    "    return res\n",
    "\n",
    "mysumfoo(arr)\n",
    "%timeit _ = mysumfoo(arr)"
   ]
  },
  {
   "cell_type": "markdown",
   "metadata": {},
   "source": [
    "### jax"
   ]
  },
  {
   "cell_type": "code",
   "execution_count": 52,
   "metadata": {},
   "outputs": [
    {
     "name": "stdout",
     "output_type": "stream",
     "text": [
      "1199522\n",
      "35.7 µs ± 1.62 µs per loop (mean ± std. dev. of 7 runs, 10000 loops each)\n"
     ]
    }
   ],
   "source": [
    "def mysumfoo(array):\n",
    "    n = len(array)\n",
    "    if n <= 1:\n",
    "        return 0\n",
    "    res = 0\n",
    "    for i in range(n-1):\n",
    "        if array[i] > array[i+1]:\n",
    "            res += array[i]\n",
    "    return res\n",
    "\n",
    "mysumfoo = jjit(mysumfoo, static_argnums=(0,))\n",
    "\n",
    "print(mysumfoo(arr))\n",
    "%timeit _ = mysumfoo(arr)"
   ]
  },
  {
   "cell_type": "code",
   "execution_count": null,
   "metadata": {},
   "outputs": [],
   "source": []
  }
 ],
 "metadata": {
  "kernelspec": {
   "display_name": "Python 3",
   "language": "python",
   "name": "python3"
  },
  "language_info": {
   "codemirror_mode": {
    "name": "ipython",
    "version": 3
   },
   "file_extension": ".py",
   "mimetype": "text/x-python",
   "name": "python",
   "nbconvert_exporter": "python",
   "pygments_lexer": "ipython3",
   "version": "3.8.2"
  }
 },
 "nbformat": 4,
 "nbformat_minor": 4
}
