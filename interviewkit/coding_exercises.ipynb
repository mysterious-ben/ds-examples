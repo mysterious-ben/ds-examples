{
 "cells": [
  {
   "cell_type": "markdown",
   "metadata": {},
   "source": [
    "# Coding Exercises\n",
    "\n",
    "*You may want to revise this before a Data Science coding interview*"
   ]
  },
  {
   "cell_type": "markdown",
   "metadata": {},
   "source": [
    "## Imports and styling"
   ]
  },
  {
   "cell_type": "code",
   "execution_count": 1,
   "metadata": {},
   "outputs": [],
   "source": [
    "import os\n",
    "import sys\n",
    "import io\n",
    "import zipfile\n",
    "import datetime\n",
    "import itertools\n",
    "import functools\n",
    "import collections\n",
    "import cloudpickle\n",
    "import sqlite3\n",
    "import numpy as np\n",
    "import pandas as pd\n",
    "import scipy\n",
    "from loguru import logger\n",
    "# import ipdb\n",
    "\n",
    "from sklearn.base import BaseEstimator, RegressorMixin, TransformerMixin\n",
    "from sklearn.decomposition import PCA\n",
    "from sklearn.compose import ColumnTransformer, TransformedTargetRegressor\n",
    "from sklearn.feature_selection import SelectKBest, RFE, f_regression, mutual_info_regression\n",
    "from sklearn.preprocessing import StandardScaler, MinMaxScaler, PolynomialFeatures, OrdinalEncoder, OneHotEncoder\n",
    "from sklearn.impute import SimpleImputer\n",
    "from sklearn.linear_model import LinearRegression, ElasticNet, LassoLarsCV, RidgeCV, LogisticRegression, LogisticRegression\n",
    "from sklearn.ensemble import GradientBoostingRegressor, GradientBoostingClassifier, RandomForestRegressor, RandomForestClassifier\n",
    "from sklearn.pipeline import Pipeline\n",
    "from sklearn.model_selection import KFold, TimeSeriesSplit, GridSearchCV, train_test_split, cross_val_score\n",
    "from sklearn.metrics import accuracy_score, log_loss, roc_auc_score, confusion_matrix, balanced_accuracy_score, precision_recall_curve\n",
    "from sklearn.metrics import mean_squared_error, mean_absolute_error, r2_score\n",
    "from sklearn.utils import resample, shuffle\n",
    "\n",
    "import statsmodels.api as sm\n",
    "from statsmodels.gam.api import GLMGam, BSplines\n",
    "import lightgbm as lgb\n",
    "import skopt\n",
    "import shap\n",
    "\n",
    "import matplotlib.pyplot as plt\n",
    "import matplotlib.image as mpimg\n",
    "import plotly.graph_objects as go\n",
    "\n",
    "np.random.seed(42**3)"
   ]
  },
  {
   "cell_type": "code",
   "execution_count": 2,
   "metadata": {
    "collapsed": true,
    "jupyter": {
     "outputs_hidden": true
    }
   },
   "outputs": [],
   "source": [
    "logger.remove()\n",
    "logger.add(sys.stderr, format='{time} {level} {line}: {message}', level='DEBUG')\n",
    "\n",
    "plt.style.use('seaborn')\n",
    "plt.rcParams['lines.linewidth'] = 1\n",
    "plt.rcParams['figure.figsize'] = (5, 5)\n",
    "\n",
    "np.set_printoptions(edgeitems=30, linewidth=10000)\n",
    "pd.options.display.max_rows = 200\n",
    "pd.options.display.max_columns = 80\n",
    "pd.options.display.max_colwidth = 100\n",
    "\n",
    "def ht(df, n=2):\n",
    "    display(pd.concat([df.head(n), df.tail(n)]))"
   ]
  },
  {
   "cell_type": "markdown",
   "metadata": {},
   "source": [
    "## Custom models"
   ]
  },
  {
   "cell_type": "code",
   "execution_count": 3,
   "metadata": {
    "collapsed": true,
    "jupyter": {
     "outputs_hidden": true
    }
   },
   "outputs": [],
   "source": [
    "class MinMaxClipper(TransformerMixin, BaseEstimator):\n",
    "    def fit(self, X, y):\n",
    "        self.x_min_ = np.min(X)\n",
    "        self.x_max_ = np.max(X)\n",
    "        return self\n",
    "        \n",
    "    def transform(self, X):\n",
    "        return X.clip(self.x_min_, self.x_max_, axis=1)\n",
    "\n",
    "class FixedGAM(RegressorMixin, BaseEstimator):\n",
    "    def __init__(self, df=5, degree=3, alpha=0.1):\n",
    "        self.df = df\n",
    "        self.degree = degree\n",
    "        self.alpha = alpha\n",
    "    \n",
    "    def fit(self, X, y):\n",
    "        X = np.array(X)\n",
    "        self.x_min_ = np.min(X, axis=0)\n",
    "        self.x_max_ = np.max(X, axis=0)\n",
    "        self.splines_ = BSplines(X, df=[self.df] * X.shape[1], degree=[self.degree] * X.shape[1]) \n",
    "        self.estimator_ = GLMGam(y, X, smoother=self.splines_, alpha=self.alpha)\n",
    "        self.res_ = self.estimator_.fit()\n",
    "        return self\n",
    "    \n",
    "    def predict(self, X):\n",
    "        X = np.clip(X, self.x_min_, self.x_max_)\n",
    "        return self.res_.predict(X, exog_smooth=X)"
   ]
  },
  {
   "cell_type": "markdown",
   "metadata": {},
   "source": [
    "## Utility"
   ]
  },
  {
   "cell_type": "code",
   "execution_count": 4,
   "metadata": {
    "collapsed": true,
    "jupyter": {
     "outputs_hidden": true
    }
   },
   "outputs": [],
   "source": [
    "def _get_value_range(x):\n",
    "    vals = np.array(x.dropna().unique())\n",
    "    if isinstance(vals, np.object) and len(vals) < 10:\n",
    "        return f'{vals}'\n",
    "    else:\n",
    "        return f'{vals.min()} - {vals.max()}'\n",
    "\n",
    "def describe_df(df):\n",
    "    df_nan_rate = df.isnull().sum().rename('nans') / len(df)\n",
    "    df_dtype = df.dtypes\n",
    "    df_values = df.apply(_get_value_range, axis=0)\n",
    "\n",
    "    df_desription = pd.DataFrame({\n",
    "        'nan_rate': df_nan_rate,\n",
    "        'dtype': df_dtype,\n",
    "        'values': df_values,\n",
    "    }).sort_values('nan_rate')\n",
    "    return df_desription"
   ]
  },
  {
   "cell_type": "markdown",
   "metadata": {},
   "source": [
    "# Hackerrank: Laptop Charge"
   ]
  },
  {
   "cell_type": "code",
   "execution_count": 11,
   "metadata": {
    "collapsed": true,
    "jupyter": {
     "outputs_hidden": true
    }
   },
   "outputs": [
    {
     "data": {
      "text/html": [
       "<div>\n",
       "<style scoped>\n",
       "    .dataframe tbody tr th:only-of-type {\n",
       "        vertical-align: middle;\n",
       "    }\n",
       "\n",
       "    .dataframe tbody tr th {\n",
       "        vertical-align: top;\n",
       "    }\n",
       "\n",
       "    .dataframe thead th {\n",
       "        text-align: right;\n",
       "    }\n",
       "</style>\n",
       "<table border=\"1\" class=\"dataframe\">\n",
       "  <thead>\n",
       "    <tr style=\"text-align: right;\">\n",
       "      <th></th>\n",
       "      <th>charge</th>\n",
       "      <th>work</th>\n",
       "    </tr>\n",
       "  </thead>\n",
       "  <tbody>\n",
       "    <tr>\n",
       "      <td>19</td>\n",
       "      <td>0.00</td>\n",
       "      <td>0.00</td>\n",
       "    </tr>\n",
       "    <tr>\n",
       "      <td>27</td>\n",
       "      <td>0.02</td>\n",
       "      <td>0.04</td>\n",
       "    </tr>\n",
       "    <tr>\n",
       "      <td>36</td>\n",
       "      <td>9.71</td>\n",
       "      <td>8.00</td>\n",
       "    </tr>\n",
       "    <tr>\n",
       "      <td>59</td>\n",
       "      <td>11.72</td>\n",
       "      <td>8.00</td>\n",
       "    </tr>\n",
       "  </tbody>\n",
       "</table>\n",
       "</div>"
      ],
      "text/plain": [
       "    charge  work\n",
       "19    0.00  0.00\n",
       "27    0.02  0.04\n",
       "36    9.71  8.00\n",
       "59   11.72  8.00"
      ]
     },
     "metadata": {},
     "output_type": "display_data"
    }
   ],
   "source": [
    "df = pd.read_csv('laptop_data.txt', sep=',', header=None, dtype=float, names=['charge', 'work'])\n",
    "df = df.sort_values('charge')\n",
    "ht(df)"
   ]
  },
  {
   "cell_type": "code",
   "execution_count": 24,
   "metadata": {
    "collapsed": true,
    "jupyter": {
     "outputs_hidden": true
    }
   },
   "outputs": [
    {
     "data": {
      "image/png": "[encoded data removed]",
      "text/plain": [
       "<Figure size 432x288 with 1 Axes>"
      ]
     },
     "metadata": {},
     "output_type": "display_data"
    }
   ],
   "source": [
    "_ = df.plot(x='charge', y='work', style='o')"
   ]
  },
  {
   "cell_type": "markdown",
   "metadata": {},
   "source": [
    "# Hackerrank: The Best Aptitude Test"
   ]
  },
  {
   "cell_type": "code",
   "execution_count": 39,
   "metadata": {
    "collapsed": true,
    "jupyter": {
     "outputs_hidden": true
    }
   },
   "outputs": [
    {
     "name": "stdout",
     "output_type": "stream",
     "text": [
      "['input/', 'input/input01.txt', 'output/', 'output/output01.txt']\n"
     ]
    },
    {
     "data": {
      "text/plain": [
       "0    7.5\n",
       "1    7.7\n",
       "2    7.9\n",
       "3    8.1\n",
       "4    8.3\n",
       "dtype: float64"
      ]
     },
     "metadata": {},
     "output_type": "display_data"
    },
    {
     "data": {
      "text/html": [
       "<div>\n",
       "<style scoped>\n",
       "    .dataframe tbody tr th:only-of-type {\n",
       "        vertical-align: middle;\n",
       "    }\n",
       "\n",
       "    .dataframe tbody tr th {\n",
       "        vertical-align: top;\n",
       "    }\n",
       "\n",
       "    .dataframe thead th {\n",
       "        text-align: right;\n",
       "    }\n",
       "</style>\n",
       "<table border=\"1\" class=\"dataframe\">\n",
       "  <thead>\n",
       "    <tr style=\"text-align: right;\">\n",
       "      <th></th>\n",
       "      <th>0</th>\n",
       "      <th>1</th>\n",
       "      <th>2</th>\n",
       "      <th>3</th>\n",
       "      <th>4</th>\n",
       "    </tr>\n",
       "  </thead>\n",
       "  <tbody>\n",
       "    <tr>\n",
       "      <td>0</td>\n",
       "      <td>10.0</td>\n",
       "      <td>11.0</td>\n",
       "      <td>21.0</td>\n",
       "      <td>91.0</td>\n",
       "      <td>81.0</td>\n",
       "    </tr>\n",
       "    <tr>\n",
       "      <td>1</td>\n",
       "      <td>30.0</td>\n",
       "      <td>9.0</td>\n",
       "      <td>9.0</td>\n",
       "      <td>9.0</td>\n",
       "      <td>99.0</td>\n",
       "    </tr>\n",
       "    <tr>\n",
       "      <td>2</td>\n",
       "      <td>20.0</td>\n",
       "      <td>5.0</td>\n",
       "      <td>15.0</td>\n",
       "      <td>75.0</td>\n",
       "      <td>55.0</td>\n",
       "    </tr>\n",
       "    <tr>\n",
       "      <td>3</td>\n",
       "      <td>40.0</td>\n",
       "      <td>19.0</td>\n",
       "      <td>19.0</td>\n",
       "      <td>19.0</td>\n",
       "      <td>59.0</td>\n",
       "    </tr>\n",
       "    <tr>\n",
       "      <td>4</td>\n",
       "      <td>50.0</td>\n",
       "      <td>29.0</td>\n",
       "      <td>39.0</td>\n",
       "      <td>89.0</td>\n",
       "      <td>89.0</td>\n",
       "    </tr>\n",
       "  </tbody>\n",
       "</table>\n",
       "</div>"
      ],
      "text/plain": [
       "      0     1     2     3     4\n",
       "0  10.0  11.0  21.0  91.0  81.0\n",
       "1  30.0   9.0   9.0   9.0  99.0\n",
       "2  20.0   5.0  15.0  75.0  55.0\n",
       "3  40.0  19.0  19.0  19.0  59.0\n",
       "4  50.0  29.0  39.0  89.0  89.0"
      ]
     },
     "metadata": {},
     "output_type": "display_data"
    },
    {
     "data": {
      "image/png": "[encoded data removed]",
      "text/plain": [
       "<Figure size 288x288 with 1 Axes>"
      ]
     },
     "metadata": {},
     "output_type": "display_data"
    },
    {
     "data": {
      "image/png": "[encoded data removed]",
      "text/plain": [
       "<Figure size 288x288 with 1 Axes>"
      ]
     },
     "metadata": {},
     "output_type": "display_data"
    },
    {
     "data": {
      "image/png": "[encoded data removed]",
      "text/plain": [
       "<Figure size 288x288 with 1 Axes>"
      ]
     },
     "metadata": {},
     "output_type": "display_data"
    },
    {
     "data": {
      "image/png": "[encoded data removed]",
      "text/plain": [
       "<Figure size 288x288 with 1 Axes>"
      ]
     },
     "metadata": {},
     "output_type": "display_data"
    },
    {
     "data": {
      "image/png": "[encoded data removed]",
      "text/plain": [
       "<Figure size 288x288 with 1 Axes>"
      ]
     },
     "metadata": {},
     "output_type": "display_data"
    }
   ],
   "source": [
    "with zipfile.ZipFile('the-best-aptitude-test-testcases.zip') as z:\n",
    "    print(z.namelist())\n",
    "    with z.open('input/input01.txt') as f:\n",
    "        inp = f.read()\n",
    "inp = [x.split() for x in inp.decode().split('\\n')[2:]]\n",
    "y = pd.Series(inp[0], dtype=float)\n",
    "X = pd.DataFrame(inp[1:], dtype=float).T\n",
    "display(y)\n",
    "display(X)\n",
    "\n",
    "for i, row in X.iterrows():\n",
    "    pd.Series(y.values, index=row.values).to_frame().plot(lw=1, title=i, style='o', figsize=(4, 4))"
   ]
  },
  {
   "cell_type": "code",
   "execution_count": 40,
   "metadata": {
    "collapsed": true,
    "jupyter": {
     "outputs_hidden": true
    }
   },
   "outputs": [
    {
     "name": "stdout",
     "output_type": "stream",
     "text": [
      "1\n"
     ]
    }
   ],
   "source": [
    "correlations = []\n",
    "for i, row in X.T.iterrows():\n",
    "    correlations.append(np.corrcoef(y, row)[0, 1])\n",
    "print(correlations.index(max(correlations))+1)"
   ]
  },
  {
   "cell_type": "code",
   "execution_count": 41,
   "metadata": {
    "collapsed": true,
    "jupyter": {
     "outputs_hidden": true
    }
   },
   "outputs": [
    {
     "name": "stdout",
     "output_type": "stream",
     "text": [
      "1\n"
     ]
    }
   ],
   "source": [
    "t = RFE(LinearRegression(), n_features_to_select=1)\n",
    "t.fit(X, y)\n",
    "print(np.argmin(t.ranking_)+1)"
   ]
  },
  {
   "cell_type": "markdown",
   "metadata": {},
   "source": [
    "# Kojino: Vector Assignments"
   ]
  },
  {
   "cell_type": "code",
   "execution_count": 6,
   "metadata": {
    "collapsed": true,
    "jupyter": {
     "outputs_hidden": true
    }
   },
   "outputs": [],
   "source": [
    "# [0, 1] -> \n",
    "#     [0], [1]\n",
    "#     [1], [0]\n",
    "# [0, 1, 2, 3] -> \n",
    "#     [0, 1], [2, 3]\n",
    "#     [0, 2], [1, 3]\n",
    "#     [0, 3], [1, 2]\n",
    "#     [1, 2], [0, 3]\n",
    "#     [1, 3], [0, 2]\n",
    "#     [2, 3], [0, 1]"
   ]
  },
  {
   "cell_type": "code",
   "execution_count": 43,
   "metadata": {
    "collapsed": true,
    "jupyter": {
     "outputs_hidden": true
    }
   },
   "outputs": [
    {
     "name": "stdout",
     "output_type": "stream",
     "text": [
      "[2 3] [0 1]\n",
      "[1 3] [0 2]\n",
      "[1 2] [0 3]\n",
      "[0 3] [1 2]\n",
      "[0 2] [1 3]\n",
      "[0 1] [2 3]\n"
     ]
    }
   ],
   "source": [
    "n = 4\n",
    "assert n % 2 == 0\n",
    "\n",
    "k = n // 2\n",
    "samples = np.arange(n)\n",
    "for i in range(2**n):\n",
    "    b = bin(i)[2:].zfill(n)\n",
    "#     print('.', b)\n",
    "    if b.count('1') == k:\n",
    "        idx1 = np.array(list(b), dtype=int).astype(bool)\n",
    "        print(samples[idx1], samples[~idx1])"
   ]
  },
  {
   "cell_type": "markdown",
   "metadata": {},
   "source": [
    "# Kojino: Sqare root"
   ]
  },
  {
   "cell_type": "code",
   "execution_count": 4,
   "metadata": {
    "collapsed": true,
    "jupyter": {
     "outputs_hidden": true
    }
   },
   "outputs": [
    {
     "data": {
      "text/plain": [
       "      converged: True\n",
       "           flag: 'converged'\n",
       " function_calls: 7\n",
       "     iterations: 6\n",
       "           root: 1.4142135623730951"
      ]
     },
     "execution_count": 4,
     "metadata": {},
     "output_type": "execute_result"
    }
   ],
   "source": [
    "num = 2\n",
    "scipy.optimize.root_scalar(lambda x: x**2 - num, x0=1, x1=1.1, method='secant')"
   ]
  },
  {
   "cell_type": "code",
   "execution_count": 5,
   "metadata": {
    "collapsed": true,
    "jupyter": {
     "outputs_hidden": true
    }
   },
   "outputs": [
    {
     "name": "stderr",
     "output_type": "stream",
     "text": [
      "2020-03-09 20:20:33.803 | DEBUG    | __main__:secant_root_finder:11 - count = 3\n",
      "2020-03-09T20:20:33.803113+0000 DEBUG: count = 3\n"
     ]
    },
    {
     "data": {
      "text/plain": [
       "1.4140510503175379"
      ]
     },
     "execution_count": 5,
     "metadata": {},
     "output_type": "execute_result"
    }
   ],
   "source": [
    "# 0 = f(x1) = f(x0) + f'(x0) * (x1-x0) => x1 = x0 - f(x0)/f'(x0)\n",
    "\n",
    "def secant_root_finder(f, x0, x1, eps=0.001, max_iter=15):\n",
    "    count = 0\n",
    "    f0 = f(x0)\n",
    "    f1 = f(x1)\n",
    "    while (abs(f1) > eps) and (count < max_iter):\n",
    "        x0, x1 = x1, x1 - f1 * (x1 - x0) / (f1 - f0)\n",
    "        f0, f1 = f1, f(x1)\n",
    "        count += 1\n",
    "    logger.debug(f'count = {count}')\n",
    "    return x1\n",
    "\n",
    "secant_root_finder(lambda x: x**2 - num, x0=1, x1=1.1)"
   ]
  },
  {
   "cell_type": "markdown",
   "metadata": {},
   "source": [
    "# Kojino: Outliers"
   ]
  },
  {
   "cell_type": "code",
   "execution_count": 55,
   "metadata": {
    "collapsed": true,
    "jupyter": {
     "outputs_hidden": true
    }
   },
   "outputs": [
    {
     "data": {
      "image/png": "[encoded data removed]",
      "text/plain": [
       "<Figure size 864x216 with 4 Axes>"
      ]
     },
     "metadata": {},
     "output_type": "display_data"
    }
   ],
   "source": [
    "fig, ax = plt.subplots(1, 4, sharex=False, figsize=(12, 3))\n",
    "\n",
    "# arr = np.random.standard_cauchy(100)\n",
    "distr_mask=np.random.choice([1, 0], p=[0.9, 0.1], size=100)\n",
    "arr = np.random.normal(scale=1, size=100) * distr_mask + np.random.normal(scale=10, size=100) * np.logical_not(distr_mask)\n",
    "_ = ax[0].hist(arr, bins=50)\n",
    "\n",
    "arr1 = arr[np.argsort(np.abs(arr))[:-10]]\n",
    "_ = ax[1].hist(arr1, bins=50)\n",
    "\n",
    "arr2 = arr[np.abs(arr) < 10]\n",
    "_ = ax[2].hist(arr1, bins=50)\n",
    "\n",
    "arr3 = arr[scipy.stats.zscore(arr) < 3]\n",
    "_ = ax[3].hist(arr2, bins=50)"
   ]
  },
  {
   "cell_type": "markdown",
   "metadata": {},
   "source": [
    "# Toptal: Quicksort"
   ]
  },
  {
   "cell_type": "code",
   "execution_count": 9,
   "metadata": {
    "collapsed": true,
    "jupyter": {
     "outputs_hidden": true
    }
   },
   "outputs": [
    {
     "name": "stderr",
     "output_type": "stream",
     "text": [
      "2020-03-10T20:20:20.530795+0000 DEBUG 6: [3, 4, 1, 1, 42, -4]\n",
      "2020-03-10T20:20:20.531794+0000 DEBUG 6: [1, 1, -4]\n",
      "2020-03-10T20:20:20.532795+0000 DEBUG 6: [-4]\n",
      "2020-03-10T20:20:20.533795+0000 DEBUG 6: [1]\n",
      "2020-03-10T20:20:20.534793+0000 DEBUG 6: [42, 4]\n"
     ]
    },
    {
     "name": "stdout",
     "output_type": "stream",
     "text": [
      "[-4, 1, 1, 3, 4, 42]\n"
     ]
    }
   ],
   "source": [
    "# [3, 4, 1, 1, 42, -4] => [-4, 1, 1, 3, 4, 42]\n",
    "\n",
    "def quick_sort(a, i=0, j=None):\n",
    "    if j is None:\n",
    "        j = len(a)-1\n",
    "    logger.debug(a[i: j+1])\n",
    "    if j-i < 1:\n",
    "        pass\n",
    "    elif j-i == 1:\n",
    "        if a[i] > a[j]:\n",
    "            a[i], a[j] = a[j], a[i]\n",
    "    else:\n",
    "        pv = a[i]\n",
    "        cidx = i\n",
    "        for ind in range(i+1, j+1):\n",
    "            if a[ind] < pv:\n",
    "                a[cidx], a[cidx+1], a[ind] = a[ind], pv, a[cidx+1]\n",
    "                cidx += 1\n",
    "        quick_sort(a, i, cidx-1)\n",
    "        quick_sort(a, cidx+1, j)\n",
    "        \n",
    "arr = [3, 4, 1, 1, 42, -4]\n",
    "quick_sort(arr)\n",
    "print(arr)"
   ]
  },
  {
   "cell_type": "markdown",
   "metadata": {},
   "source": [
    "# Random ML: Linear Regression"
   ]
  },
  {
   "cell_type": "code",
   "execution_count": 9,
   "metadata": {
    "collapsed": true,
    "jupyter": {
     "outputs_hidden": true
    },
    "scrolled": true
   },
   "outputs": [
    {
     "name": "stdout",
     "output_type": "stream",
     "text": [
      "[ 1.00623129  1.98369705 -2.00640157]\n",
      "0.008251081288529258\n"
     ]
    }
   ],
   "source": [
    "class CustomLR(RegressorMixin, BaseEstimator):\n",
    "    def __init__(self):\n",
    "        pass\n",
    "    \n",
    "    def fit(self, X, y):\n",
    "        # y = X*b + e\n",
    "        # (y - X*b) ^ 2 -> min  =>  -2*X_T * (y - X*b) = 0  =>  X_T*y = X_T*X*b  =>  b = (X_T*X)^(-1) * X_T * y\n",
    "        X = np.array(X)\n",
    "        y = np.array(y)\n",
    "        assert len(X.shape) == 2\n",
    "        assert len(y.shape) == 1\n",
    "        self.coef_ = scipy.linalg.solve(np.dot(X.T, X), np.dot(X.T, y))\n",
    "#         self.coef_ = scipy.linalg.lstsq(X, y)[0]\n",
    "        return self\n",
    "        \n",
    "    def predict(self, X):\n",
    "        X = np.array(X)\n",
    "        assert len(X.shape) == 2\n",
    "        return np.dot(X, self.coef_)\n",
    "    \n",
    "    \n",
    "X = np.random.normal(size=(100, 3))\n",
    "y = X[:, 0] + 2*X[:, 1] - 2*X[:, 2] + np.random.normal(scale=0.1, size=100)\n",
    "\n",
    "m = CustomLR()\n",
    "m.fit(X, y)\n",
    "y_hat = m.predict(X)\n",
    "print(m.coef_)\n",
    "print(mean_squared_error(y, y_hat))"
   ]
  },
  {
   "cell_type": "markdown",
   "metadata": {},
   "source": [
    "# Random ML: Stats"
   ]
  },
  {
   "cell_type": "code",
   "execution_count": 23,
   "metadata": {
    "collapsed": true,
    "jupyter": {
     "outputs_hidden": true
    }
   },
   "outputs": [
    {
     "name": "stdout",
     "output_type": "stream",
     "text": [
      "cov 4.0\n",
      "corr 1.0\n"
     ]
    }
   ],
   "source": [
    "# - covariance and correlation\n",
    "\n",
    "a = np.array([1, 1, -1, -1])\n",
    "b =  np.array([4, 4, -4, -4])\n",
    "cov = np.mean((a - a.mean()) * (b - b.mean()))\n",
    "corr = cov / np.sqrt(np.mean((a - a.mean()) ** 2)) / np.sqrt(np.mean((b - b.mean()) ** 2))\n",
    "print('cov', cov.round(3))\n",
    "print('corr', corr.round(3))"
   ]
  },
  {
   "cell_type": "code",
   "execution_count": 91,
   "metadata": {
    "collapsed": true,
    "jupyter": {
     "outputs_hidden": true
    }
   },
   "outputs": [
    {
     "name": "stdout",
     "output_type": "stream",
     "text": [
      "t-test pval for equal means =  0.5858332297333354\n",
      "MC simulation proba for mean diff less than 0.1 = 0.953\n"
     ]
    },
    {
     "data": {
      "image/png": "[encoded data removed]",
      "text/plain": [
       "<Figure size 360x360 with 1 Axes>"
      ]
     },
     "metadata": {},
     "output_type": "display_data"
    }
   ],
   "source": [
    "# - t-test and monte-carlo for sample means\n",
    "\n",
    "a = np.random.normal(0, 1, size=1000)\n",
    "b = np.random.normal(0, 1, size=1000)\n",
    "\n",
    "tstat, tpval = scipy.stats.ttest_ind(a, b, equal_var=False)\n",
    "print('t-test pval for equal means = ', tpval)\n",
    "\n",
    "n = 1000\n",
    "a_b_mean_diff = []\n",
    "for i in range(n):\n",
    "    a_mean = np.mean(np.random.choice(a, size=len(a), replace=True))\n",
    "    b_mean = np.mean(np.random.choice(b, size=len(b), replace=True))\n",
    "    a_b_mean_diff.append(a_mean-b_mean)\n",
    "a_b_mean_diff = np.array(sorted(a_b_mean_diff))\n",
    "_ = plt.hist(a_b_mean_diff, bins=20)\n",
    "ci = 0.1\n",
    "print(f'MC simulation proba for mean diff less than {ci} = {np.sum(np.abs(a_b_mean_diff) < ci) / len(a_b_mean_diff)}')"
   ]
  },
  {
   "cell_type": "markdown",
   "metadata": {},
   "source": [
    "# Workera: Dataset stats"
   ]
  },
  {
   "cell_type": "code",
   "execution_count": 120,
   "metadata": {
    "collapsed": true,
    "jupyter": {
     "outputs_hidden": true
    }
   },
   "outputs": [
    {
     "data": {
      "text/html": [
       "<div>\n",
       "<style scoped>\n",
       "    .dataframe tbody tr th:only-of-type {\n",
       "        vertical-align: middle;\n",
       "    }\n",
       "\n",
       "    .dataframe tbody tr th {\n",
       "        vertical-align: top;\n",
       "    }\n",
       "\n",
       "    .dataframe thead th {\n",
       "        text-align: right;\n",
       "    }\n",
       "</style>\n",
       "<table border=\"1\" class=\"dataframe\">\n",
       "  <thead>\n",
       "    <tr style=\"text-align: right;\">\n",
       "      <th></th>\n",
       "      <th>a</th>\n",
       "      <th>b</th>\n",
       "      <th>c</th>\n",
       "      <th>d</th>\n",
       "    </tr>\n",
       "  </thead>\n",
       "  <tbody>\n",
       "    <tr>\n",
       "      <td>0</td>\n",
       "      <td>0</td>\n",
       "      <td>0</td>\n",
       "      <td>0.000000</td>\n",
       "      <td>-0.709352</td>\n",
       "    </tr>\n",
       "    <tr>\n",
       "      <td>1</td>\n",
       "      <td>1</td>\n",
       "      <td>1</td>\n",
       "      <td>0.002770</td>\n",
       "      <td>2.708759</td>\n",
       "    </tr>\n",
       "    <tr>\n",
       "      <td>18</td>\n",
       "      <td>18</td>\n",
       "      <td>18</td>\n",
       "      <td>0.897507</td>\n",
       "      <td>38.818736</td>\n",
       "    </tr>\n",
       "    <tr>\n",
       "      <td>19</td>\n",
       "      <td>19</td>\n",
       "      <td>19</td>\n",
       "      <td>1.000000</td>\n",
       "      <td>43.879562</td>\n",
       "    </tr>\n",
       "  </tbody>\n",
       "</table>\n",
       "</div>"
      ],
      "text/plain": [
       "     a   b         c          d\n",
       "0    0   0  0.000000  -0.709352\n",
       "1    1   1  0.002770   2.708759\n",
       "18  18  18  0.897507  38.818736\n",
       "19  19  19  1.000000  43.879562"
      ]
     },
     "metadata": {},
     "output_type": "display_data"
    },
    {
     "data": {
      "text/html": [
       "<div>\n",
       "<style scoped>\n",
       "    .dataframe tbody tr th:only-of-type {\n",
       "        vertical-align: middle;\n",
       "    }\n",
       "\n",
       "    .dataframe tbody tr th {\n",
       "        vertical-align: top;\n",
       "    }\n",
       "\n",
       "    .dataframe thead th {\n",
       "        text-align: right;\n",
       "    }\n",
       "</style>\n",
       "<table border=\"1\" class=\"dataframe\">\n",
       "  <thead>\n",
       "    <tr style=\"text-align: right;\">\n",
       "      <th></th>\n",
       "      <th>a</th>\n",
       "      <th>b</th>\n",
       "      <th>c</th>\n",
       "      <th>d</th>\n",
       "    </tr>\n",
       "  </thead>\n",
       "  <tbody>\n",
       "    <tr>\n",
       "      <td>mean</td>\n",
       "      <td>9.50000</td>\n",
       "      <td>9.50000</td>\n",
       "      <td>0.342105</td>\n",
       "      <td>20.641497</td>\n",
       "    </tr>\n",
       "    <tr>\n",
       "      <td>median</td>\n",
       "      <td>9.50000</td>\n",
       "      <td>9.50000</td>\n",
       "      <td>0.250693</td>\n",
       "      <td>19.132547</td>\n",
       "    </tr>\n",
       "    <tr>\n",
       "      <td>var</td>\n",
       "      <td>35.00000</td>\n",
       "      <td>35.00000</td>\n",
       "      <td>0.104043</td>\n",
       "      <td>179.518623</td>\n",
       "    </tr>\n",
       "    <tr>\n",
       "      <td>std</td>\n",
       "      <td>5.91608</td>\n",
       "      <td>5.91608</td>\n",
       "      <td>0.322557</td>\n",
       "      <td>13.398456</td>\n",
       "    </tr>\n",
       "  </tbody>\n",
       "</table>\n",
       "</div>"
      ],
      "text/plain": [
       "               a         b         c           d\n",
       "mean     9.50000   9.50000  0.342105   20.641497\n",
       "median   9.50000   9.50000  0.250693   19.132547\n",
       "var     35.00000  35.00000  0.104043  179.518623\n",
       "std      5.91608   5.91608  0.322557   13.398456"
      ]
     },
     "metadata": {},
     "output_type": "display_data"
    },
    {
     "data": {
      "text/html": [
       "<div>\n",
       "<style scoped>\n",
       "    .dataframe tbody tr th:only-of-type {\n",
       "        vertical-align: middle;\n",
       "    }\n",
       "\n",
       "    .dataframe tbody tr th {\n",
       "        vertical-align: top;\n",
       "    }\n",
       "\n",
       "    .dataframe thead th {\n",
       "        text-align: right;\n",
       "    }\n",
       "</style>\n",
       "<table border=\"1\" class=\"dataframe\">\n",
       "  <thead>\n",
       "    <tr style=\"text-align: right;\">\n",
       "      <th></th>\n",
       "      <th>a</th>\n",
       "      <th>b</th>\n",
       "      <th>c</th>\n",
       "    </tr>\n",
       "  </thead>\n",
       "  <tbody>\n",
       "    <tr>\n",
       "      <td>a</td>\n",
       "      <td>1.00</td>\n",
       "      <td>1.00</td>\n",
       "      <td>0.97</td>\n",
       "    </tr>\n",
       "    <tr>\n",
       "      <td>b</td>\n",
       "      <td>1.00</td>\n",
       "      <td>1.00</td>\n",
       "      <td>0.97</td>\n",
       "    </tr>\n",
       "    <tr>\n",
       "      <td>c</td>\n",
       "      <td>0.97</td>\n",
       "      <td>0.97</td>\n",
       "      <td>1.00</td>\n",
       "    </tr>\n",
       "  </tbody>\n",
       "</table>\n",
       "</div>"
      ],
      "text/plain": [
       "      a     b     c\n",
       "a  1.00  1.00  0.97\n",
       "b  1.00  1.00  0.97\n",
       "c  0.97  0.97  1.00"
      ]
     },
     "metadata": {},
     "output_type": "display_data"
    },
    {
     "name": "stdout",
     "output_type": "stream",
     "text": [
      "collinear columns: a b 1.0\n"
     ]
    },
    {
     "data": {
      "text/html": [
       "<table class=\"simpletable\">\n",
       "<caption>OLS Regression Results</caption>\n",
       "<tr>\n",
       "  <th>Dep. Variable:</th>            <td>d</td>        <th>  R-squared (uncentered):</th>      <td>   0.999</td>\n",
       "</tr>\n",
       "<tr>\n",
       "  <th>Model:</th>                   <td>OLS</td>       <th>  Adj. R-squared (uncentered):</th> <td>   0.999</td>\n",
       "</tr>\n",
       "<tr>\n",
       "  <th>Method:</th>             <td>Least Squares</td>  <th>  F-statistic:       </th>          <td>   6918.</td>\n",
       "</tr>\n",
       "<tr>\n",
       "  <th>Date:</th>             <td>Sat, 14 Mar 2020</td> <th>  Prob (F-statistic):</th>          <td>1.05e-26</td>\n",
       "</tr>\n",
       "<tr>\n",
       "  <th>Time:</th>                 <td>18:37:02</td>     <th>  Log-Likelihood:    </th>          <td> -25.831</td>\n",
       "</tr>\n",
       "<tr>\n",
       "  <th>No. Observations:</th>      <td>    20</td>      <th>  AIC:               </th>          <td>   55.66</td>\n",
       "</tr>\n",
       "<tr>\n",
       "  <th>Df Residuals:</th>          <td>    18</td>      <th>  BIC:               </th>          <td>   57.65</td>\n",
       "</tr>\n",
       "<tr>\n",
       "  <th>Df Model:</th>              <td>     2</td>      <th>                     </th>              <td> </td>   \n",
       "</tr>\n",
       "<tr>\n",
       "  <th>Covariance Type:</th>      <td>nonrobust</td>    <th>                     </th>              <td> </td>   \n",
       "</tr>\n",
       "</table>\n",
       "<table class=\"simpletable\">\n",
       "<tr>\n",
       "  <td></td>     <th>coef</th>     <th>std err</th>      <th>t</th>      <th>P>|t|</th>  <th>[0.025</th>    <th>0.975]</th>  \n",
       "</tr>\n",
       "<tr>\n",
       "  <th>a</th> <td>    1.9782</td> <td>    0.075</td> <td>   26.442</td> <td> 0.000</td> <td>    1.821</td> <td>    2.135</td>\n",
       "</tr>\n",
       "<tr>\n",
       "  <th>c</th> <td>    5.3734</td> <td>    1.789</td> <td>    3.003</td> <td> 0.008</td> <td>    1.614</td> <td>    9.133</td>\n",
       "</tr>\n",
       "</table>\n",
       "<table class=\"simpletable\">\n",
       "<tr>\n",
       "  <th>Omnibus:</th>       <td> 2.815</td> <th>  Durbin-Watson:     </th> <td>   2.473</td>\n",
       "</tr>\n",
       "<tr>\n",
       "  <th>Prob(Omnibus):</th> <td> 0.245</td> <th>  Jarque-Bera (JB):  </th> <td>   1.295</td>\n",
       "</tr>\n",
       "<tr>\n",
       "  <th>Skew:</th>          <td>-0.575</td> <th>  Prob(JB):          </th> <td>   0.523</td>\n",
       "</tr>\n",
       "<tr>\n",
       "  <th>Kurtosis:</th>      <td> 3.480</td> <th>  Cond. No.          </th> <td>    96.0</td>\n",
       "</tr>\n",
       "</table><br/><br/>Warnings:<br/>[1] Standard Errors assume that the covariance matrix of the errors is correctly specified."
      ],
      "text/plain": [
       "<class 'statsmodels.iolib.summary.Summary'>\n",
       "\"\"\"\n",
       "                                 OLS Regression Results                                \n",
       "=======================================================================================\n",
       "Dep. Variable:                      d   R-squared (uncentered):                   0.999\n",
       "Model:                            OLS   Adj. R-squared (uncentered):              0.999\n",
       "Method:                 Least Squares   F-statistic:                              6918.\n",
       "Date:                Sat, 14 Mar 2020   Prob (F-statistic):                    1.05e-26\n",
       "Time:                        18:37:02   Log-Likelihood:                         -25.831\n",
       "No. Observations:                  20   AIC:                                      55.66\n",
       "Df Residuals:                      18   BIC:                                      57.65\n",
       "Df Model:                           2                                                  \n",
       "Covariance Type:            nonrobust                                                  \n",
       "==============================================================================\n",
       "                 coef    std err          t      P>|t|      [0.025      0.975]\n",
       "------------------------------------------------------------------------------\n",
       "a              1.9782      0.075     26.442      0.000       1.821       2.135\n",
       "c              5.3734      1.789      3.003      0.008       1.614       9.133\n",
       "==============================================================================\n",
       "Omnibus:                        2.815   Durbin-Watson:                   2.473\n",
       "Prob(Omnibus):                  0.245   Jarque-Bera (JB):                1.295\n",
       "Skew:                          -0.575   Prob(JB):                        0.523\n",
       "Kurtosis:                       3.480   Cond. No.                         96.0\n",
       "==============================================================================\n",
       "\n",
       "Warnings:\n",
       "[1] Standard Errors assume that the covariance matrix of the errors is correctly specified.\n",
       "\"\"\""
      ]
     },
     "metadata": {},
     "output_type": "display_data"
    },
    {
     "name": "stdout",
     "output_type": "stream",
     "text": [
      "a    1.978236\n",
      "c    5.373405\n",
      "dtype: float64\n",
      "\n"
     ]
    },
    {
     "data": {
      "text/html": [
       "<div>\n",
       "<style scoped>\n",
       "    .dataframe tbody tr th:only-of-type {\n",
       "        vertical-align: middle;\n",
       "    }\n",
       "\n",
       "    .dataframe tbody tr th {\n",
       "        vertical-align: top;\n",
       "    }\n",
       "\n",
       "    .dataframe thead th {\n",
       "        text-align: right;\n",
       "    }\n",
       "</style>\n",
       "<table border=\"1\" class=\"dataframe\">\n",
       "  <thead>\n",
       "    <tr style=\"text-align: right;\">\n",
       "      <th></th>\n",
       "      <th>a</th>\n",
       "      <th>c</th>\n",
       "    </tr>\n",
       "  </thead>\n",
       "  <tbody>\n",
       "    <tr>\n",
       "      <td>coeffients</td>\n",
       "      <td>1.978236</td>\n",
       "      <td>5.373405</td>\n",
       "    </tr>\n",
       "  </tbody>\n",
       "</table>\n",
       "</div>"
      ],
      "text/plain": [
       "                   a         c\n",
       "coeffients  1.978236  5.373405"
      ]
     },
     "metadata": {},
     "output_type": "display_data"
    },
    {
     "name": "stdout",
     "output_type": "stream",
     "text": [
      "sigma2_hat = 0.91\n",
      "z_score_a = 25.70\n",
      "95% confidence interval a = [1.82, 2.14]\n"
     ]
    }
   ],
   "source": [
    "df = pd.DataFrame({\n",
    "    'a': np.arange(20),\n",
    "    'b': np.arange(20),\n",
    "    'c': np.linspace(0, 1, 20) ** 2,\n",
    "})\n",
    "df['d'] = df['a'] + df['b'] + df['c'] * 5 + np.random.normal(0, 1., size=20)\n",
    "\n",
    "ht(df)\n",
    "display(df.agg(['mean', 'median', 'var', 'std'], axis=0))\n",
    "\n",
    "corr_mtx = df[['a', 'b', 'c']].corr()\n",
    "display(corr_mtx.round(2))\n",
    "for i in range(0, corr_mtx.shape[0]):\n",
    "    for j in range(i+1, corr_mtx.shape[0]):\n",
    "        if corr_mtx.iloc[i, j] > 0.99:\n",
    "            print('collinear columns:', df.columns[i], df.columns[j], corr_mtx.iloc[i, j])\n",
    "df = df.drop(columns='b')\n",
    "\n",
    "# d = a + c + e, e~N(0, sigma2)\n",
    "\n",
    "X = df.drop(columns='d')\n",
    "y = df['d']\n",
    "mres = sm.OLS(y, exog=X).fit()\n",
    "display(mres.summary())\n",
    "# print(mres.params)\n",
    "\n",
    "print()\n",
    "m = LinearRegression(fit_intercept=False)\n",
    "m.fit(X, y)\n",
    "display(pd.Series(m.coef_, index=X.columns).rename('coeffients').to_frame().T)\n",
    "y_hat = m.predict(X)\n",
    "resid = np.array(y) - y_hat\n",
    "sigma2_hat = np.var(resid, ddof=1+X.shape[1])\n",
    "print(f'sigma2_hat = {sigma2_hat:.2f}')\n",
    "a_mean = m.coef_[0]\n",
    "a_std = np.sqrt(sigma2_hat * np.linalg.inv(np.dot(X.T, X))[0, 0])\n",
    "z_score_a = a_mean / a_std\n",
    "print(f'z_score_a = {z_score_a:.2f}')\n",
    "\n",
    "c1_a_t = scipy.stats.t.ppf(0.025, df=20-2-1)\n",
    "c2_a_t = scipy.stats.t.ppf(0.975, df=20-2-1)\n",
    "c1_a = a_mean + c1_a_t * a_std\n",
    "c2_a = a_mean + c2_a_t * a_std\n",
    "print(f'95% confidence interval a = {[c1_a.round(2), c2_a.round(2)]}')"
   ]
  },
  {
   "cell_type": "markdown",
   "metadata": {},
   "source": [
    "# Workera: Confidence interval"
   ]
  },
  {
   "cell_type": "code",
   "execution_count": 109,
   "metadata": {},
   "outputs": [
    {
     "name": "stdout",
     "output_type": "stream",
     "text": [
      "conf interval = [0.16176275 0.50490392]\n",
      "conf interval = [0.16176274710435318, 0.5049039195623135]\n",
      "conf interval = [0.16666666666666666, 0.5]\n"
     ]
    }
   ],
   "source": [
    "n = 30\n",
    "p = 1./3\n",
    "sigma = np.sqrt(p * (1-p) / (n - 1))\n",
    "\n",
    "# - approximate at normal (using CDF inverse)\n",
    "print(f'conf interval = {scipy.stats.norm.ppf([0.025, 0.975], loc=p, scale=sigma)}')\n",
    "\n",
    "# - approximate at normal (using CDF)\n",
    "c1 = scipy.optimize.root_scalar(lambda x: scipy.stats.norm.cdf(x, loc=p, scale=sigma) - 0.025, x0=p, x1=p-0.01, method='secant')\n",
    "c2 = scipy.optimize.root_scalar(lambda x: scipy.stats.norm.cdf(x, loc=p, scale=sigma) - 0.975, x0=p, x1=p+0.01, method='secant')\n",
    "print(f'conf interval = {[c1.root, c2.root]}')\n",
    "\n",
    "# - using MC simulations\n",
    "N = 1000000\n",
    "# arr = np.random.binomial(p=p, n=n, size=N)\n",
    "samples = scipy.stats.binom.rvs(p=p, n=n, size=N) / n\n",
    "samples = np.sort(samples)\n",
    "c1 = samples[int(N*0.025)]\n",
    "c2 = samples[int(N*0.975)]\n",
    "print(f'conf interval = {[c1, c2]}')"
   ]
  },
  {
   "cell_type": "markdown",
   "metadata": {},
   "source": [
    "# Random ML: Logistic Regression"
   ]
  },
  {
   "cell_type": "code",
   "execution_count": 56,
   "metadata": {
    "collapsed": true,
    "jupyter": {
     "outputs_hidden": true
    }
   },
   "outputs": [
    {
     "name": "stdout",
     "output_type": "stream",
     "text": [
      "[14.41409251 10.91095499]\n",
      "0.9\n"
     ]
    }
   ],
   "source": [
    "def deviance(b, X, y, c):\n",
    "    p1 = 1 / (1+np.exp(-X @ b))\n",
    "    loglik = y @ p1 + (1-y) @ (1-p1)\n",
    "    return -2*loglik + c * np.sum(np.abs(b))\n",
    "\n",
    "class CustomLR(RegressorMixin, BaseEstimator):\n",
    "    \"\"\"\n",
    "    log p_i/(1-p_i) = b*x_i <=> p_i = 1 / 1+exp(-b*x_i)\n",
    "                                1-p_i = 1 / 1+exp(b*x_i)\n",
    "\n",
    "    loglikelihood(b) = sum_i log(y_i*p_i + (1-y_i)*(1-p_i))\n",
    "                     = sum_i log(y_i / 1+exp(-b*x_i) + (1-y_i) / 1+exp(b*x_i))\n",
    "    \"\"\"\n",
    "    def __init__(self, c=0.1):\n",
    "        self.c = c\n",
    "    \n",
    "    def fit(self, X, y):\n",
    "        self.res_ = scipy.optimize.minimize(deviance, x0=np.zeros(X.shape[1]), args=(X, y, self.c))\n",
    "        self.coef_ = self.res_.x\n",
    "        return self\n",
    "    \n",
    "    def predict_proba(self, X):\n",
    "        return 1 / (1+np.exp(-X @ self.coef_))\n",
    "    \n",
    "    def predict(self, X):\n",
    "        return (self.predict_proba(X) > 0.5).astype(int)\n",
    "    \n",
    "    \n",
    "X = np.random.normal(0, 1, size=(100, 2))\n",
    "y = (np.sum(X, axis=1) + np.random.normal(0, 0.5, size=100) > 0).astype(int)\n",
    "\n",
    "m = CustomLR()\n",
    "m.fit(X, y)\n",
    "y_hat = m.predict(X)\n",
    "print(m.coef_)\n",
    "print(accuracy_score(y, y_hat))"
   ]
  },
  {
   "cell_type": "code",
   "execution_count": null,
   "metadata": {
    "collapsed": true,
    "jupyter": {
     "outputs_hidden": true
    }
   },
   "outputs": [],
   "source": []
  }
 ],
 "metadata": {
  "kernelspec": {
   "display_name": "Python 3",
   "language": "python",
   "name": "python3"
  },
  "language_info": {
   "codemirror_mode": {
    "name": "ipython",
    "version": 3
   },
   "file_extension": ".py",
   "mimetype": "text/x-python",
   "name": "python",
   "nbconvert_exporter": "python",
   "pygments_lexer": "ipython3",
   "version": "3.7.7"
  }
 },
 "nbformat": 4,
 "nbformat_minor": 4
}
