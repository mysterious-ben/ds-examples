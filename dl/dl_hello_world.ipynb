{
 "cells": [
  {
   "cell_type": "markdown",
   "metadata": {},
   "source": [
    "# Deep Learning Hello World\n",
    "\n",
    "Basic examples for Tensorflow, Pytorch and JAX-based neural networks"
   ]
  },
  {
   "cell_type": "code",
   "execution_count": 1,
   "metadata": {},
   "outputs": [],
   "source": [
    "import numpy as np\n",
    "import pandas as pd\n",
    "from collections import defaultdict\n",
    "from matplotlib import pyplot as plt\n",
    "from tabulate import tabulate\n",
    "from sklearn.metrics import mean_squared_error\n",
    "from sklearn.model_selection import train_test_split\n",
    "\n",
    "from sklearn.linear_model import LinearRegression\n",
    "from lightgbm import LGBMRegressor\n",
    "\n",
    "import tensorflow as tf\n",
    "import torch\n",
    "from torch.utils.data import Dataset, DataLoader\n",
    "import jax\n",
    "from jax import numpy as jnp\n",
    "from jax import jit as jjit\n",
    "import haiku as hk"
   ]
  },
  {
   "cell_type": "markdown",
   "metadata": {},
   "source": [
    "# Feedforward 1: Linear function\n",
    "- 1 hidden layer with ReLU activation\n",
    "- MSE loss\n",
    "- SGD optimization\n",
    "- No minibatch (all data per batch)\n",
    "- Training on CPU"
   ]
  },
  {
   "cell_type": "code",
   "execution_count": 2,
   "metadata": {},
   "outputs": [
    {
     "name": "stdout",
     "output_type": "stream",
     "text": [
      "-------  -------  -------\n",
      "-0.2890   0.6318  -0.0820\n",
      " 0.1550   1.7936  -1.2108\n",
      "-2.0313  -1.3510   0.5432\n",
      "-------  -------  -------\n",
      "-------\n",
      " 0.1092\n",
      " 0.8259\n",
      "-3.0870\n",
      "-------\n"
     ]
    }
   ],
   "source": [
    "n = 100\n",
    "p = 3\n",
    "train_rate = 0.7\n",
    "\n",
    "X = np.random.normal(0, 1, size=(n, p))\n",
    "y = np.sum(X, axis=1) + np.random.normal(0, 0.5, size=n)\n",
    "print(tabulate(X[-3:], floatfmt='.4f'))\n",
    "print(tabulate(y[-3:, np.newaxis], floatfmt='.4f'))\n",
    "\n",
    "n_train = int(n*train_rate)\n",
    "\n",
    "X_train = X[:n_train]\n",
    "y_train = y[:n_train]\n",
    "X_test = X[n_train:]\n",
    "y_test = y[n_train:]"
   ]
  },
  {
   "cell_type": "markdown",
   "metadata": {},
   "source": [
    "## Baseline: Linear Regression"
   ]
  },
  {
   "cell_type": "code",
   "execution_count": 3,
   "metadata": {},
   "outputs": [
    {
     "name": "stdout",
     "output_type": "stream",
     "text": [
      "Train 0.468\n",
      "Test  0.446\n"
     ]
    }
   ],
   "source": [
    "model = LinearRegression()\n",
    "model.fit(X_train, y_train)\n",
    "print(f'Train {np.sqrt(mean_squared_error(y_train, model.predict(X_train))):.3f}')\n",
    "print(f'Test  {np.sqrt(mean_squared_error(y_test, model.predict(X_test))):.3f}')"
   ]
  },
  {
   "cell_type": "markdown",
   "metadata": {},
   "source": [
    "## TF2\n",
    "\n",
    "- https://www.tensorflow.org/tutorials/keras/regression\n",
    "- https://www.tensorflow.org/guide/keras/train_and_evaluate"
   ]
  },
  {
   "cell_type": "code",
   "execution_count": 4,
   "metadata": {},
   "outputs": [
    {
     "name": "stdout",
     "output_type": "stream",
     "text": [
      "Model: \"sequential\"\n",
      "_________________________________________________________________\n",
      "Layer (type)                 Output Shape              Param #   \n",
      "=================================================================\n",
      "dense (Dense)                (None, 3)                 12        \n",
      "_________________________________________________________________\n",
      "dense_1 (Dense)              (None, 1)                 4         \n",
      "=================================================================\n",
      "Total params: 16\n",
      "Trainable params: 16\n",
      "Non-trainable params: 0\n",
      "_________________________________________________________________\n"
     ]
    }
   ],
   "source": [
    "def init_model():\n",
    "    model = tf.keras.models.Sequential([\n",
    "        tf.keras.layers.Dense(p, activation='relu', input_shape=(p,)),\n",
    "        tf.keras.layers.Dense(1),\n",
    "    ])\n",
    "\n",
    "    model.compile(\n",
    "        loss='mse',\n",
    "        optimizer=tf.keras.optimizers.SGD(0.01),\n",
    "        metrics=['mae', 'mse'],\n",
    "    )\n",
    "    \n",
    "    return model\n",
    "\n",
    "model = init_model()\n",
    "model.summary()"
   ]
  },
  {
   "cell_type": "code",
   "execution_count": 5,
   "metadata": {},
   "outputs": [
    {
     "name": "stdout",
     "output_type": "stream",
     "text": [
      "CPU times: user 19 s, sys: 441 ms, total: 19.5 s\n",
      "Wall time: 17.4 s\n"
     ]
    },
    {
     "data": {
      "image/png": "[encoded data removed]",
      "text/plain": [
       "<Figure size 432x288 with 1 Axes>"
      ]
     },
     "metadata": {
      "needs_background": "light"
     },
     "output_type": "display_data"
    }
   ],
   "source": [
    "%%time\n",
    "train_history = model.fit(\n",
    "    X_train, \n",
    "    y_train,\n",
    "    batch_size=n,\n",
    "    epochs=1000, \n",
    "    validation_split=0.2, \n",
    "    verbose=0,\n",
    ")\n",
    "_ = pd.DataFrame(train_history.history)[['loss', 'val_loss']].plot(title='Training score', lw=1)"
   ]
  },
  {
   "cell_type": "code",
   "execution_count": 6,
   "metadata": {},
   "outputs": [
    {
     "name": "stdout",
     "output_type": "stream",
     "text": [
      "Train 0.511\n",
      "Test  0.468\n"
     ]
    }
   ],
   "source": [
    "print(f'Train {np.sqrt(mean_squared_error(y_train, model.predict(X_train))):.3f}')\n",
    "print(f'Test  {np.sqrt(mean_squared_error(y_test, model.predict(X_test))):.3f}')"
   ]
  },
  {
   "cell_type": "code",
   "execution_count": 7,
   "metadata": {},
   "outputs": [
    {
     "data": {
      "image/png": "[encoded data removed]",
      "text/plain": [
       "<Figure size 432x288 with 1 Axes>"
      ]
     },
     "metadata": {
      "needs_background": "light"
     },
     "output_type": "display_data"
    }
   ],
   "source": [
    "# Model variance\n",
    "fig, ax = plt.subplots()\n",
    "\n",
    "for i in range(10):\n",
    "    model = init_model()\n",
    "\n",
    "    train_history = model.fit(\n",
    "        X_train, \n",
    "        y_train,\n",
    "        epochs=1000, \n",
    "        validation_split=0.2, \n",
    "        verbose=0,\n",
    "    )\n",
    "    _ = pd.DataFrame(train_history.history)[['loss', 'val_loss']].plot(\n",
    "        title='Training score', lw=1, ax=ax, \n",
    "        legend=False, color=['blue', 'orange'], alpha=0.3,\n",
    "    )"
   ]
  },
  {
   "cell_type": "markdown",
   "metadata": {},
   "source": [
    "## PyTorch\n",
    "\n",
    "\n",
    "https://towardsdatascience.com/pytorch-tabular-regression-428e9c9ac93"
   ]
  },
  {
   "cell_type": "code",
   "execution_count": 8,
   "metadata": {},
   "outputs": [
    {
     "name": "stdout",
     "output_type": "stream",
     "text": [
      "Sequential(\n",
      "  (0): Linear(in_features=3, out_features=3, bias=True)\n",
      "  (1): ReLU()\n",
      "  (2): Linear(in_features=3, out_features=1, bias=True)\n",
      ")\n"
     ]
    }
   ],
   "source": [
    "def init_model():\n",
    "    model = torch.nn.Sequential(\n",
    "        torch.nn.Linear(p, p),\n",
    "        torch.nn.ReLU(),\n",
    "        torch.nn.Linear(p, 1),\n",
    "    )\n",
    "\n",
    "    optimizer = torch.optim.SGD(model.parameters(), lr=0.01)\n",
    "    loss_func = torch.nn.MSELoss()\n",
    "    \n",
    "    return model, optimizer, loss_func\n",
    "\n",
    "model, optimizer, loss_func = init_model()\n",
    "\n",
    "print(model)"
   ]
  },
  {
   "cell_type": "code",
   "execution_count": 9,
   "metadata": {},
   "outputs": [
    {
     "name": "stdout",
     "output_type": "stream",
     "text": [
      "CPU times: user 293 ms, sys: 17.4 ms, total: 311 ms\n",
      "Wall time: 306 ms\n"
     ]
    },
    {
     "data": {
      "image/png": "[encoded data removed]",
      "text/plain": [
       "<Figure size 432x288 with 1 Axes>"
      ]
     },
     "metadata": {
      "needs_background": "light"
     },
     "output_type": "display_data"
    }
   ],
   "source": [
    "%%time\n",
    "train_history = defaultdict(list)\n",
    "X_train_1, X_train_2, y_train_1, y_train_2 = train_test_split(X_train, y_train, train_size=0.8)\n",
    "inputs = torch.from_numpy(X_train_1).float()\n",
    "outputs = torch.from_numpy(y_train_1[:, np.newaxis]).float()\n",
    "val_inputs = torch.from_numpy(X_train_2).float()\n",
    "val_outputs = torch.from_numpy(y_train_2[:, np.newaxis]).float()\n",
    "\n",
    "for epoch in range(1000):\n",
    "    # zero the parameter gradients\n",
    "    optimizer.zero_grad()\n",
    "\n",
    "    # forward + backward + optimize\n",
    "    outputs_hat = model(inputs)\n",
    "    loss = loss_func(outputs_hat, outputs)\n",
    "    loss.backward()\n",
    "    optimizer.step()\n",
    "    \n",
    "    # save training loss\n",
    "    train_history['loss'].append(loss.item())\n",
    "    \n",
    "    # compute validation loss\n",
    "    with torch.no_grad():\n",
    "        val_outputs_hat = model(val_inputs)\n",
    "        val_loss = loss_func(val_outputs_hat, val_outputs)\n",
    "        train_history['val_loss'].append(val_loss.item())\n",
    "\n",
    "_ = pd.DataFrame(train_history).plot(title='Training score', lw=1, alpha=0.8)"
   ]
  },
  {
   "cell_type": "code",
   "execution_count": 10,
   "metadata": {},
   "outputs": [
    {
     "name": "stdout",
     "output_type": "stream",
     "text": [
      "Train 0.524\n",
      "Test  0.542\n"
     ]
    }
   ],
   "source": [
    "print(f'Train {np.sqrt(mean_squared_error(y_train, model(torch.from_numpy(X_train).float()).detach().numpy())):.3f}')\n",
    "print(f'Test  {np.sqrt(mean_squared_error(y_test, model(torch.from_numpy(X_test).float()).detach().numpy())):.3f}')"
   ]
  },
  {
   "cell_type": "code",
   "execution_count": 11,
   "metadata": {},
   "outputs": [
    {
     "data": {
      "image/png": "[encoded data removed]",
      "text/plain": [
       "<Figure size 432x288 with 1 Axes>"
      ]
     },
     "metadata": {
      "needs_background": "light"
     },
     "output_type": "display_data"
    }
   ],
   "source": [
    "# Model variance\n",
    "fig, ax = plt.subplots()\n",
    "\n",
    "for i in range(10):\n",
    "    model, optimizer, loss_func = init_model()\n",
    "    \n",
    "    train_history = defaultdict(list)\n",
    "    X_train_1, X_train_2, y_train_1, y_train_2 = train_test_split(X_train, y_train, train_size=0.8)\n",
    "    inputs = torch.from_numpy(X_train_1).float()\n",
    "    outputs = torch.from_numpy(y_train_1[:, np.newaxis]).float()\n",
    "    val_inputs = torch.from_numpy(X_train_2).float()\n",
    "    val_outputs = torch.from_numpy(y_train_2[:, np.newaxis]).float()\n",
    "    for epoch in range(1000):\n",
    "        # zero the parameter gradients\n",
    "        optimizer.zero_grad()\n",
    "\n",
    "        # forward + backward + optimize\n",
    "        outputs_hat = model(inputs)\n",
    "        loss = loss_func(outputs_hat, outputs)\n",
    "        loss.backward()\n",
    "        optimizer.step()\n",
    "\n",
    "        # save training loss\n",
    "        train_history['loss'].append(loss.item())\n",
    "\n",
    "        # compute validation loss\n",
    "        with torch.no_grad():\n",
    "            val_outputs_hat = model(val_inputs)\n",
    "            val_loss = loss_func(val_outputs_hat, val_outputs)\n",
    "            train_history['val_loss'].append(val_loss.item())\n",
    "    \n",
    "    _ = pd.DataFrame(train_history)[['loss', 'val_loss']].plot(\n",
    "        title='Training score', lw=1, ax=ax, \n",
    "        legend=False, color=['blue', 'orange'], alpha=0.3,\n",
    "    )\n",
    "    "
   ]
  },
  {
   "cell_type": "markdown",
   "metadata": {},
   "source": [
    "## Haiku\n",
    "\n",
    "- https://github.com/deepmind/dm-haiku\n",
    "- https://github.com/deepmind/dm-haiku/blob/master/examples/mnist.py"
   ]
  },
  {
   "cell_type": "code",
   "execution_count": 12,
   "metadata": {},
   "outputs": [
    {
     "name": "stderr",
     "output_type": "stream",
     "text": [
      "/home/nameless/dev/vfenv/ds/lib/python3.8/site-packages/jax/lib/xla_bridge.py:130: UserWarning: No GPU/TPU found, falling back to CPU.\n",
      "  warnings.warn('No GPU/TPU found, falling back to CPU.')\n"
     ]
    },
    {
     "name": "stdout",
     "output_type": "stream",
     "text": [
      "frozendict({\n",
      "  'linear': frozendict({\n",
      "              'b': DeviceArray([0., 0., 0.], dtype=float32),\n",
      "              'w': DeviceArray([[-0.85853237,  0.12908897, -0.13488792],\n",
      "                                [ 0.24561784, -0.20738742,  0.15554754],\n",
      "                                [-0.06070174,  0.3124922 ,  0.18682341]], dtype=float32),\n",
      "            }),\n",
      "  'linear_1': frozendict({\n",
      "                'b': DeviceArray([0.], dtype=float32),\n",
      "                'w': DeviceArray([[ 0.37143728],\n",
      "                                  [-0.6535752 ],\n",
      "                                  [ 0.5136476 ]], dtype=float32),\n",
      "              }),\n",
      "})\n"
     ]
    }
   ],
   "source": [
    "@jjit\n",
    "def mse(outputs, outputs_hat):\n",
    "    return (outputs-outputs_hat)**2\n",
    "\n",
    "# @jjit\n",
    "def loss_fn(inputs, outputs):\n",
    "    mlp = hk.Sequential([\n",
    "        hk.Linear(p), \n",
    "        jax.nn.relu,\n",
    "        hk.Linear(1),\n",
    "    ])\n",
    "    outputs_hat = mlp(inputs)\n",
    "    return jnp.mean(jnp.mean(mse(outputs, outputs_hat)))\n",
    "\n",
    "# hk.transform allows us to turn this function into a pair of pure functions: init and apply. \n",
    "# All JAX transformations require to pass in a pure function for correct behaviour.\n",
    "# Haiku makes it easy to write them.\n",
    "loss_obj = hk.transform(loss_fn, apply_rng=True)\n",
    "\n",
    "# Initial parameter values are typically random. In JAX you need a key in order\n",
    "# to generate random numbers and so Haiku requires you to pass one in.\n",
    "rng = jax.random.PRNGKey(42)\n",
    "\n",
    "# `init` runs your function, as such we need an example input. Typically you can\n",
    "# pass \"dummy\" inputs (e.g. ones of the same shape and dtype) since initialization\n",
    "# is not usually data dependent.\n",
    "X_train_1, X_train_2, y_train_1, y_train_2 = train_test_split(X_train, y_train, train_size=0.8)\n",
    "X_train_1_ = jnp.asarray(X_train_1)\n",
    "y_train_1_ = jnp.asarray(y_train_1[:, np.newaxis])\n",
    "X_train_2_ = jnp.asarray(X_train_2)\n",
    "y_train_2_ = jnp.asarray(y_train_2[:, np.newaxis])\n",
    "X_test_ = jnp.asarray(X_test)\n",
    "y_test_ = jnp.asarray(y_test[:, np.newaxis])\n",
    "\n",
    "# The result of `init` is a nested data structure of all the parameters in your\n",
    "# network. You can pass this into `apply`.\n",
    "params = loss_obj.init(rng, X_train_1_, y_train_1_)\n",
    "print(params)\n",
    "\n",
    "# Gradient update\n",
    "@jjit\n",
    "def sgd(param, update):\n",
    "    return param - 0.01 * update"
   ]
  },
  {
   "cell_type": "code",
   "execution_count": 13,
   "metadata": {},
   "outputs": [
    {
     "name": "stdout",
     "output_type": "stream",
     "text": [
      "CPU times: user 10.9 s, sys: 836 ms, total: 11.7 s\n",
      "Wall time: 9.38 s\n"
     ]
    },
    {
     "data": {
      "image/png": "[encoded data removed]",
      "text/plain": [
       "<Figure size 432x288 with 1 Axes>"
      ]
     },
     "metadata": {
      "needs_background": "light"
     },
     "output_type": "display_data"
    }
   ],
   "source": [
    "%%time\n",
    "\n",
    "train_history = defaultdict(list)\n",
    "for epoch in range(1000):\n",
    "    # The `apply` function allows you to inject parameter values into your function.\n",
    "#     grads = jax.grad(loss_obj.apply)(params, None, X_train_, y_train_)\n",
    "#     loss = loss_obj.apply(params, None, X_train_, y_train_)\n",
    "    loss, grads = jax.value_and_grad(loss_obj.apply)(params, None, X_train_1_, y_train_1_)\n",
    "    params = jax.tree_multimap(sgd, params, grads)\n",
    "    \n",
    "    # Record train loss\n",
    "    loss = float(jax.device_get(loss))\n",
    "    train_history['loss'].append(loss)\n",
    "    \n",
    "    val_loss = loss_obj.apply(params, None, X_train_2_, y_train_2_)\n",
    "    val_loss = float(jax.device_get(val_loss))\n",
    "    train_history['val_loss'].append(val_loss)\n",
    "    \n",
    "_ = pd.DataFrame(train_history).plot(title='Training score', lw=1, alpha=0.8)"
   ]
  },
  {
   "cell_type": "code",
   "execution_count": 14,
   "metadata": {},
   "outputs": [
    {
     "name": "stdout",
     "output_type": "stream",
     "text": [
      "Train 0.465\n",
      "Test  0.558\n"
     ]
    }
   ],
   "source": [
    "print(f'Train {np.sqrt(loss_obj.apply(params, None, X_train_1_, y_train_1_)):.3f}')\n",
    "print(f'Test  {np.sqrt(loss_obj.apply(params, None, X_test_, y_test_)):.3f}')"
   ]
  },
  {
   "cell_type": "code",
   "execution_count": 15,
   "metadata": {},
   "outputs": [],
   "source": [
    "# Model variance\n",
    "# TODO"
   ]
  },
  {
   "cell_type": "markdown",
   "metadata": {},
   "source": [
    "## Flax\n",
    "\n",
    "https://github.com/google/flax"
   ]
  },
  {
   "cell_type": "code",
   "execution_count": 16,
   "metadata": {},
   "outputs": [],
   "source": [
    "# TODO"
   ]
  },
  {
   "cell_type": "code",
   "execution_count": null,
   "metadata": {},
   "outputs": [],
   "source": []
  },
  {
   "cell_type": "markdown",
   "metadata": {},
   "source": [
    "# Feedforward 2: Non-linear function\n",
    "- 2 hidden layers with ReLU activation\n",
    "- MSE loss\n",
    "- SGD optimization\n",
    "- Minibatch (100 samples)\n",
    "- Training on CPU"
   ]
  },
  {
   "cell_type": "code",
   "execution_count": 17,
   "metadata": {},
   "outputs": [
    {
     "name": "stdout",
     "output_type": "stream",
     "text": [
      "-------  -------  -------\n",
      "-0.4833  -0.2224   0.0823\n",
      "-0.4683   0.5489   0.1506\n",
      "-0.2596   1.0315  -0.6187\n",
      "-------  -------  -------\n",
      "-------\n",
      " 0.7810\n",
      "-0.4119\n",
      "-0.9064\n",
      "-------\n"
     ]
    }
   ],
   "source": [
    "n = 10000\n",
    "p = 3\n",
    "train_rate = 0.7\n",
    "\n",
    "X = np.random.normal(0, 1, size=(n, p))\n",
    "y = np.sum(X[:, :-2] * X[:, 1:-1], axis=1)  + np.random.normal(0, 0.5, size=n)\n",
    "print(tabulate(X[-3:], floatfmt='.4f'))\n",
    "print(tabulate(y[-3:, np.newaxis], floatfmt='.4f'))\n",
    "\n",
    "n_train = int(n*train_rate)\n",
    "\n",
    "X_train = X[:n_train]\n",
    "y_train = y[:n_train]\n",
    "X_test = X[n_train:]\n",
    "y_test = y[n_train:]"
   ]
  },
  {
   "cell_type": "markdown",
   "metadata": {},
   "source": [
    "## Baseline: Gradient Boosting"
   ]
  },
  {
   "cell_type": "code",
   "execution_count": 18,
   "metadata": {},
   "outputs": [
    {
     "name": "stdout",
     "output_type": "stream",
     "text": [
      "Train 0.449\n",
      "Test  0.538\n"
     ]
    }
   ],
   "source": [
    "model = LGBMRegressor(\n",
    "    n_estimators=1000, \n",
    "    min_data_in_leaf=10,\n",
    "    learning_rate=0.01,\n",
    "    objective='regression',\n",
    ")\n",
    "\n",
    "model.fit(X_train, y_train)\n",
    "print(f'Train {np.sqrt(mean_squared_error(y_train, model.predict(X_train))):.3f}')\n",
    "print(f'Test  {np.sqrt(mean_squared_error(y_test, model.predict(X_test))):.3f}')"
   ]
  },
  {
   "cell_type": "markdown",
   "metadata": {},
   "source": [
    "## TF2"
   ]
  },
  {
   "cell_type": "code",
   "execution_count": 19,
   "metadata": {},
   "outputs": [
    {
     "name": "stdout",
     "output_type": "stream",
     "text": [
      "Model: \"sequential_11\"\n",
      "_________________________________________________________________\n",
      "Layer (type)                 Output Shape              Param #   \n",
      "=================================================================\n",
      "dense_22 (Dense)             (None, 3)                 12        \n",
      "_________________________________________________________________\n",
      "dense_23 (Dense)             (None, 10)                40        \n",
      "_________________________________________________________________\n",
      "dense_24 (Dense)             (None, 1)                 11        \n",
      "=================================================================\n",
      "Total params: 63\n",
      "Trainable params: 63\n",
      "Non-trainable params: 0\n",
      "_________________________________________________________________\n",
      "Train 0.514\n",
      "Test  0.539\n",
      "CPU times: user 1min 1s, sys: 5.41 s, total: 1min 6s\n",
      "Wall time: 36.4 s\n"
     ]
    },
    {
     "data": {
      "image/png": "[encoded data removed]",
      "text/plain": [
       "<Figure size 432x288 with 1 Axes>"
      ]
     },
     "metadata": {
      "needs_background": "light"
     },
     "output_type": "display_data"
    }
   ],
   "source": [
    "%%time\n",
    "\n",
    "def init_model():\n",
    "    model = tf.keras.models.Sequential([\n",
    "        tf.keras.layers.Dense(p, activation='relu', input_shape=(p,)),\n",
    "        tf.keras.layers.Dense(10, activation='relu'),\n",
    "        tf.keras.layers.Dense(1),\n",
    "    ])\n",
    "\n",
    "    model.compile(\n",
    "        loss='mse',\n",
    "        optimizer=tf.keras.optimizers.SGD(0.01),\n",
    "        metrics=['mae', 'mse'],\n",
    "    )\n",
    "    \n",
    "    return model\n",
    "\n",
    "model = init_model()\n",
    "model.summary()\n",
    "\n",
    "train_history = model.fit(\n",
    "    X_train, \n",
    "    y_train,\n",
    "    batch_size=100,\n",
    "    epochs=1000, \n",
    "    validation_split=0.2, \n",
    "    verbose=0,\n",
    ")\n",
    "_ = pd.DataFrame(train_history.history)[['loss', 'val_loss']].plot(title='Training score', lw=1)\n",
    "\n",
    "print(f'Train {np.sqrt(mean_squared_error(y_train, model.predict(X_train))):.3f}')\n",
    "print(f'Test  {np.sqrt(mean_squared_error(y_test, model.predict(X_test))):.3f}')"
   ]
  },
  {
   "cell_type": "markdown",
   "metadata": {},
   "source": [
    "## PyTorch"
   ]
  },
  {
   "cell_type": "code",
   "execution_count": 22,
   "metadata": {},
   "outputs": [],
   "source": [
    "class PrepareData(Dataset):\n",
    "    def __init__(self, X, y):\n",
    "        if not torch.is_tensor(X):\n",
    "            X = torch.from_numpy(X).float()\n",
    "        if not torch.is_tensor(y):\n",
    "            y = torch.from_numpy(y[:, np.newaxis]).float()\n",
    "        self.X = X\n",
    "        self.y = y\n",
    "\n",
    "    def __len__(self):\n",
    "        return len(self.X)\n",
    "\n",
    "    def __getitem__(self, idx):\n",
    "        return self.X[idx], self.y[idx]\n",
    "\n",
    "X_train_1, X_train_2, y_train_1, y_train_2 = train_test_split(X_train, y_train, train_size=0.8)\n",
    "train_loader = DataLoader(PrepareData(X_train_1, y=y_train_1), batch_size=100, shuffle=True)\n",
    "val_loader = DataLoader(PrepareData(X_train_1, y=y_train_1), batch_size=100, shuffle=True)\n",
    "test_loader = DataLoader(PrepareData(X_test, y=y_test), batch_size=100, shuffle=True)"
   ]
  },
  {
   "cell_type": "code",
   "execution_count": 23,
   "metadata": {},
   "outputs": [
    {
     "name": "stdout",
     "output_type": "stream",
     "text": [
      "Sequential(\n",
      "  (0): Linear(in_features=3, out_features=3, bias=True)\n",
      "  (1): ReLU()\n",
      "  (2): Linear(in_features=3, out_features=10, bias=True)\n",
      "  (3): ReLU()\n",
      "  (4): Linear(in_features=10, out_features=1, bias=True)\n",
      ")\n",
      "Train 0.565\n",
      "Test  0.585\n",
      "CPU times: user 1min 2s, sys: 289 ms, total: 1min 2s\n",
      "Wall time: 1min 2s\n"
     ]
    },
    {
     "data": {
      "image/png": "[encoded data removed]",
      "text/plain": [
       "<Figure size 432x288 with 1 Axes>"
      ]
     },
     "metadata": {
      "needs_background": "light"
     },
     "output_type": "display_data"
    }
   ],
   "source": [
    "%%time\n",
    "model = torch.nn.Sequential(\n",
    "    torch.nn.Linear(p, p),\n",
    "    torch.nn.ReLU(),\n",
    "    torch.nn.Linear(p, 10),\n",
    "    torch.nn.ReLU(),\n",
    "    torch.nn.Linear(10, 1),\n",
    ")\n",
    "\n",
    "optimizer = torch.optim.SGD(model.parameters(), lr=0.01)\n",
    "loss_func = torch.nn.MSELoss()\n",
    "    \n",
    "print(model)\n",
    "\n",
    "train_history = defaultdict(list)\n",
    "\n",
    "train_data_gen = make_train_data_gen((X_train, y_train), 0.01)\n",
    "\n",
    "for epoch in range(1000):\n",
    "    loss_c = 0\n",
    "    for X_train_batch, y_train_batch in train_loader:\n",
    "        optimizer.zero_grad()\n",
    "        y_train_batch_hat = model(X_train_batch)\n",
    "        loss = loss_func(y_train_batch_hat, y_train_batch)\n",
    "        loss.backward()\n",
    "        optimizer.step()\n",
    "        loss_c += loss.item()\n",
    "    train_history['loss'].append(loss_c/len(train_loader))\n",
    "    \n",
    "    with torch.no_grad():\n",
    "        val_loss_c = 0\n",
    "        for X_val_batch, y_val_batch in val_loader:\n",
    "            y_val_batch_hat = model(X_val_batch)\n",
    "            val_loss = loss_func(y_val_batch_hat, y_val_batch)\n",
    "            val_loss_c += val_loss.item()\n",
    "        train_history['val_loss'].append(val_loss_c/len(val_loader))\n",
    "\n",
    "_ = pd.DataFrame(train_history).plot(title='Training score', lw=1, alpha=0.8)\n",
    "\n",
    "print(f'Train {np.sqrt(mean_squared_error(y_train, model(torch.from_numpy(X_train).float()).detach().numpy())):.3f}')\n",
    "print(f'Test  {np.sqrt(mean_squared_error(y_test, model(torch.from_numpy(X_test).float()).detach().numpy())):.3f}')"
   ]
  },
  {
   "cell_type": "code",
   "execution_count": null,
   "metadata": {},
   "outputs": [],
   "source": []
  }
 ],
 "metadata": {
  "kernelspec": {
   "display_name": "Python 3",
   "language": "python",
   "name": "python3"
  },
  "language_info": {
   "codemirror_mode": {
    "name": "ipython",
    "version": 3
   },
   "file_extension": ".py",
   "mimetype": "text/x-python",
   "name": "python",
   "nbconvert_exporter": "python",
   "pygments_lexer": "ipython3",
   "version": "3.8.2"
  }
 },
 "nbformat": 4,
 "nbformat_minor": 4
}
