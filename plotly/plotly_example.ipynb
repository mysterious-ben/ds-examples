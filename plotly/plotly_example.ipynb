{
 "cells": [
  {
   "cell_type": "markdown",
   "metadata": {},
   "source": [
    "# Interactive Plots with Plotly"
   ]
  },
  {
   "cell_type": "markdown",
   "metadata": {},
   "source": [
    "## Save plot as HTML"
   ]
  },
  {
   "cell_type": "code",
   "execution_count": 1,
   "metadata": {},
   "outputs": [
    {
     "data": {
      "text/html": [
       "<iframe\n",
       "    scrolling=\"no\"\n",
       "    width=\"420px\"\n",
       "    height=\"420\"\n",
       "    src=\"iframe_figures/figure_60.html\"\n",
       "    frameborder=\"0\"\n",
       "    allowfullscreen\n",
       "></iframe>\n"
      ]
     },
     "metadata": {},
     "output_type": "display_data"
    }
   ],
   "source": [
    "import plotly.graph_objects as go\n",
    "\n",
    "fig = go.Figure(data=[go.Bar(x=['SVM', 'GB', 'LR', 'Ad'], y=[2, 1, 3, 5])])\n",
    "fig.update_layout(\n",
    "    title=dict(\n",
    "        text='Sample Bar Plot',\n",
    "        xanchor='center',\n",
    "        x=0.5,\n",
    "        y=0.97,\n",
    "        font=dict(size=24),\n",
    "    ),\n",
    "    width=400,\n",
    "    height=400,\n",
    "    margin=dict(l=30, r=30, b=30, t=40),\n",
    "    template = 'seaborn',\n",
    ")\n",
    "\n",
    "# method 1\n",
    "fig.show(renderer=\"iframe_connected\")"
   ]
  },
  {
   "cell_type": "code",
   "execution_count": 2,
   "metadata": {},
   "outputs": [],
   "source": [
    "# method 2\n",
    "import plotly\n",
    "from IPython.display import HTML\n",
    "\n",
    "plot_div = plotly.offline.plot(fig, include_plotlyjs=False, output_type='div')\n",
    "plot_div = '<script src=\"https://cdn.plot.ly/plotly-latest.min.js\"></script>\\n' + plot_div\n",
    "HTML(plot_div)\n",
    "\n",
    "with open('sample_plot.html', 'wt') as f:\n",
    "    f.write(plot_div)"
   ]
  },
  {
   "cell_type": "code",
   "execution_count": null,
   "metadata": {},
   "outputs": [],
   "source": []
  }
 ],
 "metadata": {
  "kernelspec": {
   "display_name": "Python 3",
   "language": "python",
   "name": "python3"
  },
  "language_info": {
   "codemirror_mode": {
    "name": "ipython",
    "version": 3
   },
   "file_extension": ".py",
   "mimetype": "text/x-python",
   "name": "python",
   "nbconvert_exporter": "python",
   "pygments_lexer": "ipython3",
   "version": "3.8.2"
  }
 },
 "nbformat": 4,
 "nbformat_minor": 4
}
